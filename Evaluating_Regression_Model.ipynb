{
  "nbformat": 4,
  "nbformat_minor": 0,
  "metadata": {
    "colab": {
      "provenance": [],
      "collapsed_sections": [
        "8h787zh1OJn-",
        "RMvg2ecBOY4R",
        "srHweEZ0OsAe",
        "k46V03-4PJ-B",
        "cweeczk-PcEy",
        "8P77faiGPnii",
        "8B_nNXuJPsek",
        "f5a1_ivWP2kn",
        "tDuw3giMQcly",
        "mKSPxYuSQk-Y",
        "ltTCh-IRQsJb"
      ],
      "authorship_tag": "ABX9TyPBIwvV5SyalrM8X2M43tXi",
      "include_colab_link": true
    },
    "kernelspec": {
      "name": "python3",
      "display_name": "Python 3"
    },
    "language_info": {
      "name": "python"
    }
  },
  "cells": [
    {
      "cell_type": "markdown",
      "metadata": {
        "id": "view-in-github",
        "colab_type": "text"
      },
      "source": [
        "<a href=\"https://colab.research.google.com/github/shubhamrai1318/Evaluating_Regression_ModelUsing_RSquared_Adjusted_R_Squared/blob/main/Evaluating_Regression_Model.ipynb\" target=\"_parent\"><img src=\"https://colab.research.google.com/assets/colab-badge.svg\" alt=\"Open In Colab\"/></a>"
      ]
    },
    {
      "cell_type": "markdown",
      "source": [
        "# **Evaluating Regression ModelUsing RSquared & Adjusted R Squared**"
      ],
      "metadata": {
        "id": "_1nI6PucOTCU"
      }
    },
    {
      "cell_type": "markdown",
      "source": [
        "### **Import Libraries**"
      ],
      "metadata": {
        "id": "8h787zh1OJn-"
      }
    },
    {
      "cell_type": "code",
      "source": [
        "import pandas as pd\n",
        "from sklearn.linear_model import LinearRegression\n",
        "import matplotlib.pyplot as plt"
      ],
      "metadata": {
        "id": "PzbPjh_7ONoM"
      },
      "execution_count": 1,
      "outputs": []
    },
    {
      "cell_type": "markdown",
      "source": [
        "### **Load Dataset from Local Directory**"
      ],
      "metadata": {
        "id": "RMvg2ecBOY4R"
      }
    },
    {
      "cell_type": "code",
      "source": [
        "from google.colab import files\n",
        "uploaded = files.upload()"
      ],
      "metadata": {
        "colab": {
          "base_uri": "https://localhost:8080/",
          "height": 73
        },
        "id": "uXUJT6d5Ocgn",
        "outputId": "b97f04a2-9f9d-482c-e157-34c41bd8f8a2"
      },
      "execution_count": 2,
      "outputs": [
        {
          "output_type": "display_data",
          "data": {
            "text/plain": [
              "<IPython.core.display.HTML object>"
            ],
            "text/html": [
              "\n",
              "     <input type=\"file\" id=\"files-183f22f1-b9c9-493f-9a3b-70ea1494443c\" name=\"files[]\" multiple disabled\n",
              "        style=\"border:none\" />\n",
              "     <output id=\"result-183f22f1-b9c9-493f-9a3b-70ea1494443c\">\n",
              "      Upload widget is only available when the cell has been executed in the\n",
              "      current browser session. Please rerun this cell to enable.\n",
              "      </output>\n",
              "      <script>// Copyright 2017 Google LLC\n",
              "//\n",
              "// Licensed under the Apache License, Version 2.0 (the \"License\");\n",
              "// you may not use this file except in compliance with the License.\n",
              "// You may obtain a copy of the License at\n",
              "//\n",
              "//      http://www.apache.org/licenses/LICENSE-2.0\n",
              "//\n",
              "// Unless required by applicable law or agreed to in writing, software\n",
              "// distributed under the License is distributed on an \"AS IS\" BASIS,\n",
              "// WITHOUT WARRANTIES OR CONDITIONS OF ANY KIND, either express or implied.\n",
              "// See the License for the specific language governing permissions and\n",
              "// limitations under the License.\n",
              "\n",
              "/**\n",
              " * @fileoverview Helpers for google.colab Python module.\n",
              " */\n",
              "(function(scope) {\n",
              "function span(text, styleAttributes = {}) {\n",
              "  const element = document.createElement('span');\n",
              "  element.textContent = text;\n",
              "  for (const key of Object.keys(styleAttributes)) {\n",
              "    element.style[key] = styleAttributes[key];\n",
              "  }\n",
              "  return element;\n",
              "}\n",
              "\n",
              "// Max number of bytes which will be uploaded at a time.\n",
              "const MAX_PAYLOAD_SIZE = 100 * 1024;\n",
              "\n",
              "function _uploadFiles(inputId, outputId) {\n",
              "  const steps = uploadFilesStep(inputId, outputId);\n",
              "  const outputElement = document.getElementById(outputId);\n",
              "  // Cache steps on the outputElement to make it available for the next call\n",
              "  // to uploadFilesContinue from Python.\n",
              "  outputElement.steps = steps;\n",
              "\n",
              "  return _uploadFilesContinue(outputId);\n",
              "}\n",
              "\n",
              "// This is roughly an async generator (not supported in the browser yet),\n",
              "// where there are multiple asynchronous steps and the Python side is going\n",
              "// to poll for completion of each step.\n",
              "// This uses a Promise to block the python side on completion of each step,\n",
              "// then passes the result of the previous step as the input to the next step.\n",
              "function _uploadFilesContinue(outputId) {\n",
              "  const outputElement = document.getElementById(outputId);\n",
              "  const steps = outputElement.steps;\n",
              "\n",
              "  const next = steps.next(outputElement.lastPromiseValue);\n",
              "  return Promise.resolve(next.value.promise).then((value) => {\n",
              "    // Cache the last promise value to make it available to the next\n",
              "    // step of the generator.\n",
              "    outputElement.lastPromiseValue = value;\n",
              "    return next.value.response;\n",
              "  });\n",
              "}\n",
              "\n",
              "/**\n",
              " * Generator function which is called between each async step of the upload\n",
              " * process.\n",
              " * @param {string} inputId Element ID of the input file picker element.\n",
              " * @param {string} outputId Element ID of the output display.\n",
              " * @return {!Iterable<!Object>} Iterable of next steps.\n",
              " */\n",
              "function* uploadFilesStep(inputId, outputId) {\n",
              "  const inputElement = document.getElementById(inputId);\n",
              "  inputElement.disabled = false;\n",
              "\n",
              "  const outputElement = document.getElementById(outputId);\n",
              "  outputElement.innerHTML = '';\n",
              "\n",
              "  const pickedPromise = new Promise((resolve) => {\n",
              "    inputElement.addEventListener('change', (e) => {\n",
              "      resolve(e.target.files);\n",
              "    });\n",
              "  });\n",
              "\n",
              "  const cancel = document.createElement('button');\n",
              "  inputElement.parentElement.appendChild(cancel);\n",
              "  cancel.textContent = 'Cancel upload';\n",
              "  const cancelPromise = new Promise((resolve) => {\n",
              "    cancel.onclick = () => {\n",
              "      resolve(null);\n",
              "    };\n",
              "  });\n",
              "\n",
              "  // Wait for the user to pick the files.\n",
              "  const files = yield {\n",
              "    promise: Promise.race([pickedPromise, cancelPromise]),\n",
              "    response: {\n",
              "      action: 'starting',\n",
              "    }\n",
              "  };\n",
              "\n",
              "  cancel.remove();\n",
              "\n",
              "  // Disable the input element since further picks are not allowed.\n",
              "  inputElement.disabled = true;\n",
              "\n",
              "  if (!files) {\n",
              "    return {\n",
              "      response: {\n",
              "        action: 'complete',\n",
              "      }\n",
              "    };\n",
              "  }\n",
              "\n",
              "  for (const file of files) {\n",
              "    const li = document.createElement('li');\n",
              "    li.append(span(file.name, {fontWeight: 'bold'}));\n",
              "    li.append(span(\n",
              "        `(${file.type || 'n/a'}) - ${file.size} bytes, ` +\n",
              "        `last modified: ${\n",
              "            file.lastModifiedDate ? file.lastModifiedDate.toLocaleDateString() :\n",
              "                                    'n/a'} - `));\n",
              "    const percent = span('0% done');\n",
              "    li.appendChild(percent);\n",
              "\n",
              "    outputElement.appendChild(li);\n",
              "\n",
              "    const fileDataPromise = new Promise((resolve) => {\n",
              "      const reader = new FileReader();\n",
              "      reader.onload = (e) => {\n",
              "        resolve(e.target.result);\n",
              "      };\n",
              "      reader.readAsArrayBuffer(file);\n",
              "    });\n",
              "    // Wait for the data to be ready.\n",
              "    let fileData = yield {\n",
              "      promise: fileDataPromise,\n",
              "      response: {\n",
              "        action: 'continue',\n",
              "      }\n",
              "    };\n",
              "\n",
              "    // Use a chunked sending to avoid message size limits. See b/62115660.\n",
              "    let position = 0;\n",
              "    do {\n",
              "      const length = Math.min(fileData.byteLength - position, MAX_PAYLOAD_SIZE);\n",
              "      const chunk = new Uint8Array(fileData, position, length);\n",
              "      position += length;\n",
              "\n",
              "      const base64 = btoa(String.fromCharCode.apply(null, chunk));\n",
              "      yield {\n",
              "        response: {\n",
              "          action: 'append',\n",
              "          file: file.name,\n",
              "          data: base64,\n",
              "        },\n",
              "      };\n",
              "\n",
              "      let percentDone = fileData.byteLength === 0 ?\n",
              "          100 :\n",
              "          Math.round((position / fileData.byteLength) * 100);\n",
              "      percent.textContent = `${percentDone}% done`;\n",
              "\n",
              "    } while (position < fileData.byteLength);\n",
              "  }\n",
              "\n",
              "  // All done.\n",
              "  yield {\n",
              "    response: {\n",
              "      action: 'complete',\n",
              "    }\n",
              "  };\n",
              "}\n",
              "\n",
              "scope.google = scope.google || {};\n",
              "scope.google.colab = scope.google.colab || {};\n",
              "scope.google.colab._files = {\n",
              "  _uploadFiles,\n",
              "  _uploadFilesContinue,\n",
              "};\n",
              "})(self);\n",
              "</script> "
            ]
          },
          "metadata": {}
        },
        {
          "output_type": "stream",
          "name": "stdout",
          "text": [
            "Saving dataset.csv to dataset.csv\n"
          ]
        }
      ]
    },
    {
      "cell_type": "code",
      "source": [
        "# Loading dataset\n",
        "dataset = pd.read_csv('dataset.csv')"
      ],
      "metadata": {
        "id": "H03bu2Z5Oeqo"
      },
      "execution_count": 3,
      "outputs": []
    },
    {
      "cell_type": "markdown",
      "source": [
        "### **Summarizing Dataset**"
      ],
      "metadata": {
        "id": "srHweEZ0OsAe"
      }
    },
    {
      "cell_type": "code",
      "source": [
        "dataset.head()"
      ],
      "metadata": {
        "colab": {
          "base_uri": "https://localhost:8080/",
          "height": 206
        },
        "id": "UJ-cDS-pOwhp",
        "outputId": "203d2561-4d7d-4e02-fb59-ab32bdfc872d"
      },
      "execution_count": 5,
      "outputs": [
        {
          "output_type": "execute_result",
          "data": {
            "text/plain": [
              "    area   price\n",
              "0   8450  208500\n",
              "1   9600  181500\n",
              "2  11250  223500\n",
              "3   9550  140000\n",
              "4  14260  250000"
            ],
            "text/html": [
              "\n",
              "  <div id=\"df-dfdda50c-888d-483c-900a-3c89af05300b\" class=\"colab-df-container\">\n",
              "    <div>\n",
              "<style scoped>\n",
              "    .dataframe tbody tr th:only-of-type {\n",
              "        vertical-align: middle;\n",
              "    }\n",
              "\n",
              "    .dataframe tbody tr th {\n",
              "        vertical-align: top;\n",
              "    }\n",
              "\n",
              "    .dataframe thead th {\n",
              "        text-align: right;\n",
              "    }\n",
              "</style>\n",
              "<table border=\"1\" class=\"dataframe\">\n",
              "  <thead>\n",
              "    <tr style=\"text-align: right;\">\n",
              "      <th></th>\n",
              "      <th>area</th>\n",
              "      <th>price</th>\n",
              "    </tr>\n",
              "  </thead>\n",
              "  <tbody>\n",
              "    <tr>\n",
              "      <th>0</th>\n",
              "      <td>8450</td>\n",
              "      <td>208500</td>\n",
              "    </tr>\n",
              "    <tr>\n",
              "      <th>1</th>\n",
              "      <td>9600</td>\n",
              "      <td>181500</td>\n",
              "    </tr>\n",
              "    <tr>\n",
              "      <th>2</th>\n",
              "      <td>11250</td>\n",
              "      <td>223500</td>\n",
              "    </tr>\n",
              "    <tr>\n",
              "      <th>3</th>\n",
              "      <td>9550</td>\n",
              "      <td>140000</td>\n",
              "    </tr>\n",
              "    <tr>\n",
              "      <th>4</th>\n",
              "      <td>14260</td>\n",
              "      <td>250000</td>\n",
              "    </tr>\n",
              "  </tbody>\n",
              "</table>\n",
              "</div>\n",
              "    <div class=\"colab-df-buttons\">\n",
              "\n",
              "  <div class=\"colab-df-container\">\n",
              "    <button class=\"colab-df-convert\" onclick=\"convertToInteractive('df-dfdda50c-888d-483c-900a-3c89af05300b')\"\n",
              "            title=\"Convert this dataframe to an interactive table.\"\n",
              "            style=\"display:none;\">\n",
              "\n",
              "  <svg xmlns=\"http://www.w3.org/2000/svg\" height=\"24px\" viewBox=\"0 -960 960 960\">\n",
              "    <path d=\"M120-120v-720h720v720H120Zm60-500h600v-160H180v160Zm220 220h160v-160H400v160Zm0 220h160v-160H400v160ZM180-400h160v-160H180v160Zm440 0h160v-160H620v160ZM180-180h160v-160H180v160Zm440 0h160v-160H620v160Z\"/>\n",
              "  </svg>\n",
              "    </button>\n",
              "\n",
              "  <style>\n",
              "    .colab-df-container {\n",
              "      display:flex;\n",
              "      gap: 12px;\n",
              "    }\n",
              "\n",
              "    .colab-df-convert {\n",
              "      background-color: #E8F0FE;\n",
              "      border: none;\n",
              "      border-radius: 50%;\n",
              "      cursor: pointer;\n",
              "      display: none;\n",
              "      fill: #1967D2;\n",
              "      height: 32px;\n",
              "      padding: 0 0 0 0;\n",
              "      width: 32px;\n",
              "    }\n",
              "\n",
              "    .colab-df-convert:hover {\n",
              "      background-color: #E2EBFA;\n",
              "      box-shadow: 0px 1px 2px rgba(60, 64, 67, 0.3), 0px 1px 3px 1px rgba(60, 64, 67, 0.15);\n",
              "      fill: #174EA6;\n",
              "    }\n",
              "\n",
              "    .colab-df-buttons div {\n",
              "      margin-bottom: 4px;\n",
              "    }\n",
              "\n",
              "    [theme=dark] .colab-df-convert {\n",
              "      background-color: #3B4455;\n",
              "      fill: #D2E3FC;\n",
              "    }\n",
              "\n",
              "    [theme=dark] .colab-df-convert:hover {\n",
              "      background-color: #434B5C;\n",
              "      box-shadow: 0px 1px 3px 1px rgba(0, 0, 0, 0.15);\n",
              "      filter: drop-shadow(0px 1px 2px rgba(0, 0, 0, 0.3));\n",
              "      fill: #FFFFFF;\n",
              "    }\n",
              "  </style>\n",
              "\n",
              "    <script>\n",
              "      const buttonEl =\n",
              "        document.querySelector('#df-dfdda50c-888d-483c-900a-3c89af05300b button.colab-df-convert');\n",
              "      buttonEl.style.display =\n",
              "        google.colab.kernel.accessAllowed ? 'block' : 'none';\n",
              "\n",
              "      async function convertToInteractive(key) {\n",
              "        const element = document.querySelector('#df-dfdda50c-888d-483c-900a-3c89af05300b');\n",
              "        const dataTable =\n",
              "          await google.colab.kernel.invokeFunction('convertToInteractive',\n",
              "                                                    [key], {});\n",
              "        if (!dataTable) return;\n",
              "\n",
              "        const docLinkHtml = 'Like what you see? Visit the ' +\n",
              "          '<a target=\"_blank\" href=https://colab.research.google.com/notebooks/data_table.ipynb>data table notebook</a>'\n",
              "          + ' to learn more about interactive tables.';\n",
              "        element.innerHTML = '';\n",
              "        dataTable['output_type'] = 'display_data';\n",
              "        await google.colab.output.renderOutput(dataTable, element);\n",
              "        const docLink = document.createElement('div');\n",
              "        docLink.innerHTML = docLinkHtml;\n",
              "        element.appendChild(docLink);\n",
              "      }\n",
              "    </script>\n",
              "  </div>\n",
              "\n",
              "\n",
              "<div id=\"df-85f582f3-827a-4950-84b0-5e49e84f4428\">\n",
              "  <button class=\"colab-df-quickchart\" onclick=\"quickchart('df-85f582f3-827a-4950-84b0-5e49e84f4428')\"\n",
              "            title=\"Suggest charts.\"\n",
              "            style=\"display:none;\">\n",
              "\n",
              "<svg xmlns=\"http://www.w3.org/2000/svg\" height=\"24px\"viewBox=\"0 0 24 24\"\n",
              "     width=\"24px\">\n",
              "    <g>\n",
              "        <path d=\"M19 3H5c-1.1 0-2 .9-2 2v14c0 1.1.9 2 2 2h14c1.1 0 2-.9 2-2V5c0-1.1-.9-2-2-2zM9 17H7v-7h2v7zm4 0h-2V7h2v10zm4 0h-2v-4h2v4z\"/>\n",
              "    </g>\n",
              "</svg>\n",
              "  </button>\n",
              "\n",
              "<style>\n",
              "  .colab-df-quickchart {\n",
              "    background-color: #E8F0FE;\n",
              "    border: none;\n",
              "    border-radius: 50%;\n",
              "    cursor: pointer;\n",
              "    display: none;\n",
              "    fill: #1967D2;\n",
              "    height: 32px;\n",
              "    padding: 0 0 0 0;\n",
              "    width: 32px;\n",
              "  }\n",
              "\n",
              "  .colab-df-quickchart:hover {\n",
              "    background-color: #E2EBFA;\n",
              "    box-shadow: 0px 1px 2px rgba(60, 64, 67, 0.3), 0px 1px 3px 1px rgba(60, 64, 67, 0.15);\n",
              "    fill: #174EA6;\n",
              "  }\n",
              "\n",
              "  [theme=dark] .colab-df-quickchart {\n",
              "    background-color: #3B4455;\n",
              "    fill: #D2E3FC;\n",
              "  }\n",
              "\n",
              "  [theme=dark] .colab-df-quickchart:hover {\n",
              "    background-color: #434B5C;\n",
              "    box-shadow: 0px 1px 3px 1px rgba(0, 0, 0, 0.15);\n",
              "    filter: drop-shadow(0px 1px 2px rgba(0, 0, 0, 0.3));\n",
              "    fill: #FFFFFF;\n",
              "  }\n",
              "</style>\n",
              "\n",
              "  <script>\n",
              "    async function quickchart(key) {\n",
              "      const charts = await google.colab.kernel.invokeFunction(\n",
              "          'suggestCharts', [key], {});\n",
              "    }\n",
              "    (() => {\n",
              "      let quickchartButtonEl =\n",
              "        document.querySelector('#df-85f582f3-827a-4950-84b0-5e49e84f4428 button');\n",
              "      quickchartButtonEl.style.display =\n",
              "        google.colab.kernel.accessAllowed ? 'block' : 'none';\n",
              "    })();\n",
              "  </script>\n",
              "</div>\n",
              "    </div>\n",
              "  </div>\n"
            ]
          },
          "metadata": {},
          "execution_count": 5
        }
      ]
    },
    {
      "cell_type": "code",
      "source": [
        "dataset.tail()"
      ],
      "metadata": {
        "colab": {
          "base_uri": "https://localhost:8080/",
          "height": 206
        },
        "id": "PGWJxVTIOxMh",
        "outputId": "72c1ae59-9ef9-4d0b-b2bf-39a338432319"
      },
      "execution_count": 6,
      "outputs": [
        {
          "output_type": "execute_result",
          "data": {
            "text/plain": [
              "       area   price\n",
              "1455   7917  175000\n",
              "1456  13175  210000\n",
              "1457   9042  266500\n",
              "1458   9717  142125\n",
              "1459   9937  147500"
            ],
            "text/html": [
              "\n",
              "  <div id=\"df-45ea4a53-fa64-4880-bbb9-50fd5741e5bf\" class=\"colab-df-container\">\n",
              "    <div>\n",
              "<style scoped>\n",
              "    .dataframe tbody tr th:only-of-type {\n",
              "        vertical-align: middle;\n",
              "    }\n",
              "\n",
              "    .dataframe tbody tr th {\n",
              "        vertical-align: top;\n",
              "    }\n",
              "\n",
              "    .dataframe thead th {\n",
              "        text-align: right;\n",
              "    }\n",
              "</style>\n",
              "<table border=\"1\" class=\"dataframe\">\n",
              "  <thead>\n",
              "    <tr style=\"text-align: right;\">\n",
              "      <th></th>\n",
              "      <th>area</th>\n",
              "      <th>price</th>\n",
              "    </tr>\n",
              "  </thead>\n",
              "  <tbody>\n",
              "    <tr>\n",
              "      <th>1455</th>\n",
              "      <td>7917</td>\n",
              "      <td>175000</td>\n",
              "    </tr>\n",
              "    <tr>\n",
              "      <th>1456</th>\n",
              "      <td>13175</td>\n",
              "      <td>210000</td>\n",
              "    </tr>\n",
              "    <tr>\n",
              "      <th>1457</th>\n",
              "      <td>9042</td>\n",
              "      <td>266500</td>\n",
              "    </tr>\n",
              "    <tr>\n",
              "      <th>1458</th>\n",
              "      <td>9717</td>\n",
              "      <td>142125</td>\n",
              "    </tr>\n",
              "    <tr>\n",
              "      <th>1459</th>\n",
              "      <td>9937</td>\n",
              "      <td>147500</td>\n",
              "    </tr>\n",
              "  </tbody>\n",
              "</table>\n",
              "</div>\n",
              "    <div class=\"colab-df-buttons\">\n",
              "\n",
              "  <div class=\"colab-df-container\">\n",
              "    <button class=\"colab-df-convert\" onclick=\"convertToInteractive('df-45ea4a53-fa64-4880-bbb9-50fd5741e5bf')\"\n",
              "            title=\"Convert this dataframe to an interactive table.\"\n",
              "            style=\"display:none;\">\n",
              "\n",
              "  <svg xmlns=\"http://www.w3.org/2000/svg\" height=\"24px\" viewBox=\"0 -960 960 960\">\n",
              "    <path d=\"M120-120v-720h720v720H120Zm60-500h600v-160H180v160Zm220 220h160v-160H400v160Zm0 220h160v-160H400v160ZM180-400h160v-160H180v160Zm440 0h160v-160H620v160ZM180-180h160v-160H180v160Zm440 0h160v-160H620v160Z\"/>\n",
              "  </svg>\n",
              "    </button>\n",
              "\n",
              "  <style>\n",
              "    .colab-df-container {\n",
              "      display:flex;\n",
              "      gap: 12px;\n",
              "    }\n",
              "\n",
              "    .colab-df-convert {\n",
              "      background-color: #E8F0FE;\n",
              "      border: none;\n",
              "      border-radius: 50%;\n",
              "      cursor: pointer;\n",
              "      display: none;\n",
              "      fill: #1967D2;\n",
              "      height: 32px;\n",
              "      padding: 0 0 0 0;\n",
              "      width: 32px;\n",
              "    }\n",
              "\n",
              "    .colab-df-convert:hover {\n",
              "      background-color: #E2EBFA;\n",
              "      box-shadow: 0px 1px 2px rgba(60, 64, 67, 0.3), 0px 1px 3px 1px rgba(60, 64, 67, 0.15);\n",
              "      fill: #174EA6;\n",
              "    }\n",
              "\n",
              "    .colab-df-buttons div {\n",
              "      margin-bottom: 4px;\n",
              "    }\n",
              "\n",
              "    [theme=dark] .colab-df-convert {\n",
              "      background-color: #3B4455;\n",
              "      fill: #D2E3FC;\n",
              "    }\n",
              "\n",
              "    [theme=dark] .colab-df-convert:hover {\n",
              "      background-color: #434B5C;\n",
              "      box-shadow: 0px 1px 3px 1px rgba(0, 0, 0, 0.15);\n",
              "      filter: drop-shadow(0px 1px 2px rgba(0, 0, 0, 0.3));\n",
              "      fill: #FFFFFF;\n",
              "    }\n",
              "  </style>\n",
              "\n",
              "    <script>\n",
              "      const buttonEl =\n",
              "        document.querySelector('#df-45ea4a53-fa64-4880-bbb9-50fd5741e5bf button.colab-df-convert');\n",
              "      buttonEl.style.display =\n",
              "        google.colab.kernel.accessAllowed ? 'block' : 'none';\n",
              "\n",
              "      async function convertToInteractive(key) {\n",
              "        const element = document.querySelector('#df-45ea4a53-fa64-4880-bbb9-50fd5741e5bf');\n",
              "        const dataTable =\n",
              "          await google.colab.kernel.invokeFunction('convertToInteractive',\n",
              "                                                    [key], {});\n",
              "        if (!dataTable) return;\n",
              "\n",
              "        const docLinkHtml = 'Like what you see? Visit the ' +\n",
              "          '<a target=\"_blank\" href=https://colab.research.google.com/notebooks/data_table.ipynb>data table notebook</a>'\n",
              "          + ' to learn more about interactive tables.';\n",
              "        element.innerHTML = '';\n",
              "        dataTable['output_type'] = 'display_data';\n",
              "        await google.colab.output.renderOutput(dataTable, element);\n",
              "        const docLink = document.createElement('div');\n",
              "        docLink.innerHTML = docLinkHtml;\n",
              "        element.appendChild(docLink);\n",
              "      }\n",
              "    </script>\n",
              "  </div>\n",
              "\n",
              "\n",
              "<div id=\"df-37594cb3-a7a2-4ef6-85b9-143a3271a3c2\">\n",
              "  <button class=\"colab-df-quickchart\" onclick=\"quickchart('df-37594cb3-a7a2-4ef6-85b9-143a3271a3c2')\"\n",
              "            title=\"Suggest charts.\"\n",
              "            style=\"display:none;\">\n",
              "\n",
              "<svg xmlns=\"http://www.w3.org/2000/svg\" height=\"24px\"viewBox=\"0 0 24 24\"\n",
              "     width=\"24px\">\n",
              "    <g>\n",
              "        <path d=\"M19 3H5c-1.1 0-2 .9-2 2v14c0 1.1.9 2 2 2h14c1.1 0 2-.9 2-2V5c0-1.1-.9-2-2-2zM9 17H7v-7h2v7zm4 0h-2V7h2v10zm4 0h-2v-4h2v4z\"/>\n",
              "    </g>\n",
              "</svg>\n",
              "  </button>\n",
              "\n",
              "<style>\n",
              "  .colab-df-quickchart {\n",
              "    background-color: #E8F0FE;\n",
              "    border: none;\n",
              "    border-radius: 50%;\n",
              "    cursor: pointer;\n",
              "    display: none;\n",
              "    fill: #1967D2;\n",
              "    height: 32px;\n",
              "    padding: 0 0 0 0;\n",
              "    width: 32px;\n",
              "  }\n",
              "\n",
              "  .colab-df-quickchart:hover {\n",
              "    background-color: #E2EBFA;\n",
              "    box-shadow: 0px 1px 2px rgba(60, 64, 67, 0.3), 0px 1px 3px 1px rgba(60, 64, 67, 0.15);\n",
              "    fill: #174EA6;\n",
              "  }\n",
              "\n",
              "  [theme=dark] .colab-df-quickchart {\n",
              "    background-color: #3B4455;\n",
              "    fill: #D2E3FC;\n",
              "  }\n",
              "\n",
              "  [theme=dark] .colab-df-quickchart:hover {\n",
              "    background-color: #434B5C;\n",
              "    box-shadow: 0px 1px 3px 1px rgba(0, 0, 0, 0.15);\n",
              "    filter: drop-shadow(0px 1px 2px rgba(0, 0, 0, 0.3));\n",
              "    fill: #FFFFFF;\n",
              "  }\n",
              "</style>\n",
              "\n",
              "  <script>\n",
              "    async function quickchart(key) {\n",
              "      const charts = await google.colab.kernel.invokeFunction(\n",
              "          'suggestCharts', [key], {});\n",
              "    }\n",
              "    (() => {\n",
              "      let quickchartButtonEl =\n",
              "        document.querySelector('#df-37594cb3-a7a2-4ef6-85b9-143a3271a3c2 button');\n",
              "      quickchartButtonEl.style.display =\n",
              "        google.colab.kernel.accessAllowed ? 'block' : 'none';\n",
              "    })();\n",
              "  </script>\n",
              "</div>\n",
              "    </div>\n",
              "  </div>\n"
            ]
          },
          "metadata": {},
          "execution_count": 6
        }
      ]
    },
    {
      "cell_type": "code",
      "source": [
        "dataset.shape"
      ],
      "metadata": {
        "colab": {
          "base_uri": "https://localhost:8080/"
        },
        "id": "FA4fkcRKO1Jz",
        "outputId": "deefb57c-3458-4190-d9eb-39951d88a558"
      },
      "execution_count": 7,
      "outputs": [
        {
          "output_type": "execute_result",
          "data": {
            "text/plain": [
              "(1460, 2)"
            ]
          },
          "metadata": {},
          "execution_count": 7
        }
      ]
    },
    {
      "cell_type": "code",
      "source": [
        "dataset.describe()"
      ],
      "metadata": {
        "colab": {
          "base_uri": "https://localhost:8080/",
          "height": 300
        },
        "id": "6nOMOgvtO2r0",
        "outputId": "c06194e5-2560-4ea6-d976-08534d03274a"
      },
      "execution_count": 9,
      "outputs": [
        {
          "output_type": "execute_result",
          "data": {
            "text/plain": [
              "                area          price\n",
              "count    1460.000000    1460.000000\n",
              "mean    10516.828082  180921.195890\n",
              "std      9981.264932   79442.502883\n",
              "min      1300.000000   34900.000000\n",
              "25%      7553.500000  129975.000000\n",
              "50%      9478.500000  163000.000000\n",
              "75%     11601.500000  214000.000000\n",
              "max    215245.000000  755000.000000"
            ],
            "text/html": [
              "\n",
              "  <div id=\"df-b1de736b-3ea2-44ea-8b62-ffd7f7d13fb2\" class=\"colab-df-container\">\n",
              "    <div>\n",
              "<style scoped>\n",
              "    .dataframe tbody tr th:only-of-type {\n",
              "        vertical-align: middle;\n",
              "    }\n",
              "\n",
              "    .dataframe tbody tr th {\n",
              "        vertical-align: top;\n",
              "    }\n",
              "\n",
              "    .dataframe thead th {\n",
              "        text-align: right;\n",
              "    }\n",
              "</style>\n",
              "<table border=\"1\" class=\"dataframe\">\n",
              "  <thead>\n",
              "    <tr style=\"text-align: right;\">\n",
              "      <th></th>\n",
              "      <th>area</th>\n",
              "      <th>price</th>\n",
              "    </tr>\n",
              "  </thead>\n",
              "  <tbody>\n",
              "    <tr>\n",
              "      <th>count</th>\n",
              "      <td>1460.000000</td>\n",
              "      <td>1460.000000</td>\n",
              "    </tr>\n",
              "    <tr>\n",
              "      <th>mean</th>\n",
              "      <td>10516.828082</td>\n",
              "      <td>180921.195890</td>\n",
              "    </tr>\n",
              "    <tr>\n",
              "      <th>std</th>\n",
              "      <td>9981.264932</td>\n",
              "      <td>79442.502883</td>\n",
              "    </tr>\n",
              "    <tr>\n",
              "      <th>min</th>\n",
              "      <td>1300.000000</td>\n",
              "      <td>34900.000000</td>\n",
              "    </tr>\n",
              "    <tr>\n",
              "      <th>25%</th>\n",
              "      <td>7553.500000</td>\n",
              "      <td>129975.000000</td>\n",
              "    </tr>\n",
              "    <tr>\n",
              "      <th>50%</th>\n",
              "      <td>9478.500000</td>\n",
              "      <td>163000.000000</td>\n",
              "    </tr>\n",
              "    <tr>\n",
              "      <th>75%</th>\n",
              "      <td>11601.500000</td>\n",
              "      <td>214000.000000</td>\n",
              "    </tr>\n",
              "    <tr>\n",
              "      <th>max</th>\n",
              "      <td>215245.000000</td>\n",
              "      <td>755000.000000</td>\n",
              "    </tr>\n",
              "  </tbody>\n",
              "</table>\n",
              "</div>\n",
              "    <div class=\"colab-df-buttons\">\n",
              "\n",
              "  <div class=\"colab-df-container\">\n",
              "    <button class=\"colab-df-convert\" onclick=\"convertToInteractive('df-b1de736b-3ea2-44ea-8b62-ffd7f7d13fb2')\"\n",
              "            title=\"Convert this dataframe to an interactive table.\"\n",
              "            style=\"display:none;\">\n",
              "\n",
              "  <svg xmlns=\"http://www.w3.org/2000/svg\" height=\"24px\" viewBox=\"0 -960 960 960\">\n",
              "    <path d=\"M120-120v-720h720v720H120Zm60-500h600v-160H180v160Zm220 220h160v-160H400v160Zm0 220h160v-160H400v160ZM180-400h160v-160H180v160Zm440 0h160v-160H620v160ZM180-180h160v-160H180v160Zm440 0h160v-160H620v160Z\"/>\n",
              "  </svg>\n",
              "    </button>\n",
              "\n",
              "  <style>\n",
              "    .colab-df-container {\n",
              "      display:flex;\n",
              "      gap: 12px;\n",
              "    }\n",
              "\n",
              "    .colab-df-convert {\n",
              "      background-color: #E8F0FE;\n",
              "      border: none;\n",
              "      border-radius: 50%;\n",
              "      cursor: pointer;\n",
              "      display: none;\n",
              "      fill: #1967D2;\n",
              "      height: 32px;\n",
              "      padding: 0 0 0 0;\n",
              "      width: 32px;\n",
              "    }\n",
              "\n",
              "    .colab-df-convert:hover {\n",
              "      background-color: #E2EBFA;\n",
              "      box-shadow: 0px 1px 2px rgba(60, 64, 67, 0.3), 0px 1px 3px 1px rgba(60, 64, 67, 0.15);\n",
              "      fill: #174EA6;\n",
              "    }\n",
              "\n",
              "    .colab-df-buttons div {\n",
              "      margin-bottom: 4px;\n",
              "    }\n",
              "\n",
              "    [theme=dark] .colab-df-convert {\n",
              "      background-color: #3B4455;\n",
              "      fill: #D2E3FC;\n",
              "    }\n",
              "\n",
              "    [theme=dark] .colab-df-convert:hover {\n",
              "      background-color: #434B5C;\n",
              "      box-shadow: 0px 1px 3px 1px rgba(0, 0, 0, 0.15);\n",
              "      filter: drop-shadow(0px 1px 2px rgba(0, 0, 0, 0.3));\n",
              "      fill: #FFFFFF;\n",
              "    }\n",
              "  </style>\n",
              "\n",
              "    <script>\n",
              "      const buttonEl =\n",
              "        document.querySelector('#df-b1de736b-3ea2-44ea-8b62-ffd7f7d13fb2 button.colab-df-convert');\n",
              "      buttonEl.style.display =\n",
              "        google.colab.kernel.accessAllowed ? 'block' : 'none';\n",
              "\n",
              "      async function convertToInteractive(key) {\n",
              "        const element = document.querySelector('#df-b1de736b-3ea2-44ea-8b62-ffd7f7d13fb2');\n",
              "        const dataTable =\n",
              "          await google.colab.kernel.invokeFunction('convertToInteractive',\n",
              "                                                    [key], {});\n",
              "        if (!dataTable) return;\n",
              "\n",
              "        const docLinkHtml = 'Like what you see? Visit the ' +\n",
              "          '<a target=\"_blank\" href=https://colab.research.google.com/notebooks/data_table.ipynb>data table notebook</a>'\n",
              "          + ' to learn more about interactive tables.';\n",
              "        element.innerHTML = '';\n",
              "        dataTable['output_type'] = 'display_data';\n",
              "        await google.colab.output.renderOutput(dataTable, element);\n",
              "        const docLink = document.createElement('div');\n",
              "        docLink.innerHTML = docLinkHtml;\n",
              "        element.appendChild(docLink);\n",
              "      }\n",
              "    </script>\n",
              "  </div>\n",
              "\n",
              "\n",
              "<div id=\"df-7af4af8c-a978-4a5d-ab1e-f89278dba070\">\n",
              "  <button class=\"colab-df-quickchart\" onclick=\"quickchart('df-7af4af8c-a978-4a5d-ab1e-f89278dba070')\"\n",
              "            title=\"Suggest charts.\"\n",
              "            style=\"display:none;\">\n",
              "\n",
              "<svg xmlns=\"http://www.w3.org/2000/svg\" height=\"24px\"viewBox=\"0 0 24 24\"\n",
              "     width=\"24px\">\n",
              "    <g>\n",
              "        <path d=\"M19 3H5c-1.1 0-2 .9-2 2v14c0 1.1.9 2 2 2h14c1.1 0 2-.9 2-2V5c0-1.1-.9-2-2-2zM9 17H7v-7h2v7zm4 0h-2V7h2v10zm4 0h-2v-4h2v4z\"/>\n",
              "    </g>\n",
              "</svg>\n",
              "  </button>\n",
              "\n",
              "<style>\n",
              "  .colab-df-quickchart {\n",
              "    background-color: #E8F0FE;\n",
              "    border: none;\n",
              "    border-radius: 50%;\n",
              "    cursor: pointer;\n",
              "    display: none;\n",
              "    fill: #1967D2;\n",
              "    height: 32px;\n",
              "    padding: 0 0 0 0;\n",
              "    width: 32px;\n",
              "  }\n",
              "\n",
              "  .colab-df-quickchart:hover {\n",
              "    background-color: #E2EBFA;\n",
              "    box-shadow: 0px 1px 2px rgba(60, 64, 67, 0.3), 0px 1px 3px 1px rgba(60, 64, 67, 0.15);\n",
              "    fill: #174EA6;\n",
              "  }\n",
              "\n",
              "  [theme=dark] .colab-df-quickchart {\n",
              "    background-color: #3B4455;\n",
              "    fill: #D2E3FC;\n",
              "  }\n",
              "\n",
              "  [theme=dark] .colab-df-quickchart:hover {\n",
              "    background-color: #434B5C;\n",
              "    box-shadow: 0px 1px 3px 1px rgba(0, 0, 0, 0.15);\n",
              "    filter: drop-shadow(0px 1px 2px rgba(0, 0, 0, 0.3));\n",
              "    fill: #FFFFFF;\n",
              "  }\n",
              "</style>\n",
              "\n",
              "  <script>\n",
              "    async function quickchart(key) {\n",
              "      const charts = await google.colab.kernel.invokeFunction(\n",
              "          'suggestCharts', [key], {});\n",
              "    }\n",
              "    (() => {\n",
              "      let quickchartButtonEl =\n",
              "        document.querySelector('#df-7af4af8c-a978-4a5d-ab1e-f89278dba070 button');\n",
              "      quickchartButtonEl.style.display =\n",
              "        google.colab.kernel.accessAllowed ? 'block' : 'none';\n",
              "    })();\n",
              "  </script>\n",
              "</div>\n",
              "    </div>\n",
              "  </div>\n"
            ]
          },
          "metadata": {},
          "execution_count": 9
        }
      ]
    },
    {
      "cell_type": "code",
      "source": [
        "dataset.info()"
      ],
      "metadata": {
        "colab": {
          "base_uri": "https://localhost:8080/"
        },
        "id": "76jyGid0O48l",
        "outputId": "4a1495ab-3999-466b-a5c6-6a530f6a21c4"
      },
      "execution_count": 10,
      "outputs": [
        {
          "output_type": "stream",
          "name": "stdout",
          "text": [
            "<class 'pandas.core.frame.DataFrame'>\n",
            "RangeIndex: 1460 entries, 0 to 1459\n",
            "Data columns (total 2 columns):\n",
            " #   Column  Non-Null Count  Dtype\n",
            "---  ------  --------------  -----\n",
            " 0   area    1460 non-null   int64\n",
            " 1   price   1460 non-null   int64\n",
            "dtypes: int64(2)\n",
            "memory usage: 22.9 KB\n"
          ]
        }
      ]
    },
    {
      "cell_type": "code",
      "source": [
        "dataset.isnull().count()"
      ],
      "metadata": {
        "colab": {
          "base_uri": "https://localhost:8080/"
        },
        "id": "alpL6gXbO909",
        "outputId": "af6b91d6-6213-4df8-9a26-d33df354228a"
      },
      "execution_count": 13,
      "outputs": [
        {
          "output_type": "execute_result",
          "data": {
            "text/plain": [
              "area     1460\n",
              "price    1460\n",
              "dtype: int64"
            ]
          },
          "metadata": {},
          "execution_count": 13
        }
      ]
    },
    {
      "cell_type": "markdown",
      "source": [
        "### **Visualize Dataset**"
      ],
      "metadata": {
        "id": "k46V03-4PJ-B"
      }
    },
    {
      "cell_type": "code",
      "source": [
        "plt.xlabel('area')\n",
        "plt.ylabel('price')\n",
        "plt.scatter(dataset.area,dataset.price,color='red',marker='*')"
      ],
      "metadata": {
        "colab": {
          "base_uri": "https://localhost:8080/",
          "height": 467
        },
        "id": "f33226f7PPuf",
        "outputId": "121afa67-1956-4dee-f842-54375b1e6ba6"
      },
      "execution_count": 14,
      "outputs": [
        {
          "output_type": "execute_result",
          "data": {
            "text/plain": [
              "<matplotlib.collections.PathCollection at 0x78cc20586650>"
            ]
          },
          "metadata": {},
          "execution_count": 14
        },
        {
          "output_type": "display_data",
          "data": {
            "text/plain": [
              "<Figure size 640x480 with 1 Axes>"
            ],
            "image/png": "[encoded data removed]"
          },
          "metadata": {}
        }
      ]
    },
    {
      "cell_type": "markdown",
      "source": [
        "### **Segregate Dataset into Input X & Output Y**"
      ],
      "metadata": {
        "id": "cweeczk-PcEy"
      }
    },
    {
      "cell_type": "code",
      "source": [
        "X = dataset.drop('price',axis='columns')\n",
        "X\n"
      ],
      "metadata": {
        "colab": {
          "base_uri": "https://localhost:8080/",
          "height": 423
        },
        "id": "GGEC-0vbPgFO",
        "outputId": "c4075332-a40b-4d70-f300-8b2407a47187"
      },
      "execution_count": 15,
      "outputs": [
        {
          "output_type": "execute_result",
          "data": {
            "text/plain": [
              "       area\n",
              "0      8450\n",
              "1      9600\n",
              "2     11250\n",
              "3      9550\n",
              "4     14260\n",
              "...     ...\n",
              "1455   7917\n",
              "1456  13175\n",
              "1457   9042\n",
              "1458   9717\n",
              "1459   9937\n",
              "\n",
              "[1460 rows x 1 columns]"
            ],
            "text/html": [
              "\n",
              "  <div id=\"df-da656e86-5f70-411f-9d85-32a2edc5b41b\" class=\"colab-df-container\">\n",
              "    <div>\n",
              "<style scoped>\n",
              "    .dataframe tbody tr th:only-of-type {\n",
              "        vertical-align: middle;\n",
              "    }\n",
              "\n",
              "    .dataframe tbody tr th {\n",
              "        vertical-align: top;\n",
              "    }\n",
              "\n",
              "    .dataframe thead th {\n",
              "        text-align: right;\n",
              "    }\n",
              "</style>\n",
              "<table border=\"1\" class=\"dataframe\">\n",
              "  <thead>\n",
              "    <tr style=\"text-align: right;\">\n",
              "      <th></th>\n",
              "      <th>area</th>\n",
              "    </tr>\n",
              "  </thead>\n",
              "  <tbody>\n",
              "    <tr>\n",
              "      <th>0</th>\n",
              "      <td>8450</td>\n",
              "    </tr>\n",
              "    <tr>\n",
              "      <th>1</th>\n",
              "      <td>9600</td>\n",
              "    </tr>\n",
              "    <tr>\n",
              "      <th>2</th>\n",
              "      <td>11250</td>\n",
              "    </tr>\n",
              "    <tr>\n",
              "      <th>3</th>\n",
              "      <td>9550</td>\n",
              "    </tr>\n",
              "    <tr>\n",
              "      <th>4</th>\n",
              "      <td>14260</td>\n",
              "    </tr>\n",
              "    <tr>\n",
              "      <th>...</th>\n",
              "      <td>...</td>\n",
              "    </tr>\n",
              "    <tr>\n",
              "      <th>1455</th>\n",
              "      <td>7917</td>\n",
              "    </tr>\n",
              "    <tr>\n",
              "      <th>1456</th>\n",
              "      <td>13175</td>\n",
              "    </tr>\n",
              "    <tr>\n",
              "      <th>1457</th>\n",
              "      <td>9042</td>\n",
              "    </tr>\n",
              "    <tr>\n",
              "      <th>1458</th>\n",
              "      <td>9717</td>\n",
              "    </tr>\n",
              "    <tr>\n",
              "      <th>1459</th>\n",
              "      <td>9937</td>\n",
              "    </tr>\n",
              "  </tbody>\n",
              "</table>\n",
              "<p>1460 rows × 1 columns</p>\n",
              "</div>\n",
              "    <div class=\"colab-df-buttons\">\n",
              "\n",
              "  <div class=\"colab-df-container\">\n",
              "    <button class=\"colab-df-convert\" onclick=\"convertToInteractive('df-da656e86-5f70-411f-9d85-32a2edc5b41b')\"\n",
              "            title=\"Convert this dataframe to an interactive table.\"\n",
              "            style=\"display:none;\">\n",
              "\n",
              "  <svg xmlns=\"http://www.w3.org/2000/svg\" height=\"24px\" viewBox=\"0 -960 960 960\">\n",
              "    <path d=\"M120-120v-720h720v720H120Zm60-500h600v-160H180v160Zm220 220h160v-160H400v160Zm0 220h160v-160H400v160ZM180-400h160v-160H180v160Zm440 0h160v-160H620v160ZM180-180h160v-160H180v160Zm440 0h160v-160H620v160Z\"/>\n",
              "  </svg>\n",
              "    </button>\n",
              "\n",
              "  <style>\n",
              "    .colab-df-container {\n",
              "      display:flex;\n",
              "      gap: 12px;\n",
              "    }\n",
              "\n",
              "    .colab-df-convert {\n",
              "      background-color: #E8F0FE;\n",
              "      border: none;\n",
              "      border-radius: 50%;\n",
              "      cursor: pointer;\n",
              "      display: none;\n",
              "      fill: #1967D2;\n",
              "      height: 32px;\n",
              "      padding: 0 0 0 0;\n",
              "      width: 32px;\n",
              "    }\n",
              "\n",
              "    .colab-df-convert:hover {\n",
              "      background-color: #E2EBFA;\n",
              "      box-shadow: 0px 1px 2px rgba(60, 64, 67, 0.3), 0px 1px 3px 1px rgba(60, 64, 67, 0.15);\n",
              "      fill: #174EA6;\n",
              "    }\n",
              "\n",
              "    .colab-df-buttons div {\n",
              "      margin-bottom: 4px;\n",
              "    }\n",
              "\n",
              "    [theme=dark] .colab-df-convert {\n",
              "      background-color: #3B4455;\n",
              "      fill: #D2E3FC;\n",
              "    }\n",
              "\n",
              "    [theme=dark] .colab-df-convert:hover {\n",
              "      background-color: #434B5C;\n",
              "      box-shadow: 0px 1px 3px 1px rgba(0, 0, 0, 0.15);\n",
              "      filter: drop-shadow(0px 1px 2px rgba(0, 0, 0, 0.3));\n",
              "      fill: #FFFFFF;\n",
              "    }\n",
              "  </style>\n",
              "\n",
              "    <script>\n",
              "      const buttonEl =\n",
              "        document.querySelector('#df-da656e86-5f70-411f-9d85-32a2edc5b41b button.colab-df-convert');\n",
              "      buttonEl.style.display =\n",
              "        google.colab.kernel.accessAllowed ? 'block' : 'none';\n",
              "\n",
              "      async function convertToInteractive(key) {\n",
              "        const element = document.querySelector('#df-da656e86-5f70-411f-9d85-32a2edc5b41b');\n",
              "        const dataTable =\n",
              "          await google.colab.kernel.invokeFunction('convertToInteractive',\n",
              "                                                    [key], {});\n",
              "        if (!dataTable) return;\n",
              "\n",
              "        const docLinkHtml = 'Like what you see? Visit the ' +\n",
              "          '<a target=\"_blank\" href=https://colab.research.google.com/notebooks/data_table.ipynb>data table notebook</a>'\n",
              "          + ' to learn more about interactive tables.';\n",
              "        element.innerHTML = '';\n",
              "        dataTable['output_type'] = 'display_data';\n",
              "        await google.colab.output.renderOutput(dataTable, element);\n",
              "        const docLink = document.createElement('div');\n",
              "        docLink.innerHTML = docLinkHtml;\n",
              "        element.appendChild(docLink);\n",
              "      }\n",
              "    </script>\n",
              "  </div>\n",
              "\n",
              "\n",
              "<div id=\"df-8c0d14a9-0fd4-4aec-a673-b23b461857c5\">\n",
              "  <button class=\"colab-df-quickchart\" onclick=\"quickchart('df-8c0d14a9-0fd4-4aec-a673-b23b461857c5')\"\n",
              "            title=\"Suggest charts.\"\n",
              "            style=\"display:none;\">\n",
              "\n",
              "<svg xmlns=\"http://www.w3.org/2000/svg\" height=\"24px\"viewBox=\"0 0 24 24\"\n",
              "     width=\"24px\">\n",
              "    <g>\n",
              "        <path d=\"M19 3H5c-1.1 0-2 .9-2 2v14c0 1.1.9 2 2 2h14c1.1 0 2-.9 2-2V5c0-1.1-.9-2-2-2zM9 17H7v-7h2v7zm4 0h-2V7h2v10zm4 0h-2v-4h2v4z\"/>\n",
              "    </g>\n",
              "</svg>\n",
              "  </button>\n",
              "\n",
              "<style>\n",
              "  .colab-df-quickchart {\n",
              "    background-color: #E8F0FE;\n",
              "    border: none;\n",
              "    border-radius: 50%;\n",
              "    cursor: pointer;\n",
              "    display: none;\n",
              "    fill: #1967D2;\n",
              "    height: 32px;\n",
              "    padding: 0 0 0 0;\n",
              "    width: 32px;\n",
              "  }\n",
              "\n",
              "  .colab-df-quickchart:hover {\n",
              "    background-color: #E2EBFA;\n",
              "    box-shadow: 0px 1px 2px rgba(60, 64, 67, 0.3), 0px 1px 3px 1px rgba(60, 64, 67, 0.15);\n",
              "    fill: #174EA6;\n",
              "  }\n",
              "\n",
              "  [theme=dark] .colab-df-quickchart {\n",
              "    background-color: #3B4455;\n",
              "    fill: #D2E3FC;\n",
              "  }\n",
              "\n",
              "  [theme=dark] .colab-df-quickchart:hover {\n",
              "    background-color: #434B5C;\n",
              "    box-shadow: 0px 1px 3px 1px rgba(0, 0, 0, 0.15);\n",
              "    filter: drop-shadow(0px 1px 2px rgba(0, 0, 0, 0.3));\n",
              "    fill: #FFFFFF;\n",
              "  }\n",
              "</style>\n",
              "\n",
              "  <script>\n",
              "    async function quickchart(key) {\n",
              "      const charts = await google.colab.kernel.invokeFunction(\n",
              "          'suggestCharts', [key], {});\n",
              "    }\n",
              "    (() => {\n",
              "      let quickchartButtonEl =\n",
              "        document.querySelector('#df-8c0d14a9-0fd4-4aec-a673-b23b461857c5 button');\n",
              "      quickchartButtonEl.style.display =\n",
              "        google.colab.kernel.accessAllowed ? 'block' : 'none';\n",
              "    })();\n",
              "  </script>\n",
              "</div>\n",
              "    </div>\n",
              "  </div>\n"
            ]
          },
          "metadata": {},
          "execution_count": 15
        }
      ]
    },
    {
      "cell_type": "code",
      "source": [
        "Y = dataset.price\n",
        "Y"
      ],
      "metadata": {
        "colab": {
          "base_uri": "https://localhost:8080/"
        },
        "id": "24FXklJWPjLo",
        "outputId": "deae2681-37d9-4046-e652-f4d6a3dd6fc8"
      },
      "execution_count": 16,
      "outputs": [
        {
          "output_type": "execute_result",
          "data": {
            "text/plain": [
              "0       208500\n",
              "1       181500\n",
              "2       223500\n",
              "3       140000\n",
              "4       250000\n",
              "         ...  \n",
              "1455    175000\n",
              "1456    210000\n",
              "1457    266500\n",
              "1458    142125\n",
              "1459    147500\n",
              "Name: price, Length: 1460, dtype: int64"
            ]
          },
          "metadata": {},
          "execution_count": 16
        }
      ]
    },
    {
      "cell_type": "markdown",
      "source": [
        "### **Splitting Dataset for Testing our Model**"
      ],
      "metadata": {
        "id": "8P77faiGPnii"
      }
    },
    {
      "cell_type": "code",
      "source": [
        "from sklearn.model_selection import train_test_split\n",
        "x_train,x_test,y_train,y_test = train_test_split(X,Y,test_size=0.20,random_state=0)"
      ],
      "metadata": {
        "id": "3XPQzmfyPpaL"
      },
      "execution_count": 17,
      "outputs": []
    },
    {
      "cell_type": "markdown",
      "source": [
        "### **Training Dataset using Linear Regression**"
      ],
      "metadata": {
        "id": "8B_nNXuJPsek"
      }
    },
    {
      "cell_type": "code",
      "source": [
        "model = LinearRegression()\n",
        "model.fit(x_train,y_train)"
      ],
      "metadata": {
        "colab": {
          "base_uri": "https://localhost:8080/",
          "height": 74
        },
        "id": "f-AEPASgPzLb",
        "outputId": "4302a7e9-cabb-4014-fb64-84059fd9b87e"
      },
      "execution_count": 18,
      "outputs": [
        {
          "output_type": "execute_result",
          "data": {
            "text/plain": [
              "LinearRegression()"
            ],
            "text/html": [
              "<style>#sk-container-id-1 {color: black;background-color: white;}#sk-container-id-1 pre{padding: 0;}#sk-container-id-1 div.sk-toggleable {background-color: white;}#sk-container-id-1 label.sk-toggleable__label {cursor: pointer;display: block;width: 100%;margin-bottom: 0;padding: 0.3em;box-sizing: border-box;text-align: center;}#sk-container-id-1 label.sk-toggleable__label-arrow:before {content: \"▸\";float: left;margin-right: 0.25em;color: #696969;}#sk-container-id-1 label.sk-toggleable__label-arrow:hover:before {color: black;}#sk-container-id-1 div.sk-estimator:hover label.sk-toggleable__label-arrow:before {color: black;}#sk-container-id-1 div.sk-toggleable__content {max-height: 0;max-width: 0;overflow: hidden;text-align: left;background-color: #f0f8ff;}#sk-container-id-1 div.sk-toggleable__content pre {margin: 0.2em;color: black;border-radius: 0.25em;background-color: #f0f8ff;}#sk-container-id-1 input.sk-toggleable__control:checked~div.sk-toggleable__content {max-height: 200px;max-width: 100%;overflow: auto;}#sk-container-id-1 input.sk-toggleable__control:checked~label.sk-toggleable__label-arrow:before {content: \"▾\";}#sk-container-id-1 div.sk-estimator input.sk-toggleable__control:checked~label.sk-toggleable__label {background-color: #d4ebff;}#sk-container-id-1 div.sk-label input.sk-toggleable__control:checked~label.sk-toggleable__label {background-color: #d4ebff;}#sk-container-id-1 input.sk-hidden--visually {border: 0;clip: rect(1px 1px 1px 1px);clip: rect(1px, 1px, 1px, 1px);height: 1px;margin: -1px;overflow: hidden;padding: 0;position: absolute;width: 1px;}#sk-container-id-1 div.sk-estimator {font-family: monospace;background-color: #f0f8ff;border: 1px dotted black;border-radius: 0.25em;box-sizing: border-box;margin-bottom: 0.5em;}#sk-container-id-1 div.sk-estimator:hover {background-color: #d4ebff;}#sk-container-id-1 div.sk-parallel-item::after {content: \"\";width: 100%;border-bottom: 1px solid gray;flex-grow: 1;}#sk-container-id-1 div.sk-label:hover label.sk-toggleable__label {background-color: #d4ebff;}#sk-container-id-1 div.sk-serial::before {content: \"\";position: absolute;border-left: 1px solid gray;box-sizing: border-box;top: 0;bottom: 0;left: 50%;z-index: 0;}#sk-container-id-1 div.sk-serial {display: flex;flex-direction: column;align-items: center;background-color: white;padding-right: 0.2em;padding-left: 0.2em;position: relative;}#sk-container-id-1 div.sk-item {position: relative;z-index: 1;}#sk-container-id-1 div.sk-parallel {display: flex;align-items: stretch;justify-content: center;background-color: white;position: relative;}#sk-container-id-1 div.sk-item::before, #sk-container-id-1 div.sk-parallel-item::before {content: \"\";position: absolute;border-left: 1px solid gray;box-sizing: border-box;top: 0;bottom: 0;left: 50%;z-index: -1;}#sk-container-id-1 div.sk-parallel-item {display: flex;flex-direction: column;z-index: 1;position: relative;background-color: white;}#sk-container-id-1 div.sk-parallel-item:first-child::after {align-self: flex-end;width: 50%;}#sk-container-id-1 div.sk-parallel-item:last-child::after {align-self: flex-start;width: 50%;}#sk-container-id-1 div.sk-parallel-item:only-child::after {width: 0;}#sk-container-id-1 div.sk-dashed-wrapped {border: 1px dashed gray;margin: 0 0.4em 0.5em 0.4em;box-sizing: border-box;padding-bottom: 0.4em;background-color: white;}#sk-container-id-1 div.sk-label label {font-family: monospace;font-weight: bold;display: inline-block;line-height: 1.2em;}#sk-container-id-1 div.sk-label-container {text-align: center;}#sk-container-id-1 div.sk-container {/* jupyter's `normalize.less` sets `[hidden] { display: none; }` but bootstrap.min.css set `[hidden] { display: none !important; }` so we also need the `!important` here to be able to override the default hidden behavior on the sphinx rendered scikit-learn.org. See: https://github.com/scikit-learn/scikit-learn/issues/21755 */display: inline-block !important;position: relative;}#sk-container-id-1 div.sk-text-repr-fallback {display: none;}</style><div id=\"sk-container-id-1\" class=\"sk-top-container\"><div class=\"sk-text-repr-fallback\"><pre>LinearRegression()</pre><b>In a Jupyter environment, please rerun this cell to show the HTML representation or trust the notebook. <br />On GitHub, the HTML representation is unable to render, please try loading this page with nbviewer.org.</b></div><div class=\"sk-container\" hidden><div class=\"sk-item\"><div class=\"sk-estimator sk-toggleable\"><input class=\"sk-toggleable__control sk-hidden--visually\" id=\"sk-estimator-id-1\" type=\"checkbox\" checked><label for=\"sk-estimator-id-1\" class=\"sk-toggleable__label sk-toggleable__label-arrow\">LinearRegression</label><div class=\"sk-toggleable__content\"><pre>LinearRegression()</pre></div></div></div></div></div>"
            ]
          },
          "metadata": {},
          "execution_count": 18
        }
      ]
    },
    {
      "cell_type": "markdown",
      "source": [
        "### **Visualizing Linear Regression Result**"
      ],
      "metadata": {
        "id": "f5a1_ivWP2kn"
      }
    },
    {
      "cell_type": "code",
      "source": [
        "plt.scatter(X,Y, color=\"red\",marker='*')\n",
        "plt.plot(X, model.predict(X))\n",
        "plt.title(\"Linear Regression\")\n",
        "plt.xlabel(\"Area\")\n",
        "plt.ylabel(\"Price\")\n",
        "plt.show()"
      ],
      "metadata": {
        "colab": {
          "base_uri": "https://localhost:8080/",
          "height": 472
        },
        "id": "CNeak35OP7pZ",
        "outputId": "2b9a4dd6-1f56-4477-a213-741b3c81fde0"
      },
      "execution_count": 19,
      "outputs": [
        {
          "output_type": "display_data",
          "data": {
            "text/plain": [
              "<Figure size 640x480 with 1 Axes>"
            ],
            "image/png": "[encoded data removed]"
          },
          "metadata": {}
        }
      ]
    },
    {
      "cell_type": "markdown",
      "source": [
        "### ![image.png](data:image/png;base64,iVBORw0KGgoAAAANSUhEUgAAA/UAAAEKCAYAAABT4HUcAAAgAElEQVR4Aey9B3hUZdr///tf776ra1nXQkf33RUS0uhdROx1xd5717WCnaYiiCAWVEQQUVDpvXdCD0kIpCckJCE9mSTT+8znfz1nMhCQQCgpM7mP1/HMnPKUz3MynO+57+e+/x+yNBgBL7AnNo4fpvzIl199zbvvvc8DDz7EQw8/wuQfplBYVNxgbalZkWqXWisqq1i1eg0fDhvO2M/GkZt3qOZpeLy+89TWA3i8XtyeI6sqo7Yl+2AOX38ziSFD32bxkqWUlJXhcnu0Mmu7RvYLgWAm4P+7O93tabM50R/qaRcqFwoBISAEhIAQEAJCQAg0FoH/15AVN/dnSbfXyy+/zuTRxx5j8F138587B/PY40/wzaRvSUpOweF0NeRwHK7LPy5KoFdW6UlJTWN/YhI2u+PwOf4PxwoQ//6TbS02G6lp6cTGxVNcUqqV7X9JcLJr5bgQEAInIeD/wzzJaXJYCAgBIdBsCMjvYrMZaumoEBACUA+iXrPhHpetXzwe92Az2KlE7Np16/no40/44MNhTPr2O1auWs2BrOzDAroxGNWsU7VRvVywO5xHjYj/38Zjt0eddIIv6jq704nVZtcs9OoFglp8/z/BhXJICAgBISAEhIAQEAKnSsD/wHKq18n5QkAICIEAJHCWRb0S9Mq6qwShyLXj3Q9l5TrS0jM0q3V+QSF6gxGny62d2ljEjlfvsfvU9+Otx+vjqew7tp5TuVbOFQJCQAgIASEgBITAcQn4H1qOe1B2CgEhIASCi8BZFvXKfdyibLJqxnVwkWpmvfH/W3iybTPDIt0VAkJACAgBISAEAoGA/wEmENoqbRQCQkAInCGBsyzq3Xhw4MWDsj0bzfZqK7T6ZZUl0AjIqAXaiEl7hYAQEAJCQAgIASEgBISAEGhuBM6qqPfgwYkbO14KdEa2xyVRVF6Bw+0SZ/wAvLNE1AfgoEmThYAQEAJCQAgIASEgBISAEGhWBM6qqPc735dYvSzbksy4yQvYtCedMpNLm2XfrMhKZ4WAEBACQkAICAEhIASEgBAQAkJACNQzgbMq6lWIPJ0T4nNNjPpuFa+M+p0vfllPXHYVBqeEzqvnsZTihYAQEAJCQAgIASEgBISAEBACQqCZETglUV9bzBG1X4XFUyHycowwY1UKTw2bzTMjFvHK6Pn8sT6TPJ0Xl8TOa2a3l3RXCAgBISAEhIAQEAJCQAgIASEgBOqTwCmJeqXJ1XrsXGu1TyWxK3PA5jQzb325mkdHLOHR4St4euRyPpm6m5g0ExYHuD3gVVH0ahRS28uC+uy4lC0EhIAQEAJCQAgIASEgBISAEBACQiDQCdRZ1Put8ccztiuNbgXSy+CbBUk8PmoJD45YxQMj1vHwsDU899FqZq3IIK/UjauGmPfDE1HvJyFbISAEhIAQEAJCQAgIASEgBISAEBACdSdQZ1GviqxNfKu59MUmWBNXzhtfrOPBD5fy4McbuGfEeu4bvo5Hhq9mxOQtbN5bTJVS/8cI+9rKrXs35EwhIASEgBAQAkJACAgBISAEhIAQEALNj8Api/rjIbJ4YF+ug4m/xfL0qBU8OHw194xcz10jN3LXcCXs1/Dcp0v5Zs5uEg8a8NYw9/sF/TE6/3jVyD4hIASEgBAQAkJACAgBISAEhIAQEAJCoAaBUxL1Na47/FG50+dVwrxNubw6bgWPDF/GAyPWcLcS9aM2ctfIddw9YjUPf7SU175cxbyN6ZQZvCiXff/8fBH0h3HKByEgBISAEBACQkAICAEhIASEgBAQAnUmcEaiXglzvQ22Jun4ZNp2Hhu2gIdGruSxsVs0MT941DruHb2BB8Zs4IHRq3j4k2V8Mn0zO5OLMXl8wfVqGO3r3Gg5UQgIASEgBISAEBACQkAICAEhIASEgBCA0xL1fpd5G5BRaOenpQm8+OkiHhk+j2fHr+eDmWncM2IVd41YxWOfb2DIz3t59qvNPPDRUl76bCHTl8ZxUOdFzcUXUS+3oRAQAkJACAgBISAEhIAQEAJCQAgIgdMjcFqiXglxlcKu3AprYgoZ9u0aHh8xj2c/W85HsxOZus3IfSOWc8/wZTz35Qa+21TMiDmpPPbZWh4ZOYdhP6xlw95CjM6aol6c8E9vCOUqISAEhIAQEAJCQAgIASEgBISAEGiuBE5L1Cv5bfNAUq6d7+cl8MqnC3j24wW8PyWaBfEGliR5eFDNrR+2jFe/XMOyRDOzd1fyzpRoHh/5Oy+OnceUhTvIKbNoLweaK3zptxAQAkFKQL35dHvA4/W9ufQHEQnS7kq3hIAQEAJCQAgIASEgBBqPQJ1E/bE2dPXd7ID1saV8+P1Wnhk5l9fHL2fK8jT2l8O6NI8WMO+RYcsY8sVydmRaSCiGqSuTeWXcPB4b+RujfljK7pQ8rB5fhjtxw2+8m0BqFgJC4HQIqF9C/1rjF8zpAaMZyitAVwEVeqgwgcGOFiH0dKqSa4SAEBACQkAICAEhIASEQC0ETkvUq7KsTojeW8zoaZt5Y+xsxv+yRRPvBXbYlGbjsRGLeWTYUoZ+sZTdmUYKLLA9pZSJv23k1c9nM+6nZcSl5uFSBq1aGie7hYAQEAKBQaD61afS9kUlEL0N4/xFGOfMw7BgCWWLVmHYFgeVRp/1vvr0wOibtFIICAEhIASEgBAQAkKgKROok6g/tgPqedTthYJKN+vj8pi/PoFdqaVUeqDCA5uSK3l8xHweGbb4sKivdEGlFWLSCvlj3V42xKRjsHglUN6xcOW7EBACAUrACw47ri3R7Hn6WeZEdmF5RGfmR3ZjSlQflj37Ot6kTHmLGaCjK80WAkJACAgBISAEhEBTJXBaol51Rgl7FSxPRcCvuVa5YGtaFU+MnM/Dwxcx5Isl7M40YKm2TFndYHD7rlG7/GtTBSTtEgJCQAjUiYDHAxYzrFzJ/jsHs6b95exs2451rdryc8srWH33I7A3Cewun7Cv/k2sU9lykhAQAkJACAgBISAEhIAQqIXAaYt6f3l+Ue71+p5TDU7YlmrgiZELeGj4It7yi/rqKafqfL/Lvf9adUieb/1EZSsEhEBAEFA/WmrukFpdHnA4wWSG1avJvnsw29u3IePy1sS2bsmSdu3Zcte9EL/Xd57/OvnxC4ihlkYKASEgBE5IQB5iT4hHDgoBIVD/BM5Y1GtNVD9m1QHvVJq6balGHh+1gAdHLOLNiT5LvbLQH7uoy6ov1dzw5TfxWELyXQgIgSZJQPvh8oDdAeU6yC+AvEOQlQ2/zST35hvY2/YyDrW5mIOXt2Rdi4uJu+1mWLsK8g5CYQmUVIHe7nvL2SQ7KY0SAkJACAiBOhGQB9g6YZKThIAQqD8CZ0fUq/ZVW+r1KoBempFHR83ngRELTyjq669bUrIQEAJCoL4IuMHrALsZKsvInfkLycM+IGPoWxx89RVyBv+H5NAOpLS4iOJWF5LX6kL2XHoBMeFXcuCRe0l57SXihr7NnpFjyFm2FvRqApMsQkAICAEhEDAElIj3C/manwOmA9JQISAEgo3AWRL1XtR/ao69Coi3Oc3Iwx/N4/4RCzRRH5Nh4HiW+mCDKf0RAkIg2AlU/9J5rWBWFvos9r/9Gpv7dGNrZChxoVey/4p2pLa6lEMtL6Ky1QWUtvgb2Zf9jcRWFxL7r1ZsDr2CpeFhLOh/DfGff4W3tDLYoUn/hIAQEAKBT8Av3j3gcXlwu9x43B48bi9eFT3aL/IDv6fSAyEgBAKQwFkS9b6eq7nyKlDeljQDj3w0l/tHzOetiYvZk6EXUR+AN4c0WQgIgeMRqLbUW/SQl0XiS0+xtdPl7L78UtLaXUxOm4soankhVa0vwNLqPAwtzqGs5bnkXHYOGW0uZG/7i1ndviXzO4USP3IkFJccrsT/zHh4R9B/UA/Cau6WYuryrZLkNOhHXTooBAKagP9ny+PVpp5q0089Xu2nrN6FvcRhCehbRxovBOqTwNkT9dXu9z5Rr+fRUXN4YMQ8hnyxiD0ZVSLq63MUpWwhIAQakIB6onOD1QJ5OWS9+ARJIa050P4CKtqdj6nteVhanoO9xV9xtvhf7C3+grXl/1J16V8wtL2A0vYXEdv2H6zteAUpw96FwkPV0faUF4DP2BPcBh9/L5WYd4FLxRWwVq8W8KjpCMcJwtKAIyxVCQEhIASaHAH1DsHlEa+AJjcw0iAh0DQInHVRr3epOfVVPPqREvVzGfLFQp+or45+3zS6La0QAkJACJwJAQ/YbJB/iPiXn2Vj2D/ZesWl7G9/CdntLqSo9f9S0fIvmFv+BWOrcyi87C8cbHUuGZdfRNwVl7Dy8kuZG/Zv9gx/DwryfC8J6t3Ecyb9PVvXKkGv/jFwgccOZYWQvA/27oGEPbA/DpL24s3P82UJOFvVSjlCQAgIgUAnoES9W0R9oA+jtF8I1BeBehT1s3lgxByGTFzAnoxKrCLq62sMpVwhIAQanIAXHA4oLCTmvbdZOaA3q7qEszUqjITQtqS3P4f81v+DvvVfKW99Lvv+8f+IbXchMWGXs6lLRxZ3D2PeNX2JnzAWigvVk1qNqEsN3pkGqtBvoVcTtZR13oQtej3xIz8g5r8vkvLay8S/+Sox779N1tw5UKWXOaoNNDJSjRAQAgFAQHMSU27+1W7/we3SFQADIk0UAk2LQAOJ+goR9U1r3KU1QkAInCkBlxt0OgoWLyBj/BjSRw0nZ9iHFD5+LxmRbclqcy5VbS6gqM2F7LjsHHZ27cChl54gd9Q7pI0eRsqXn1GyYQ0Yq3zzys+0PU35eu3h0/8EWi3qHXpKf/mRmb278UPrS5nV8hImt27B9yEdWP/u25CfD17/NU25c9I2ISAEhEDDEFAhSJrJPK2GASq1CIEgIiCiPogGU7oiBIRAAxJQD1ceDzhtYDOBVaW4q4KFcyi55WrS215EZdtLyG1zMetaXcSu26+DnRtBXwyWCrAbwO2fPx7E4lV17ShPLfXFDhYdjp8ns7ZXF9Zf0Zo9bVqwpn0bloR2ZM/bb0F+Lrjdvmur8QQxpQa8caUqISAEhIAQEAJCINgIiKgPthGV/ggBIdAwBJTC1FYlPB3gdoHZBsuXcuA/NxLT/jJyL2/F/vYtmN/2EtYMvhkSdoHT5AsG51VJQJXV+ijF2zBtb8hatEjRXnC5wK7EvNGXDlCXD5O/ZE/3cBIub0l260uJa9eSbaFXkvX6y5CWCGb1ssQJjmp304Zst9QlBISAEBACQkAICIEAISCiPkAGSpopBIRAEySgmY7V/1RKNsDmwr1qJTGDb2XZP1uz7YqWrGp3KT9d0YKVD90FSXHV1vmaQl4rpAl27iw1qTq4E2U6iI3Hs24trF0Bi+dgf+NF9of9H5ltL6G87aWktbmYmCtaknXfHTDrJ1i9Atasw7xpK5TqfO9AzlKzpBghIASEgBAQAkJACAQLARH1wTKS0g8hIAQan4DDg3PHDuLefJXF1/Zj7aBeLBrQlZnX9WXju6/DgRRw25tBULwaQ6HeX7g8OPfuY/eQocy+egCL+vZiU6+u7AppT9yl53Ko5QUYW/+d/FYXktjyfHb+qxVbeoSz+qpeLLp2EDPuHEzhug1gV94NsggBISAEhIAQEAJCQAjUJFAnUa/sSCe1JVXnqT+S0q5m9HsJlFcTunwWAkIgSAmoH8qSUpwxOzFuWo5x03wq1s+ldN1izAkxUKUDtxKmJ/1FDR5AStQ73LB9O7EPPciC9m3Z1L4tsW0vI6nleWRd+hd0Lc/B1upcDK3Po6TFuWS0OJf41hewpf1lLP9Xe6Z2jqRg4XwwGSV4XvDcGdITISAEhIAQEAJC4CwREFF/lkBKMUJACAgBjYBKT2c1YtLnkpG7lbSsaIwVOeAwg0tZ6ZvZokS93QVbtpB9311sbX0ZWe1aU9zmUopa/o2yFv+DudVfcLf6C67W52BreQ6VLf5KSctzyWx7EXsub8m8iBDK588GQ2XwZwpoZreHdFcICAEhIASEgBA4cwIi6s+coZQgBISAEKhBwI3Ha+CgLo6Z0eOZvnYsueX7cHuMeL2OGuc1k4+aqHfCls2k3j+YNW0vJf7yVqS3v4zsthdS2OZcTK3PxdXqHCxtzqOi9fkcan0B6W3/Tuzll7Hxn+2YGRlOyYJ5YFC565uRl0MzuUWkm0JACAgBISAEhMCZERBRf2b85GohIASEwFEEvDiwUM7eyo18vuVNRq/4L/vLt2NwleNCpbBrZovS4Gou/JaNxN93O3Nb/51Vrf/OlhbnE6/c71v9jarWf8PZ8lwqW59PXusL2N/qAra2vICVrS5mXts2fBcWTv68+WBQ7vfNjJ90VwgIASEgBISAEBACJyEgov4kgOSwEBACQuDUCDhxYqDAkc6m/EVsyF5IoTUTq7sSjybqlem6mS0uN96kfSSOGc7qh+8i+qHB7Lv3Nvb1jWLf5RdT1PYCrK3Po6jNhaS0vZjYLiHE3Xkj0fcPZvVDD7DopZcp2bYdrDYR9c3s1pHuCgEhIASEgBAQAicnIKL+5IzkDCEgBITAKRBwq9x2ODBQ7i6gwlOEjUrcmPBqol4db2bmZuUyb6zEmbEfS0w0xG6H7Rsxf/AW8RH/4uDl/8DU5nwOtruYvf9qR8aj98GyebB9E6btW7Ekp+AuV0EGmxm3U7jr5FQhIASEgBAQAkKg+RIQUd98x156LgSEQL0QcOHGTJkzj535G9mWs44yRy4O9NWWelfzE/UaZzd4bGA3gtMKhgr48Xt2do9i/+UtKGp7EUmXt2RXyL858PrLcCAVzAaoqtJS4uF0N7t3IfVye0qhQkAICAEhIASEQNAREFEfdEMqHRICQqAxCfjm1OvYW76NcWs/ZNSCISSUbseMDg9WQFnqm8dytF1dTTtwgVetKkOABdfPP7O2e3e2tm9DUquL2dG+FRtCO5Dw5muQexBUJoFmOFuhedwd0sugJqD++P1rUHdUOicEhIAQaBoERNQ3jXGQVggBIRA0BFQ4PAMp+ji+jf6MiWtGk1C8CytVeLFXi9qj5W7QdL1OHfGC2wVOJ6W/zmJmv/78/M/2LLi8Fb9c0YafI0LZ/P47eAvyfZHuFSoR9nUiKycJgUYn4BfyNbeN3ihpgBAQAkIg+AnUSdTXCYN6TgP0LohOq+LRj2bzwIg5DJm4gD0ZFVjloaxOGOUkISAEAp2AFzcOKtylZNpSyLKlY6ACDyqdnRM8zmbqfu8f12qV7nZh3rWTHWNGE/3eW8S89zrR773B1lEfkLF4PlSqnPTqXFmEgBBo6gS8Hi9ed/Xq8cpUmaY0YDV/Rmt+bkptlLYIASFwxgRE1J8xQilACAgBIXA0ATcu9N5K8tzZ5LtzsGpB8pSYr3Y/b26B8o7G43upoVzwLQYoK4DiTChKhpJMKM8DU4XP9f5P18kOISAEGoqA1wNKrNfp50oZbvyrCMeGGqJTq0cZ31RsEjGynRo3OVsIBAgBEfUBMlDSTCEgBAKDgLLT2zGRYUhk1v6p/LTjW7INadi8Kvq9stY310B5x46fL0sA3kp0lUlkHdpMUVEcTlM+eMzic38sLvkuBBqYgN/6XidRL0K+gUdHqhMCQkAIHE1ARP3RPOSbEBACQuCMCHhxafPn9+q2M3rtu3ww/3X2lcZgxYBHzanXJio17ydg1XsPHpxa9IEyNmWu4If1E1i04zdySlNw4hf1zZvTGd2IcrEQEAJCQAgIASHQbAiIqG82Qy0dFQJCoGEIqNnzVnJNmaxIXcDSfXPJNx1Ehc/T5tTXyezVMC1t7FoUKRMVbEpfxaSVnzFn8wyySlK01yJovr9K1PvXxm6t1C8EhIAQEAJCQAgIgaZJQER90xwXaZUQEAIBTEBZoc0uA0WWPEosh7B5TD53ci1Fm0xo9A+tz6vBQJp+HxtylhObv50ya4E2geFIkDwR9X5eJ9oqV2m7zU55mY6sA1kcyjuEy6mmejTzuIwngibHhIAQEAJCQAgECQER9UEykNINISAEmgYBX+x7KyWuPGIrookti0bnLvIJVRX9XgWIk0Uj4MWJHSMF7izS7PEcsmdi8uh8Xg2HI9+LqK/tdnG73JgMJgryC4iPi2fF8hX8MHkKoz8ZzR+//4FBbzgSvKy2QmS/EBACQkAICAEhEPAERNQH/BBKB4SAEGhKBJRLudlbSZJ+F9/vGcNXmz8iTZ+gzR7n8Jz6ptTixmuLT9QbSCmLY33mUmJztlFmzMfhteJW7veHXe+VsJdFIVHW+MqKSjIzDrB7124WzF/IN199wxuvv8G9d9/L1QOupk/vPgx9ayjZB7LxuMUzRO4cISAEhIAQEALBTkBEfbCPsPRPCAiBBiWgLPVWj4lkXTyTNozh8yUjSC1PwOY1IqL+2KFwakEFN6Ws4JulY5m9YQZZBalaAD2vlnfJb6VvHqL+T730gsvps8YXF5WQlprOls3RzJk9hxHDR/LUk09x0w03aSI+KjKK8LBwIsIj6dG9By+/+DK7d8Vgs6pYDrIIASEgBISAEBACwUygTqLe/1h1QhAq/yWgd0F0WhWPfjSbB0bMYcjEBezJqMAqxoIT4pODQkAIBA8Bl8dFsaWA6Ox1bEpbRak1H5fXAl4HeKvnOQdPd0+7J2pOvYUqtmWt5ccNE1m0/XcOlmRUBxVU/6IcmapQp3+HTrsljX+h6p/6Z1KtTqcLo95MYX4xSYkprF29TnOrf3vI29x3730MvHogkRGRhIaE0im0E50jO9O9W3f69+3PbbfcxjNPP8OkbyaRuD8Rs0llEpBFCAgBISAEhIAQCGYCIuqDeXSlb0JACDQKARcuqtCRRwYFZGkR3rV0dkrUe0TU+wfFjbLUG8hzZbDXuJ0sYxIGlw43NpRrvk/i+s4OSlGvOqUmGXjB6XJjsVkpKikmIWEf8+bN55OPR/PYo09w3bXX061rN03Eh3YMpWOHjpqoV/sGXDWAuwbfxeuvvc6XE79k9crVZKRnUFVZhcfl8c1g8FUj/xcCQkAICAEhIASClICI+iAdWOmWEBACjUPAo0lSC7nOTLZUrGBL6UoKXTma9VkTqh5xW/KPjGJlxUQp+WSRTKH7oGa5116AoF5+HGEVVKK+ujMq0J3VYqWkpITYPbH8Mn0Gb7z2OrfccjPdunclJKQjV155JR06dCCkQwidQjoRFRFF7169ue3W2xg6ZCgzf53J/oT96Mp0R6LdHwEsot7PQrZCQAgIASEgBIKYgIj6IB5c6ZoQEAINT8CDC7PXQELZbsatHsaoeUNJKIrBhnKDVu7k1ebZhm9ak6tReTSYMbI9ZzPTt05mZfxiCipzOCLqg9D93gv6Kj3JScksWbyEz8aM5cknnuDG66+nZ7fu9NAs8iF0DLlSE/WhoSF06dyFQdcM4onHn2DiFxPZtHETWZlZWMwWnHanLxie3FZN7v6WBgkBISAEhIAQaCgCIuobirTUIwSEQLMgoAK82TwW0nSJTN3yNd+tHk96WSI2j1/UNwsMJ+2k0qB2bOipZEXyYj5dOJzpq38gIz+pek6966j0f9XG7ZOW21AnaMH561iZmteenZXNpo2bmfzdZC1S/d2D79Yi1ffq2ZPOUSrIXSc6drySsLBQIiPCGdC/P/fefQ8jhg3XAuPt2rGLg1kHMRqMOOwOiWpfR/ZymhAQAkJACAiB5kBARH1zGGXpoxAQAg1GQIl6p9eOzlNMoimGJMMeyl1FWkR3lEv54fzrDdakJlmRBy82rOipYE/5dhak/caWzLUUGw4dmaoQiO73XjTRXVpSSnzcXubNncfn48bz/HPP8587/sM1A6/RotOrSPUq0F1Yp05ERkXQs293Bt0ykKdefJwvvhzPsiVLidsTS37uIYx6I06Hk1N5kdAkB10aJQSEgBAQAkJACNQLARH19YJVChUCQqC5ElDu93bM6Cgg3R1HujOBCkpxYEMFhsN7xKW8uTLy99uFAwsGCrxZJNljOGhJ1QLlubCivQAJBFFfnXauqlJPZkYmGzdsZNrUaXzw/oc8+cRT3HH7HZpFvnvX7lrKOV/auQgt8N21g67joUce5O1hQ/l8ymdMmDWOKUu+Jz4zjvKqMmwOFTBQ/Or994tshYAQEAJCQAgIgeMTEFF/fC6yVwgIASFwWgQ8WkT3Kg6Y9rMgaQZ/xP5EljEdEyacOFCiX4SaH60bO0Yt6v3OwnUkFe9BZymqkdLuiKBtSu73Kqq8ms9eVFhEfFw8S5cs5dtJ3/Leu+/x5ONPcuMNN9KjWw8tqF1Yp3At7VzXzl3p368/d/7nTl584UXGjB7DrJm/sWbjGnYl72Jb1lYmb/qOiSvGk1C4l0p7FXavA7f/bvEDOILED1G2QqBpE6h57zbm5+qIJo3ZBH/d2oD5v5zJtubI16WcmufX+FyXS092To3i5KMQEAKNQEBEfSNAlyqFgBAIXgIq97pyKk8q28OktWMYt2AEiSXxGL0GlGVaRXwXUe8bfyXpFaut2euYuvlrlu6eS15ZFmr/8YIK1nyobNA7yONzqa+qqCLrQBZbo7fyx+9/aEHrVCo5lTteBbLr2aMnXaK6VFvkI7TvN1x/Aw8+8BBvvvEmX37xJfPmzGP71u3aHHuD3oDVacXgNnDAmMH0rVP5avkEEvLjMdj1OHHi8XrwqikbqvOyCIGGJKBuuzNctfu25h9uY34WUV/r3XM2hqXWwuWAEBACDUJARH2DYJZKhIAQaC4ElKi3YSTblMzC5F/5I3YaB4wpmpu5EvVeLQJ+c6Fxon56Ned7ExVsyFzBV2vHMif6V7KLM3Hj0NLZeY8zibzmw+eJSj+jY160QHQ2q42y0jLSUtLYsG4DM36ewcejPubZp5/VrPF9evclKjKKTqFhKIt8l85duar/Vdx+6+089eRTDB82nKk/TmPlipXsjd9LcWGxZuF3O92HRbp6wWPHQYmnmG2Fm1mXtZJcU7YWbPKyeH8AACAASURBVFF5fXhVCkSJw3BGwxkQF9e8sdVnlc3x2PXYc2r7XscO13b54f3q7+AMV+3WPVxgI6vqRq6+JoY6DtGpnVazgto+11Jibaefyv5aipbdQkAINBABEfUNBFqqEQJCoHkQUKLdiVWbU5/h3kumax+VlODEUiNVW/NgcbJeKtFqUV4NFbGszlrEroPRFOsLtKgESvU2qKj3gMvhQl9lIC83TxPhq1auYuqUqQz7cBgPPfgQAwcM1ObCqwB3Ha7sQGjHUE3IXz1gIIPvHKwFw/v4o4818b9l0xatHBX5XqWd8yp1dJxFiXo1LaMKHZmeZNIcCZR5CrB7zbg8Dt91x7/0OKXJroAl4FdP6h2OWtV7n+OsNYW+dp7/fPUCwF9GHSH4T6/PbR2b0mCn1WdfT6XsButwHSs6lbbXdm4dq5LThIAQqCcCIurrCawUKwSEQPMkcDj6vbuIZFMsqYZ49J6yakGvLNCu6qfv5snn6F6rCANWSjyHyHQmUujIweSuOizqjz7X963mA+Xxjp/KPrfLrUWqV2nicg/msmvnLubPm8+E8RN46cWXuPWWWzUXehXcrlNoJyLCIzTLvAp6d+2ga7Vo9i+/9LLmhr986XKSk1KoKK/QItXXtR3qflGTEIpceWzJX8367KXkGNOwug24vSqwYl1LkvMCmkDNG7v687GiXXNcqXHescc1wX8K90uNog6/D5B9R96NCItTYxHQf3/SeCEQBARE1AfBIEoXhIAQaDoElKXe7jGTWZHIT9GT+G7VBLJ0qdo+VPR7cb+vMVhq9ryJ1KoENh1aSUJhDOWWkmpRX+O0Gh9rPmjX2F23j15QQt5qsVGpq+Rg9kFtfvvsP2bz7tvvcvddd9O3d19NvId1Ui71vlUFuVP71fz4e++5j3eGvqNFuI/eHK1Z45Wb/gkX1ehaFhVjwew1kF6RyNfLP2PM7A+Jy9mO2VmlxV+o5TLZHawE6nKD+8+pZwb+aoJlW8+4Trn4psL1lBsuFwgBIdAkCYiob5LDIo0SAkIgUAlo0e89VSTqdjN21YcMnzOEfcV7cGDVHK3xSEo739iq1x8O1Jz6FckL+HTxh/y6fioHCtO1gIK1jX/NB+Hazjl2v8ft0SzyFbpKUlNSUVZ1FX3+oQcf1tLNKSv8lf++UnOn79ghxGeVD4ugZ/ee3HzjzTz95NOaNX7D+g0cyDyAy6m8Lc7OokS9FRM55gxm7pjC92vGsy9/FyZHxRFLveq0LE2fQM2b89jPp9J6/7W1XXOy47VdJ/uFgBAQAkIgaAmIqA/aoZWOCQEh0BgE1AxpOwbynOlsLF/G5tJVFLrztL3qmDZhtjEa1uTq9IcU1LEucynjV3/Mb5unk1WUUR0o7/gN9usZtT3Z4nQ4tbRzu3ftZsb0GQx5a6jmMt+rZy/CwyK0efEdr+xISMcQTdQrN/t+ffox+M67eHvo28z6dRZxe+IoLirGYXNoYl6lszubi0/Um6mghHTXPlLscZR58nFg1kT9YZfrs1mplFU/BGrenMd+PpUa/dfWds3Jjtd2newXAkJACAiBoCUgoj5oh1Y6JgSEQOMQcFcntSsjnyyKyMWEcqVWgl7c72uOiUeLf19Flj2FONM2Mo3JVNnLT3lOvV/juF1eKiv0pKWms3jhYsZ8OoZnn3mW/9xxp2aR796tuzYnXol3ZZHv8O8OdOvanZtuvJmXXniJLyd+yfJly0lKTKK8rBzlVq+C59UW5E7ri7/ymh07hc8+UW+hgjIy3SpQ3j5N4Ktgi2pOvS/6/SkUKKc2HgH/vXC87am0yn99bdec7Hht18l+ISAEhIAQCFoCIuqDdmilY0JACDQOAQ8ur5ViSx7bcjYQnbGOcmsxbq8dvCpQnhL26qlcFiXqrVSR68og0RZDji0TgxYoT3E6PqNj9YzV5iA3r4Do6O1Mm/ozwz8cyZNPPKWllVPp5WoKeZV6TqWgu6r/AO65+x7NGj/lhx/ZtHGz5pavLPImg8kX6K5m9SpXt8f7p/VwdLEzGEoPHqxYybPmMDf+N36OnkJaWRIWlxEVRtAXCr1mY86gMrlUCAgBISAEhIAQCEoCIuqDclilU8FM4ESP9yc6FsxMmlLfNKdyr4EUXRzfbBjD50tGkl6+H7vXpGUkl+j3/tFSc+qtGCllR+EGZuyZzPJ9izlYmYNDy1OvlLTvjvY7vDs9Hsw2OyXl5exPTGLF8hVM+vY73hr6Ng8+9CjXX38zvXr21dLMqUj1kRGRdI7qjHK3v+XmWzSr/Scff8Ksmb9pQj4lORVduQ67zY7X3Th/PcpSb8FMpimNyZu+ZMzCEezJ3YHRqa8W9bW+3/CDlK0QEAJCQAgIASHQzAmIqG/mN4B0P/AI+NMRH6/ljSNLjteS5rvPl3u9kiT9Lr6L+ZSJG0eSpt+LxauvFvV+idr8GKmc7Ecs8GqagpqYUMjK9PmMXT6cnzb8SEpxOg5cKku95nrucDqo1FeSnXuQ6O1bmfXHH3z62ThefvkV7rnrHgZdex09+/QhPLIznUIjCQuNpEvnbpo1/v777uetN4fw9Vdfs3D+Qnbu2EnWgWwqKyobVcjXHHlFwYyRHGcmK3PmMS/lF9KqEjG5jVqe+lNNU1azbPlcdwL+O/N0t3WvSc4UAkJACAgBIXD2CYioP/tMpUQhUG8E1AOnip2uVp+4V3vUJ7X699Zb9VJwHQgo+7MTCyWuPPbothBTsoVyVxFqjnRzT2nnu2f9EN14sWGmnPiC7SyK+4PNSespqCzE7DRTpisjPT2VdetWM/mHbxkx8kOee/4Z7rzzTgZcdTVdoroQERJORFgknbt0pVfvvtx802088diTjBg+kik/TGHlilUk7E2gsKDw+G71/qY04lZLgYgKlFfMAU8iKfZ4StyFWLHh1PLUq79xWU5IoKYSP+GJNQ4ec03Nr8f7XONK+SgEhIAQEAJCoMkREFHf5IZEGiQEaiegRJET5eDtF/deLZe1b4+aqy3ztWun13BH1HiYXQYKzXkUm/OxeSy+Fy9eN6i1mS5HXjsp2aTuYic2r55SyyHSChPYmxbDjl3bWLx0Id9+/w3vv/82jzxyPwOv7kuP7lF0jgojMjyCqLAoenbuzvVXDeKBe+7ntddeZ9y4z5n56yw2bthIZkYmuvIKLWK99r6rSfNWs+ptVLqLSdTtYU/Rdgqthdhx4sajeSw06eY3hcb5VfjRb41O2LIjMRJ8viP+ImrbnrAwOSgEhIAQEAJCoJEJiKhv5AGQ6oXAqRFQTske8LjAbgOLESx6sFSBtQrsRnArYS9L4xHwOeDnGjNZlbaQZfvmkW86iAtb9UsXpTya9+LxurHazFRUlZGUto9N29czc94vjBk/mpdefoHb77iNHr26ExLakY4driQ0pANRUWH07tOdQdcO5L777+Wt199g0oSvWLpwCQl791FSXILVYvFFiw8ovL5wgep+mbV9Gj+s/YrEogQsHqvvbz2g+hJAja1W79VhGwKo4dJUISAEhIAQEAJ/JiCi/s9MZI8QaKIE1FNotaCvqoTE/VjXr8W5bhXODasxbVyDcfd2KC0BV/O1Bjf24PkkfRV7ddsZu/59Rix8k70lO7Ggx429eqpEY7eynur3mzlV8cd8djtcmPVGivMLSElKYsOG9cycNYv33n+f+x54iP4DBhIeGekT8qEd6RDakcioKPr17s/gOwbz7LNP8f6wd5g4aQLL1y7TXPPNlXq8To/P+UHVp5nltQ/11MGzX6yy01u8Fg4Y0/hhy0Q+XzaKuPydmFwGX6A8jwoYePbrlRKFgBAQAkJACAiB4CEgoj54xlJ60iwIuMFlhfQkksZ8wu83DGL+oKuYf+0AZtwwiLnPPEnptmiwKauwLI1BQKUhs3oNZBoT+S1hCr/GTOaAIUWL8+7Cjter3M6DdFHi0+NL/+a0O7FarOgr9RTkF5C4bz/LFi9l/LjPeeG557n5ppvp2qUbYZ0iCAuLJDyiM106d6F3zx4MGHAVt91+G88//wKffvIpy1YsISE9hgJDNhXuMsyYtcgFGkVVZwCLXuV54/DaKHEVsK1kHRvylpFnzcLiMeNSc+qVqJdFCAgBISAEhIAQEAInICCi/gRw5JAQaHIEVJ5zlxH27SbjtRf444rWLG97KcvbtWR665bMvuYaKlatAqtVEzoiBxpjBFXoMwdGKin05lBKgRYOToXPc2t56oPQi6JaWLtdblxOFwa9gdyDuezYvpNfZvzKh+9/yAMPPEifvv0Ij4gkNCSU0I6hRHSKonNkN3r26M2gQdfx0AMP8P6Qt/hpyhSit0Rz8GA2JpMeq0dPmTeHdGM8afokitwlWLAccU+vrr8xRvvM6/Ti8TqwaHkAssj1plFBGTavL1CexyPTNc6csZQgBISAEBACQiC4CYioD+7xld4FBQHlflvtdu+2gr0K4rZT/sozbGzfgoQ2l5B8RWs2XN6GjQMH4F6+FIwGcLsD0Rs5CEZM2ertVHpKybIlk+vMxEgVLi33uhL0ag2S1y3q1nR7cTvd6Kv05GTnsHbNWr6a+BXPPfscN15/Iz269SCsUxgdOobQISSUjiGhdOoURlRkZwYOGMSjDz3GqJEfs2jRYlKTkjHqdH+aPmLDQKo+lsmrJzBpyUS2Z29H5yhHpYPTSAa0qFd3hJ1yRwFb89ayJmMxuaZsrB6LzxtBC6wYJPdLEPx1SxeEgBAQAkJACDRFAiLqm+KoSJuEgCZVqpWK2wVWExh0UFUK5QWwdT36Zx5jZ6uLyW/fgqJ/tmZ3u0vZ0bcbzJkJxflgVEH07ODwBJWObOo3h7LIm7yVJFbG8O22MYxfNZL9JbFYMWkWfN9gnN1eqDvFfbZ0X/Vtd6L3Dsoar1zry0rLiI+NZ87sOXzy8WgeffhRrr/uenp270lUZBSdQjvRsYMKdtdRE/Ldu/fg1ltv49X/vsakb75l88YtZKRlYtAbNQu/1onj9MOKmcTKOCatmsCXC8axIyuaKpcOr9eNN+AjnXlxYCNDn8xX68YyfM5Q9uRtx+SoAq8d3A7wBKF3x9n9E5DShIAQEAJCQAg0awIi6pv18Evnmy4BpWyq8zOZTRh2bSNnxo9kffcl+d9MoPydN8ga2JeESy+grNVF6C+/lKTWF7IjpC05zz9GwcTPyJv8PZnTZpC3bjPeKnPQGIeb7pj5WqZc7w1eHbHl0Yzd8B7DFrxOQulu9K6K6gj4Z0mg1RC/6k5xeH13TH3xcTqcGPVGzRq/ccMmvvv2O1579TXuu+c+rrv2enr36q3Nie/SuSthoWGadV7Nkb/2mmt5/LHH+XjUx8z5Yw67d+0mLydPc9G32+wol/2jXiD4XyrU6IgVK/nksadiB3t1MRyyZ2HBAAEv6NUrHjcmr5FMcxq/7P2R77Z+QWJpHFaX6p8S9WpefSO64PvHo+a2xtjIRyEgBISAEBACQqDxCYiob/wxkBYIgdoJKLd7XTnZk79l7a03sqBbBKu6hLIj9Ar2tbuYg60uoKLleZjaX0Rum/OIb3Uu2/7dinVRHVnSoyt/9LuKte+8h+Ngbv0qvtp70OyOqBn1dswU2rLZXriO6Jy1lDmLcWBHRcavD0u9Cr1n9YKzhtA/SiifyijUKEMFu1Op4hL2JjBv7jw++fgTza3+rsF3Meiaa+nZoyedozprAj68UzhhncI1K/0tN9/Cf1/5L19/9Q3Lli4nIT6B/EP5WtA89XJA5Qg/lUXNny+nlFyyKeSQNufcrqUIPJVSmua5KhO9yklfiY5kWwL7TbEU2Q/h8KqUdq6jX3g0UBfUz47fWehIPnevNgvIv/+obQO1S6oRAkJACAgBISAEjk9ARP3xucheIdBIBPzmsOrqlYWurJTCsaOJ6d6ZTW0uIbbVhaS0Op+cln+jvM15GFudi7mt+nwOOS3/QnrLc9nf+u9saXsZS6+4nM3PPI0nIx3cjWjtaySajVOtB5fXhslTQbErl1K3CpRnRaUuU4K/PkS9elVg9oLtDJ0AXNrceANZmVlsXL+Ryd9PZtgHw3jm6We54/Y76N+vP1ERyq0+DCXiI8Ii6NalGwMHDOThhx5hxPAR/DTtJ9auXktSYhJFhUUYDdWu9WcwGDbs5NiyWZ22kjXJq8ioStfSwJ1BkU3mUvUX78KDHj0H7Rmkm5LQucpw4dR8dRqkof6fneqtipOgVa5lMvCF9DhW6HvcHtwuDx6XSimoBL+6WBYhIASEgBAQAkKgMQiIqG8M6lKnEKiVgP/puvoEJep1OkrHjmFv9y7EtG9JZrtLOdT2Iopbn0dly3OwtT4He+u/Ymx3LiVtzuFQ2/M50P5idrZvwcor2hH9zFN4MtJE1NfK/OweUNZ4Kwby7OmsO7SINVkLKbTnYPWYVPKyegmU5xf1FvXhFBaVTs1sNmsp5/bExLJg/gK++fobhr41lAfuf5BBAwfRq0cvzRofHhaOWtVc+X59+3HX4Lt5/bXXmTB+Ar/P+p0tm7eQmZFJpa4Su81xVi3Mak79/qpYvl4znq+WTGBX7g70nipfTwNcS3pRc+rt5NqyWJD0Gz/v+J40XSJmlxF3Q8l6/8/O8bbHu5/856n3hDWs+sc7VfYJASEgBISAEBAC9U9ARH39M5YahMApEPA/LVdfUi3qyz4dTUJUJPGtLyO31T8oank+ZZf9Ff2l/4Ojxf/gbPk/WNv8ldLL/j/yLvsLB1qdz67WF7GqXUuin3oMT3rKnyKKn0Kj5NRTIKAi3xsoJ04fzdht7zBq5Rvs0+3A6C7Hg71aBZ1CgXU4Vb0qMHnA7Kyhpf230uF550o+erE7bJSVl5GalsLmLZv47bff+GzsOF55+RWUW72yunfr2o2QDiFagDtlme/bpx+33XIbTz7xJO+9+x6TvpnEksVLiIuN09zqLWaLZq2tQ1NP6xQ1fz7JvodfEyYzM2YaCeWx6KnE4/XgPWxCPq2iG/0i5b2hXgKlGOP5MvoThi9+k935W9A7dLhwn/YsikbvmDRACAgBISAEhIAQaDACIuobDLVUJAROh4AXKipInzCeFVf1Z2HIv1nb4Qp2XXEZqa0voKDluVhan4ux5f9S2Op/2X/Z/7Ct7YWsurINc0Ku4KfIEJa9+jLWA5ngUmnxTqcNcs2pEFAJ7ZRIS69KYMbOb5iyYQIZ5fuxeYx4tTn1Z38QlKg3usGsDORKzKtFueIr92iHA4vJSEFBPgn7E1i9djU/Tp3Ce++/x+NPPM4tt9xCn159iIyI1ObGR4RHaNb5Af0HcPttt/PiCy8y+pPR/PrLTDZt3ERqSirlZeU47A6UC3ZDqE7l+1BMDkmWGFLNCRR58rBhqnYR93e4ut8BtlHeEsoTIdd6gJUZ85m39xfSdclY3CqlXWD3LcCGQporBISAEBACQiBgCYioD9ihk4YHNwH1MF8t/kwmChYvZs+HH7D9vy+y58VnSLv/DlK7h5Da+nxMV/yDyjbnkdrqHHb9+xL23n4Nu59/nC2vPs+aoa8R8/M0bMVFh91kRSbU952jZJqDKkcJaWXxpJbspcpejsvrwONVpnQV1u7sLnavT9SbVAZDhxubyYq+pJxDWdkkxMaycvkyvvnma9548w3uue8e+vTtTURUBOER4URFRdG1S1d69ezNtYOu5Z677+G1/77G5+PGM3f2XM0ar+bGq0j12rzpRriBVMA4A2UcNKWQY0qjwlOkvTrRXlw0QnvO5uip5qtAeXpPJYWObPIsGeicOuxaXHzffHbR9meTuJQlBISAEBACQiD4CIioD74xlR4FBQH1qF+tVlSe+ooKKMiH3Gw4kAorF6N/4n72tP47ZVdcSkm7f7Cv3d+J7xMO07+H1ETIy4bCQ1ChA+fZF5JBgbleOuGz1Vd6i8hxJZLrTMHgLceJXYtmrnKrn+3FYIMivYvsQ6UkJ6cRvXELs2fMZNwno3npuee46Ybr6dq1C1GdIzUhHxIaQpeunel3VT9uuukmHn7oYd55+x0tMN6a1WvISMvQUs5plviz3djTKE/lEzhoSWNh3G8s2v0baeV7sXn0Pm+Es+/4cBotPP1LVABFNae+3FvM/soY4sp2cMhegN5jw+p141QONgH+4uL06ciVQkAICAEhIASEQF0IiKivCyU5Rwg0KgH1RK/cnN3gsoPFADHbKXr+CTa3uYT8/2tDXvvL2NHmIrb174Z38TzQV4HL5ctvHeCip1HRn0blKlCehSoyzQkszPiJ+UnTyDYmY3JX4dIC5Z25QlPTyL1uD3aThfKySnYnpLNo9Va++m4qr732FoNvv5OrevSms0oz17EjoR07EBbWiW7du9Grdy+uv+F6Hn70YYaPGM6vv/7Krp27KCwoxGa1nUaP6/8SC3piK7cyYc1HjF88ih056zC4Sn1q98xx1n8HTlCDuieMVJJm2sfXG8fy+ZrRbDm0nUKXiofvxOZLbHeCEuSQEBACQkAICAEh0NwJiKhv7neA9D+wCChh77TBvjhS//sCv7W9lM1XXEL0Py/hjzYXsmBAT6qWLwaj6bChX3UwwHVPQI2RstObvVUklOzgi1XDGPX7myQWxaC3q8Bnavb7aY6GyjLm8mhu8JUVlSTvT2LJ/EWMGzuBR556matuvIue/QYRFdWVsJAwIjuEEtEhhM7h4fTt3VsT8i+/8hJjx41lxaoVZGRmUKWvxKVe/vgX1bRjV/+xRtxavFVk2vezNHM2SxNnk65PwEJljQACjdi4M6xapa7TuytIqkxgwupPGblwGBuyt5BrKaPKa6+n0Ipn2Gi5XAgIASEgBISAEGhSBETUN6nhkMYIgToQcDshcR/bh77J2H+3ZuL/ncfEf/2N0f+6mEnX9adg9XIwm31W+joUJ6ecXQIqmrndbeRgZQoL9/zCrI1TyKnIxOI0VdtcT13UuxwuSopL2LVzN9OnTee1V1/jtptvpV/P3kSGdyGsS19Cul5FWOdehIVFEhUWSZ8u3fnPzbfw7pAhzJg+nd27d1FcUozVZsVdD1MAzi7FGqV51XsGh5ZRoJx8dBRipAIPTdOroEbL6/RR3Q1Wt50iewm7SncRXbSVbGsuFW4jJq8Dh1fFaJBFCAgBISAEhIAQEAK1ExBRXzsbOSIEmiYBFd68rBjL1g0cmjuZpOkfEPfDW6T88jll6xZDwUFQ8/BlaSQCbl/8e28p+e50ijzZmNGjLLJK8IMam5ML+6rKKlKSU1i6eCmfj/ucF557gVtvuZXePXvTJaoLEZ3CCe/YiU4hEYR37Udk72u55obbeeaZ5/n6i6/YsGI1mcmpVJaVadHv7XYbTteRRPYqvV1ALJqod1LpLiGzKomMiiRKnYU4sNSJY4P3UWH1r3WoXAl2m9tNFSYKKCKPPHRUYMOBA0+gjFIdeiqnCAEhIASEgBAQAvVFQER9fZGVcoVAfRJwW8FciK5gK3MXvsu0n19k/+7f8VZmgdMAHndQuCbXJ8L6KtujLPVYKPHkkWjdRaJpFxWU4sCmHfGltfPV7td+brcHo8FE1oEsNm/azA+Tf2DoW0N54P4HuenGm7iq/1V079aDyIgoOoV20tbOEVEM7HcV99/7ECM+ncjkX+azadsesg/moSspx1ZlxGNz+GIraLncVZ0BIuSPGRwbRlIMcfy46Su+XzWRXYeiqfSUa2epHilhrNZA7J1KW2fy2Mm1HWJN9nKWps3ngD4Ds9uivf45BoV8FQJCQAgIASEgBITAnwiIqP8TEtkhBJo+ARWMzUEVh9xJfL1pBGOXDyE6YwlGZ5Fy5vUF1TucsLzp9yeYWqjs9CYMJFftZeqOr/h2/eek6PZhxqiJehXr3OVxYrFaKSwqJiY2ltlz5jL+8wlaTvjBdw5m0DWD6NmjJ1ERUai88RFhEZp1vl+fflru+P++/F8mff0NS+YvZM/ueFKzCsktM6O3VHtoKHXrUpPw1Rqoctd/V3g1d/t9pp18s2UsX64ew9b89ei8pZqIV74Pyv9A9Vz1NNAWTdRjJ92Uxg/RXzJ20YfE5e3EZDfhVuMYiG8qAm0QpL1CQAgIASEgBAKcgIj6AB9AaX5zJaDswVb0FLGnfDPbC9eSZzqA3WtGswQftsw2Vz6N1281MmaPkcTSeL5e8xmfLRjF/oK9GBx6yiuLSE3dx7r1a5g2fTojR33EM88+x+2338HAqwdq+eLDOoWhViXme/XoxfXXXc+jDz/KsA+H89O06axetZq98XspLijCVGXQZlrY3Wgh+I6adBHoWr7GENoxUew+SEzRZmILt5FnO6C9OFHO6f4JDWobiF1W0yBsKmWfNYv5SbP4cctXJBfHYXebtEz1ql+i62vcDPJRCAgBISAEhIAQ+BMBEfV/QiI7hECgEFBu3maK3fnkOw9hxOeu6xMAIgMaaxRVWDObx8JBYyaLk+cwffMUlm1dypIVS/j++6/54L2hPPH4Y9x08y306t2HiMgoOnUK01zru3XpRt8+fbnzP4N54fkX+HT0p/w641fWr1tPakoqunKdFv3+sEm6epiVmP2TpTqIbgEVKM/kKqPUmku5vQCDW4fNY9YC/vmFfU1RH1hdV6/hHOgoIcESw07dRgqtB3B5lah3/XlcG+vGlnqFgBAQAkJACAiBJktARH2THRppmBConYASjipQWInnEBtyV7I8fSEZFalYPGZUSrXAtFnW3t+AOOIFl9NFZVUFGQfSWL9jLZPnfsuwiR/w4hsvcO999zBw4AB6dOtCeFgYoaGdCA+PoGfPXtq8+UcfeZQ3X3+TLyZ8wdw5c9mxfScHsw9iNBi1ck9krtVEvRZQLiBInbiRx1HkTizkmvex5cAiNqYuJb0ykQpHKXa3TZO9TpR/RKAuvsCKOopJsMYQa9pBoSMHq9ugifpA7ZW0WwgIASEgBISAEGg4AiLqG4611CQEzhoBle/cRAVptgQmbh3NiCVD2JCxd+zTYAAAIABJREFUgipnCW4t1Zc47dYF9lH68agvdbhaiWi3F5vVTllpOelp6URv2cpvs35n9CejefbZZ7n51pvp2asH4eHhhHQMITQklKiISHr36s2NN9zIIw8/yvvvvc/UH6dqbvUJe/ehctDbrKeWrk2bOh8sov4YH3r11UIV+w3rmbT+PT5f/AGbclZR6MjF6jZpMeLtXp9Fuw6j1nin1Hp/OXFiJNeawfykP/gl5idSdIlU2Su02AsnepnTeJ2RmoWAEBACQkAICIGmREBEfVMaDWmLEKgjAZ9tz0iuI5NZsdOYvHEiMblbMbp0eLCDZresVUXUsZYgOe04GNQuv7u21ku1o+Z6bNfVMaUu1cblxmQ0annj01LT2LRxM9N/ms6HH3zIww8+zMCrr9HmxncKDdNEfMcrO2rfVQT72265jSefeJLhw4bz09SftGtzDuZiNppxu9yH6zi2+pN994v6k53X9I8r0MrTRG2PLFbMZNoS+GXnd/wc/QO7inZS6tZh9apXWMo5H+zugEnSd6RjWj+duDByoDKJ7zd8zcfzRxF7KIYqeyUur+tYFDWulY9CQAgIASEgBISAEPAREFEvd4IQCEACyv1e5T03eCs5aMnggCkFnaMY5absS5kmlvoTDauiczhi+tH68c+XecBqNKMrKaMov5B9e/excsVKvp30La/+9zVuu/V2evboRUR4JOFh4do2KjJKS0F39YCruemGm7T58eM/H8/8efNR1vjy0nKcjiM54/9c6antCR5Rr0bmz14KdpyUUcm+qlTSrTkc8pRT7nVgdINJjY/HN56nRq2xz/a/KVL3gZView6LU+YzK+5XUiqSsXjVVBqPiPrGHiapXwgIASEgBIRAABAQUR8AgyRNFALHElAziJULvoEK8sgix5OBnnKc2FDp7mRO/bHEjv6ubMHKn8F+PJd1pbXcXtx2J3azlfLiUvbGxjPn99kM/2AYdw++i359+xEZHqlFqA/tGOrLGx/ZWYtWr6LY3z34bt568y1+nPIju3fupuBQAU67U3PX91v8j27RmX1TTT7Zu4kzq6GhrlbuEMru7svG53SBy+PF5LVSjI4szyEOugvId5dSgQNz9SsAdcf7+x84mRxVi1V/VevtWNCR7t5HGvspo0CLmeGLj9FQ7KUeISAEhIAQEAJCIFAJiKgP1JGTdjdrAspKb6KKbEca0+O/58vNn7E9bwtV7gpN7Iuor+328LloK3uwko42T7XHu9JWLg8euwuzwcTBzCzWrVrD+LHjePzhR7m6/9VEhEUScmVHOl55JaEdO9IpJJQOV3akc2RnBg0cxNNPPc2XE7/UItVnZWZRVVElw1DbMNSy3ydzfWPkcYLdASaHnXJ3BcnmJGbs/IlZW39hb3EsRS4dpS4b5RYTJouS935ZX0vhTW63X9Q7VBJEdBxiv3k78YbNFNozcFCFym/h9gbitIImB1saJASEgBAQAkIgqAmIqA/q4ZXOBSsBJerN6Mm0JfPp6uG8O/cN1qStosKlRH1Nu2WwEjizfikrvdnpweLyYrY4KC0sIW7nbn6e+hPvDX2HewbfzdX9rqJrVBfCOoYS2iGUkA6dUPPjw0JC6NurF/ffdx9vD32bmb/OYuf2nRTkF2A1WzW3eo9b3KbrMkLKqu6fOqC22rQIrxctvIAT3A4PTrsFo7WAjKItzFzyMTP+GEVq2lqM9iJsqLj31cEO6lJhkzrHL+rV3ain2JDIr2vH8t3C90nKWofZmItb5ar3qqR9sggBISAEhIAQEAJCoHYCIuprZyNHhEATJqBmztspdRWx9sBKlqYsIq0iFZPHl9s68KyWZxl1bSrI48Jqs1FYXknc/mTmLFjCmDHjePXFl3nw7nu44Zpr6dW9J10jO9M5PJLITuFEhUXQp2cfbr/1Dl547kUmjp/AovkLSNy3n4L8QgxVBi1a/eFAd7XVfZa72GSKU/09zT67PV7Uqlzs1epwubHZnTgd1QHivB6oLKUsdj25G6ayfdoQtn03hLzlU6hMjMZeUQQuu+ZlEZjaXoGzgrMYY/EOFi76gGnTXyA7cTFUZYHLgFcxOE2+TeYekYYIASEgBISAEBAC9UpARH294pXChUD9EVDz6s0YyXPnkOs+SCUVqORYKoieLEcIqGj1NouVgtxctm3ayNQfp/HesI948rmXuOWOwXTr3pPunbvQNTyciNBORHQKp3vnrgzsP4AH7rmP9995l59+nMaG9ZtITkyhuKAQk15/0tzxR1oQxJ/8gv40RafH60WtLo8Hl/qs9Ksy12tC1gk2A6QnsvStZ5g1uAe/3/Avfr8+hLl39mHtyDcoitsBDhu4lMk/ADl7XFCcTfbyX1j/1ev89O4N/Pj2dSz9/GXiZ/+AKTcdr1si4AfgyEqThYAQEAJCQAg0KAER9Q2Ku/lWdprP/M0X2El6rlyOHdgopYCdFZvYWrqOg5ZMVOovX3CtICZ+bNfU95qrioRudaArLSd5XyKrl61k6reTGf7uhzz96JPceMOt9Og7kM49+9Mxoivt/3UlHUM60q9Pb26/9Raef/oZRn/0EbNm/MLm9RtITUyitKgYm8WGV7nVy3I0gZrsj/189JnH+aYuUErev/pjPCqRbgOzDhJ2Mm/wtfzR4SJW/vOvLP3Xhczu2IIlT93PoW0bfZZ6NSyqqIBavOC0407Yye4hT/P7Vf9mbs8WLOjXjun9O7Hs+ccx7FYvLZw+RAHVN2msEBACQkAICAEh0JAERNQ3JO1mXFfAPW838bFyaIHy9BxwJvH97nGMXz+SbTnrqXLpcGsh4IKdeI3+aVnQnFgrDRQczGPPzj0smreI8WM/5/WXX+Wx+x7ktkE3cHWvAfSM6k14WFdCwrsR1bM//a67mdvuvo+XXv0vEyZ+zqKF89m9YwfZGRnodTpcdjua+bhe7ocafaiX8uupUNXs4zXdv/9421qbok5WA6jWajdzJdCVyd5jBWMp7N7Ixhv7sbPdBRxo8VeS21xAdPuL2fTwXRRHrwO3mpNeS5tqrbcRDvi5+Kv2uMFqhm3rSXvwFja2PpfU1ueR0vYilra6hA233Yp70yafqFfX1rIcW2wtp8luISAEhIAQEAJCIIgJiKgP4sFtSl07wTNpU2pmwLTFhVuzyudaD/Dj5q8Yv+RjtmVuRu9SEbNVwrYgJ67ctW02KkpLOZCaxpYNG5n58wzGfTqGV154ifvvuocBffrTNSKKzp3C6dIpgu6RXRnQ+ypuvfl2Hnn8Kd75YDiTfpjKoqXLSUhIIC8nB5vJDBLk7sR/B7WpSP9+//bEpVQfVSf7Rb0bHG6oskGpDsqKIS8TVi8kZlAP9rY/n4L255F9+YXsaXche+68HvuS2VBaALpy0OvB/ucc93VqRkOc5OeiddkNNgsYdLBlNQfvvYltrf5GZpvzSWvzd1a1upjtt94Ca9eA2eyLGaD+rGt4JKhiZBECQkAICAEhIASEgCIgol7ug7NGwP/MetYKlIJOSMCNm0pXObsObWXTgXVkV2Vh8dpQ+4NS1Hs8GCsrKcnPJyl+L+tWrmTaDz8wfNiHPPHE41x3/XX07tWTqLAwokI7aWK+Z5duXHPV1dw7+G5efu55Ro8cyYzp01m3fh1JyckUl5RitVQLQTUvu45KqY6nnXD8/H8vNbf+C2ruO/az/5xG3fobdcaNUAWp+1XNG3eCrgpHdCyFM35HP206nu++wfb+m+zp8m9S2p1H6T/P59Dl55HU5lxieoeRM/RlHFMm/f/snQd4VNX2t//fvSodFEinqJCe0Kt0sYMoRcDeCwqIvYLYQFFQQUXs9N5Beg81JJAQ0jvpPZNk+sz7PfskI4GLSE8C6/gcT5lzdnn3ZjK/vdZem6Kff+LE/Lnk7A0CNQe9Om6qqkqUZ+dijY6G8FBQMQHmziL+rh4Eu9Qn3qUuMa4N2eJ8E3v69KLsl1kQEgwRERAZiyU1A4xqdYvyTSUpmxAQAkJACAgBISAERNRLHxACNZSAmjtfTB6JRJFINLlkY0CJeiWQroKf+1Y7JoORwvwCkhMTCQ05zLIli5n+zTTGvPwygwYMoGvnzvj5+nCr563c7H0L3v5etG8XSP++fRg+dCivvjKaqV9+zYqlKzgSHEJWahr6kjLMFhsGkxmjuVIQMsfaapXRqfPK16qvnH59gf3HkbTmbV6RrOPeJcriAkt2pV9zELBCQhJxX33Hkn53sKZDe7YHerPX051g19qkuF9Hgcd15LjdQJLzDRxwr88mLw82tPFmedsAfu3dk80ffwTFRVe6Av+en6qi2QalBjJXreHohIkce/M1Yse+SOrIQUT7tyDGpTaZzrVId6rFkSZ1OOTZgrjhg4gc+wJHXn+Vwx9OIHr+AsjNvXSd8N9LLk8IASEgBISAEBACNYCAiPoa0EjVtYgOAXJq+dTdivmxlT64tkRKpYpftlO1Gr2eTHsKWzPW8FfKcqKLjlFqK8ZaU9epV+uUm62UlZSSlZlFdGQ0u3ftZt7cuXw0YQKPPvIwPXv2wN/fD19fH7x9vPD28sTfz5fADgG069me/gP789KYF/hh5gx27dxOXEysFuBOs5A6tKMNjBalr8wYlLt35U0Nhjg69unHU56ruDjfju1Is0KWVSrS30Ws9EjlHE89dzx0+vHUp2rIlaqE2uwQE0vGh+NZ5+NNkEsTwlwaEul0A8nO/6HA9f/Qu/4fBvcbKGh6PQlNrifctR7B7o3Z4dqUhT5e7Bg3ttwVXw3QVKdNeYEoC3t6Fsc+nMDqNu1Y3dyDba6NOeRUjxinG0hv+h+Km/wfusb/R3aT60h0qkWoa122N2vIsubOzPH2ZuvoVyA5AVTUfNmEgBAQAkJACAgBIVBBQES9dIWLIKB+OFvBbin/kWkxKVUGFrXElKH8vOLHdTX7iX0Rda4uryrpbiDFGM/Uvz5nwsK32H58I8XmAmw1RNTbNcs4mE1mdEU6TchHhEewbu16pn09jReef4G777qbjh07akLeP8Afbz8ffPx96dihPb27deOB/nfy0shHGP/qGL6b9BHrl8wlOzEa9CVa/zPq9Vpgda3VVCes2K1qSrPJjvk0Ta99rpS29txZeu3fzzierXQ8jy7iKJJD3J+So+PD8zmeR97V7lFVz+ho0t//gM2+XoR7OJHcrDFpHvXJcb+BIpdyUa93vZ6CpteR5nQDCR71iW7RlJBmTqzy82b32DGQnQ3VUdTrjZCWTsJ777Hbz5/9zd2IdL+JJLf6ZLjWpsD5OvTO/w+T838oc7meAtdapLnXIba5CgzYmNWtbmbfy89Dcmz5VIVq14BSICEgBISAEBACQqCqCIioryryNT5f9QvcVi7cS4shK1P7wUpaGqSlQEYqFOQpxabVtLIGqvFVrwYVUPTVmvTpplT+CJrFt+u/5ED8HkosRdVzSTtlALfZtV11G03IF+s4kXKC0JBQ5s+dzwfvf8CI4SPo1aMXbQLa4OPlo+1+fn74Bfjj3zaQrr17cu+ggbw1bhxzpn/P4VV/kb8vFI5HQ3w8pCRD2olya63qewpU5U0tnaaCrKtxKNUpAaMKQm42YrSYMFlsKI98s9WO0WbFaLVisFg0N32T0YLFZNeCravp33+b1h2K3HF05KmOp++Vy3Km89OfP9/rM6VZU+6pukbFEP/++6zx8eSwa2Pi3G8k1aM+We61KXD9LyWu11HsegM5TZUl+zqi3GsT1rwR+9xuZIlPK7aPGQ2Z2WBViVWjTQVf1OshLZWUd9/mkK8XR5o3JblZIzI96pPrVkerl9H1v5hd/4vB7QZ0brXId69FRrPaBHs0YNOt7hwa9TQkR4Ndfa9WrqOjo1SjOktRhIAQEAJCQAgIgStGQET9FUN9NWWkfkAqBWOFsmKK9wcR9OnHBL38CntffJHdo0exdszLHJr9B+bsTK3i6mn52Xnp+oANO2pZuzxyiLEeI9oSTh6ZmCjDrkW/v3R5XXRKaslxqw2LyUKprpSkhCQ2bdjItK+n8sJzL3DXnXfRqWMn/Hz98Pb0xsvTG28vb3y9fWnbpi29e/dm+MMj+PDjCSxasZSwY2GU5ORATh7p6zdx6OPJ7H71DQ6NHsue115n83vvE7VsGRj0Z4gtoApT4VhiVuK9XNQb7WohQJs2ccTRTyv18lPkk3ZRuUM7xLzjqF5UW+WEHOfKM8AxO8Vx71IeK7KukQfFISaGwx9+yCwfTxY738Rm5wbsd65DpEstslxrUehai1zXOiQ1rcXBxtexwfkGVrnWZ4FTQ6Z73cpKJeqzqqGlXol6FZk/4wTR77/DtgAfdrZwJqRZI6Ld65PiWodclxsoc72eUuf/kO/yX9JdrifetRbH3Ouy1aMRKzybs+eVZyHln0R9jWx1KbQQEAJCQAgIASFwCQiIqL8EEK+pJNQPb21TysQMxbnkrFjM4rtuZ/ktLVl7c3NWeN7CN7c0Z83r4zAlJWjiRr2mjGcO66gjFTleGAEV4V4Fxcsli3iiiCdSE/V6dBVz6i8s3fN+yyFIK7/o6CNWO4ZSPZlpGYQcOszSRUuY9OnnPPX4k9xz59106tCRNgGBmjXes7WnJuT9/fzp3LEz9w+4n9fGjePHH37QItWHHw8nPSsNXWkhNrOh3AMkL4+EGTNY16sXC2+9hXU3t2RO61b82Kkz2yZ8dNblzSxWULvSWqonqxnK6ihbFRPIzCR56RK2vv0Ge0a/xLHnnyBxxCD2t3Ih0b0+ea71SHe7kaNNGrDD52b2DLmHo6Oe4+Aro9n+/vscWTQfivJPs2JXcZ1U9toXoAWKCoj87hv+GngfG/rcxs4eHQlu68lR94bENbmOYrfa5Dv9l5jG/49gl1oEB7Rkd7d2rOvZmeV33c6eTz7Elp4AnG6prwZ1lCIIASEgBISAEBACVUZARH2Voa/BGWuR1ZUEMkBRFublC9jSqyuHPZw55tqUA25NWeDalF2jR0FsdPWb31qD0aui2zVbvJpRX0aaJZnFoXP4bc+PHEoJotiaf2VFfWWWynXdYKIor4C46Fi2bdrCzO9/5M3X3uDREQ9rQr5H1+50ateBtv6B+Hv74u/jR6B/IP369uOJx5/gowkfMW/uPPYG7SU+Lo7cnBxKS3UYTWXl0ttmLJ9PrPzn83PJ+/oLQjq3Za+HE+HOjdnq7spcL2/2v/UWWIwnxZ1joKGivGqAqbKH9mkfV66VnF9JAgYDZKZDfCzERsGRYFi2gMO9uxLRrDGZbjeS6OHMAVdn9t93F0UL/oCoKIiMg/hE7PnK9V61ezXc1NQPtTZ95HHYthU2rIdVy2DKZ5zo04kI5zrkudcny7U2Bxv/l7Au3vD5eFi5FNavxb55E5awUDAUVwxDSa+thq0sRRICQkAICAEhUCUERNRXCfYanKlaA9qkLKVlYCyCrBRY+Cd7b+tEhFtTEt2dOOrahDUujQkb9TwcDy93g1ZmURW8Sn6HXoLGt2vC3UgZKcZYZmyezKdL3mbzsbXkm7Mvv6hXbVhptxhMZGdkceRwKCuWLGPSJ58xZtQrjBj6EHf0vZ1unbrQLqANAT5+BPj6a4K+S8fODBpwP6NeeIkvJ3/JiuUrOXQwmIT4BPJz8zEajNiVGd2x2VT/MUNZEejVXgLpqei//IzIToGENXMi1aMpB9ybstrzFqJeHwtlBWDUgVEPulIwnhT5juI7kpdjNSGgXHlUwE2zEcx6yM+BPbvY3b+vFlgu1t2JYx6u7HR3Yc+wQZRuXaNNAcJgKne90KLCV+o31aRa5cXQ5qGUfx+W6KCosDwWyca1ZA6+h1C3+qR5NCTZvT47nOsQfEd3WLUYMtOgILd8qT59GdjFp6RaNasURggIASEgBIRANSAgor4aNEKNKYKy0BcVUBIRRmHQdgw7NsCaJRRNeIf9bbyJc7mJdLcmxLs3YYfLTRx+4D5Ms3+HHdsw7N1LQUgIJSqIWWWxVmMqX70KqubNq/nzGbZE/kpcyPLjvxGed5BSisrXqa8o7iUdQ6nQSnazleL8QuJj4ti5dTt//PIbE97/kBefe4EhDzxIr+496NC2vSbgfb188PX0pl1gW27v048nHnmM8e9/yC8zZ7Fp/QbNLV/NsS8uLMZsspQH0ju90GowyGCE3Bx0wfso2bkJ45YNWFcsIevl54j2b0WcR2PyPW4iwrURW1q6cGT4/bBpJfotayjcuYWsvXswZ6TJUmDVqxufpTRqANAKumLYf4C1/e/krxYt2O/qyi43F1a7O7Nh5INk7VoP5tLyeT3aSM3pnecsWVTZR5XKqKIy7ttD0sgH2de8MdEejQh3a8Bqt0ZsG9Af87aN5YOoMhpaZa0lGQsBISAEhIAQqAkERNTXhFaqLmVU1tLYaEKnTGbTk4+wd9gDHBl0NyG3deBwMyfSmjYg17khWe6NOercgF1eLdh/Vx8ODR/CrkcfZdPrrxG7ZjWU6atLjWpsOezawnVG8skixhpOrDWMfDKwYEDZ8R1bJfnguHVBRzU3Pj01jSPBIaxduZofvpvBO2++zWMPP8qdt99Bx7btNQt8oK8/Ssgr93rlav/AwEG8/MJLTP70c+b9OYcdW7cTczyKgpw8rCYVgv4cvDeUn7zqM+Hh7HjjVbY9PIydgwdycMDdHO0YQEzzxqS7NaBUBRxzqctB57rs8vIgfNAd7B42gPUjh7Lx1THk7NlVbrW/IALyUpUQUO1+9BhLHn2SeV1uY1WHzixq15bfO7ZhxejnOHFwO1gN5f3IEaiwSgr6z5lqYw2nfFzpX6XJDAcPEPbUo6z1upmtt3qw4VZ3/mzVglVDHqBk5w605RhOeV8uhIAQEAJCQAgIASFwKgER9afykKuzEbBYtB+gex4ZwdJbW7LduTF7nBpx0KkBcc4NKHSqj86pHjr3RqQ41eFw41rsaFqXLS6NWefuzqLbunPsu++goEjc8M/G+Rw/s2Ahz5rHoaxgDqYfIF2XgsWmBkxOuh9Xkg//nmol9WEzWSjKLyQxNp69u4NYsmARX03+kldeHMXgQeXW+DZ+Afi09sLH01uzynfv0o27+9/JIyMe5q3X3uDbqd9o7viHDwaTeSIdQ0kZdotaT+7fi3LKE6o6ehPs3cey27qx0sOF9U1vZFeThoQ71SPVuTaFLnWwuNamyKU2iU2vJ6TRf9jXpA5b3Rszz7Upi7p3JWPZEmxlpackLRfVnIDZBhl5RC1cQeSMn0mY/iPHp03jyHdfE6W8hNJiwVaxdKFD1J/s/tWicqo4aphNHR3/xLR/AsrzSYn6qChyp00l8sXniH/hWaJfeI6Do0YR8cUU7BFREsGxWrSiFEIICAEhIASEQPUmIKK+erdP9Sqd2QwH9hL88DC2tGrJcTcnot2bEOdxI5luDSlzaYDBuR4G94bkOtclyaUuUe4NCfNowj4PV1bf1pXj07+BgoLzF3bVi0SVl0YtvmbCQJophd93zWL6+q/ZH7cLnTlPs+E7Cniu+lmJ+JKiYrLSM4mOiGTXth3M/v1PJnwwnscfeYw7+vWnfWBbzZVeudMH+gVo1vke3W5j4L0DePapZ5g4fgKzfvyJrRs3ExsZTXFBESrdSmMMjmKd31GpIYMZ9u1jU8/u7GrhQnCzpkS6NybJrYEWWEznUguba20MHnXJda9Hkmtd4j1u4kgLZ1a6NWVVj+5kL1uCvVRE/fnBr4KnK3da1fZmoNQEOj0Ul0BhIRSreAklYDeACproUMvqebVXs81RvMpV04qovFCKdBAdA4dDIPQIhIRC6FGITQCdChApmxAQAkJACAgBISAEzk5ARP3Z+cinDgLq16gS9fv3cHTkYPbe2ox0F+X2fCMnXOtrIl7vVAeT2l3roXOqRY7TDaS71iHBpQFhLjfxV7cOREyfCoX5IuodXM/7qGLfWzFjRE8pyeZYftj+JZNXf8DOuA3kWzI1F3yHylFPn3Gz2bEazegKizW3+tDgENatXsuP07/n9bHjGDZ4KD2634afjy++Xt54t/bSAt2pAHe39+7LsAeHaG71n038hAVz53P4wCFyMrMxlurLw8r/Q7ZnLMu/3VQiTW+AvUHs6dWV0JbORHncRLJbA61/5TpfT4nz9dhcamF2r0uRe10yXeqQ7taIaI8mrHdtzLoe3chfvqzcjf9Slu3fyi6fXxwB1VaO9tIEu/L0ULu1ImCcWoywYgqH41nH8xeX82V5+x+Lpkz5p+8VVTu9IP+YxukPyrUQEAJCQAgIASFwzRAQUX/NNPUlqKjFDIf2EvT4cFZ43UKQhysHPJwIdr2ReOd6FDvVQe9cl1K3BqQ1rc0x59rsc63HDrcbWefuxLyeXTj8wzdasL2/f6hfgmJdS0mU6xYVJk/NnjeQbU9jb9ZmtqWsJlYXRjG5WDkZ5b2cjRI9NmxWC0aDnqLCAhLjEzi0/wCLFyziy0mTefGZ57nvjrvootaO9w8gwM8Pf18/AvwC6NCuPf1692XEsOHa8nQzZ/ygBblTc+MLc/Mx642X1zqqxFypEvV7WXN7L9a39mBj8ybscm9EmGs9UlxuIM/pBgxNr6fQuTaJTrU44lSHAx5N2NzSjT+buzOvT28yVq0CvcRzuGr/vZT/4zg5CFANKyqCvBo2ihRJCAgBISAEhMBVQEBE/VXQiFesCmq5qLDD7H5rDLP79WJB586s6dCODT6eHHS7iVyXeujc6pPj0YgjTeuw5RYnVrb1ZFmXtszv0YXZDw8leP5voCus1j+8z8TToRfO9NmVvKfKoRkstZWqrZRQRA6p5JJCIZkYKS4X9cqaqdkwbegNZeTl5ZIQH8eunTuY9dNMXhv3KvcPHMht3brTNrAN/p7etPH0oZ2fP+3aBNCpQ3tt7fgRw0fw/nvvM+fP2VqkejU3Xi1hd0U3VWmDBWtIKCuefITZvToxr1s7VnQOYLdPc6KaNSLdtR5lTnVIc67LgSYblBuHAAAgAElEQVS12XarG391acufnTvwQ/fuzB75MMmbNmFTS4KdYROxdQYocksICAEhIASEgBAQAkKgRhAQUV8jmqmaFFK5vBZkwbFgOBAEe4Lgr78wfvoxIW19SXVrQJ57Q9JaNGGPa0NCHrwblsyFoB2wLwh7WAhkpoJVTZKtWVt1EvUOL10TFnLN2RzK2MO2uHXEF0Wg15a0M2DQl5Kbm83xyAjWrFnFpM8/Y+SIh+jbpzdt2wTi4+2FV+vW+Hj74OOtAt1507ldILf378ETz49kyjeTWLd+LfFx8RQVFmG1WMvd6h0jCldaBZvtkF8Ioarv7YaDQbBpLYVjXiA2oBUJbjdS5NKQRI/G7L3ZlYRHh8GOzbB3D/agIDh2HPLzwap8mv93qy7t+78lkztCQAgIASEgBISAEBACQuDsBETUn52PfHoKARsYSkBfDPpSUEHHTqTC7N85cFtHYpo1Iq3ZjSS2dGJLs6YEv/AkhIdAcVG5+7SaF20y1jgr/SkIruDFmXSz0tRKllqwU4aBGF0k07ZO4t1Fr7IseD5hqcHs3L+FX3+ZxWuvjWXwkAfo3acn7doF4u/ng6+PN95envh4eeLv60OXLp154MFBvP72WGb9/i0b9q4gJC2ItJJEdAYdKkC31WLDpqLWq6BeqgBnKtjl5qLyVWNBZWXl63aX6iA5Cd0nEwkP9OO4uzP5zV2IaObMdu+biRvzIuRmQGkxqIj3RtXv/rngIuovdwNK+kJACAgBISAEhIAQEAKXi4CI+stF9qpMV83NVpGmVURza/na0Hk5lM6fzZrb2rOzeQNCWzbiQIvGLLvZla2jX8QSF1O1YrAGt8OZJKjStspSr0R9ib2MsLwjjP3zRe75sC8PjLuXh14cwt0P3EHPHt3o0LEtAYG+eHu3xturFf5+3rRtE0D/fn15+sknmDplCmtWryLkyGGSs+JIyj/O7tgNLDr8GztjNlNkLKoS/f6PTeZQ3mpte7Vn5ZDx5Vfs7dCRne5uRHg4s7OFG8v9WnP4zbFQVgQWQ4VnyJlonszJkfTJO3ImBISAEBACQkAICAEhIARqBgER9TWjnapRKSvkj7J6qr0oj7Ql85jRK5Bvm1/HLPf/8FuzenzX2o2Vr76MIS6uXIWeXVNVo/pVn6KcjkxdF5eUEJuQwNZdO/jx11m89O7LdHywPbf0boF3Dy98Onrj5d8aXx9PfH29CGzjT4+e3RgxfCgfTfiA+fPmELR7J5HHwslIO0GJrhiTxYiBYtL1MawJW8CnK99h3u5fKTQWVC9RX7lplNdAfgFR337Hwq5d+cnNmbkuNzKzuTNT/T35661Xy5c8s6ogfsrEfzrNyonJuRAQAkJACAgBISAEhIAQqLkERNTX3LarHiU36NAdDmLHlLdZP+4B/hzcgYVDerDjjeeJWjQXcvKuMj11acXh2VJTnxmMJjIyszisgsStXMXUad8w5tVXGTZ8JLffeTftunTi1sDWtPBtyS0+rfAJ9KdLt84MuO9uXnzxOSZN/oz58+cQFLSLuLgo8nKzMBpKsau4BhXB9FRHUgH2sixx7Ehdw6zDX7M+ejmF5oLq0cfOVArlslBSSsHWbRz/fBKH3xzH8TdHE/zOOII++YD41UvBogebQ9SrF2QTAkJACAgBISAEhIAQEAJXHwER9Vdfm17ZGqnAYwU5lMTsJ2nPHNb/8Cabvh9Pzr6N2NOTwFTzguL9L0Alr086vpfPaldO8Ore2WT5/6Z0tjvKo9xssZJfUEhMbBzbduxg9py5fPLpZ7z40igeHDyE3n360q59B7x9/Gjt5Yunry/+HdrQvW8PhowYzhtvv8P0GdNZvmIJ+/YHEZcQQ0FBLlZlsXZMndAc+E8ttxU9OjKJN4ZxoGQrUWVh6CzFZytu1X6mim82Q3YOxMRCRDgcPwKRYdhjIyE7ozwonjZNRAR91TaW5C4EhIAQEAJCQAgIASFwOQmIqL+cdK+VtO02LJY80oqPsj9yHYeOb6NYn1kR2awcgtJgjr3GYVFL+ZkNYC4Dc8nJXVmC1YoAF7hputRipaS0jPSMTEKPHOWvDRv5ceZPTPhoIk89/TR33X0PnTp3IbBNW3z9/PHzD6B9h450696Du+6+jyeefIb3PxzPzFm/8NeGLYQfiyI9I4MyvQ6L1YTVrgZVVBlVbkrcOgYi1HXlzYLBXkByWSSHC3cRU3yMUmtp5Qeq57mqhnLFt6oYD6bygQvHQIuqqqq6o/rVswZSKiEgBISAEBACQkAICAEhcFEERNRfFD552UHASBHZJJBiOk66KQ49ynXb6Pj4b0F/upT8+4FqcaJK59grBLAS7Zlp2IP3YdqxGevWjRi3b6Z493ZKjh0BoxK+5bVyvOmoSvldx1X50Wq3YzRbyCsoJD4xif0HD7Fi1Wq+nTGDca+9zrCHhnNbj56acPcPCMTb11cT8p27dOX2/nfw0PARjBkzlkmTvmD27Hns3Lmb2Lh4Cot0mM2qzBe22TBRYEljd/J6fg3+inWRSyi05F9YYlf6La2pVIwHdVKJujqtaMbKt6908SQ/ISAEhIAQEAJCQAgIASFwOQmIqL+cdK+htHUUEWeKZF/mDg5m7CKHE5hRluyaA8GO+k+pQGXaLV84TkVPNwXtIPL9N9g1cij7hj7IjuEPsf7JJ9g75QvIy8COWavm35JS6csKPalqr9zqjSYbOXkFRMXGsXvfPuYtXMhnkyfz/Esvcc+AgXTo0gVvXz9atfbE08tbE/Jdunbjzrvu5uFHHuXNt95m+ozvWb16LUdCj5KVkYVBb8BmtZ9tpbZ/he8op5EyMkxxrI7+k4+2jOKP4O/INKVhxoJV4/GvSckDQkAICAEhIASEgBAQAkJACFQBARH1VQD9aswyz5pLUMYOvl0/hRlrpxJbHIGeEux2JZRrgrZ3yFuHqDeXu3Mby9CtWMyOe/oxx70pK1ybMK+ZKzNa3czSxx+G1DhslpPWetW25XPj7ejKSsnMziEmLolde/bx25+zeX/8BIaNHEnPPn3wb9uW1t7etPL21ubG+wUGooS8crkfMfJh3nnvPX6a9TM7du4iMSmZYl0JFosacLi0m6qxEvV5thQO5GxkQcx3bEtdSb41RxP1tpo0MnNp0UhqQkAICAEhIASEgBAQAkKg2hMQUV/tm6j6FlDJYMeWY81kR/ompq6fxPS1X3M8P5xSdJqV14q9BkxrPk3Uq6ByFiOUlWBdMp/wO3uxvVkTwls6s7ulC0tbN2fr48MhOQrU3HO7DZvZTkmpifSsQsIioln31wamTvuWZ59/if533Utgu/Z4+/nj5euLp48P3n5+BLRtS6du3bj9rrt49PEn+PSzz1m5ajVh4cfIyc3DZFYeA5d3UzW3YERPHlnEEU8wmcRhoAwl6G1q6ULZhIAQEAJCQAgIASEgBISAEKiWBETUV8tmqRmFOin17JRQSLztOEd0B4jQHSWHLNTq55Ud2pVFuNpu2nxsFWzNDMYyKC2CojzIzYR5v5N8Rw9CPG4itdlNRLZsypaWThx9ZDAcD9Fc8ElJITHoIMtnL+Dd9z7iwcEP0blzV7y8ffH2C6C1tx+tvX3wDQwksH17OnXtxt0DBvDS6NH88NMszSX/REYGRhXRvWJz8LXayr0dtNuOm46HLtHRqq1Un0Gk7iC7cldxvDQYnb0IKzYR9ZeIsSQjBISAEBACQkAICAEhIAQuBwER9ZeD6jWYpoES8kgnm1Tyydas9BbKBarSocppvNqLerMRivIp3rqJ4kXzKZ3zO/pZM8h56Ski23oS6d6QHLf6JLs35JB7Q0J6diDzgzfZ/PIL/DjoAV7r3J37/NrQxq8Nvt5+eHv54qWWnfP2o02HTvTq24+HH3uMyVOmsHLtWiKiosnJL0BvMv0dk76quo6FMjJNcayK+pMJm0fz28HvyDKnYcGiZH1VFUvyFQJCQAgIASEgBISAEBACQuBfCIio/xdA8vG5ELBTai8kOv8Iaw4tYUPoGtJKUzDaDdpkeoeov0xG5nMp4NmfUUuiKRdzqxlSEtk46nnmdGrHggAvVvnczPaWThx2qU+Ccx10bnXJcatHlEsddjrXZdXNrvxyczOmtmzJey1uYdgtrejg7UNbX3+6dOzK4MHDeOud9/hz7nz2HjhIQnIKxaWllOgNmG0nxbJic/Lq7MW9HJ+aKCHDGMea2Hl8vHMcf4b+QKZJBTs0ad4WlyNPSVMICAEhIASEgBAQAkJACAiBiycgov7iGV7zKdixkGdNY1fqOr5a9RHfrpxMZH4YZXYddnt5mLWqEPTnnKd6ULm9mwwQF8XOkUNZ27oF25o15aBLA8Kd65DkWpc8t7oY3OpQ2rw+aW61iXKtTbBLXXY3a8KKZm7M8GjG+5078dpTj/P1J5+waN5CDuw7RHJyKkXFOvRGE5YKIX962dT16feuZMdSc+p1thxiy46yu2ADYcWH0FGIFYuI+ivZEJKXEBACQkAICAEhIASEgBA4TwIi6s8TmDx+KgG1BJxa4zyPExws3sK8IzNZcmQ2CYYoyiiqCJF36jtX6uqcRbIykesNUJAHe3aw+57b2d/SleNujTjhXJcslzrku9WhxLUWJpcbKHO9gXy3WmS61eKESy2SWtxEkHtTlt3ckm2jRxGxbSPZ8XHo8goxlhn/VuvVLd5cZT5WtQChrYh0cxJRpqOkWhLQUyqu91eqs0o+QkAICAEhIASEgBAQAkLgAgmIqL9AcPJaZQJ29BSRRixRZaHElx2ngBwsGCo/VK3OVVw8vd5ATlY2x4+Gs2vNWtb8+D2LXn6R2W382NrClf3uN3HMpT7xLnXIcK5FkUstTM43UNz0OrLdahPvWpsI97oEt7iJ9c2cWOTtScSUSViyksFq+p/6VhbR//NhFd8wo6fAnMHB7O0siP2JbSfWUWTLq7DUV3HhJHshIASEgBAQAkJACAgBISAE/pGAiPp/RCMfnA8BJeDzzJkk5EeRVBBPia24PDxelSnZinnyFZWw2+xYTBZKdKWkJqdy8MBBli9bzrdTv+GNseN4etgwHu3Xl6d9PJnk4cJil8asc2nETpf6hDS5gYTG/6XAuRZm59oUOd1AYtPrCW16HXubNWCdRyPmN3NiTqA/x6d/ja0gXVsk7nz4VfWzak59pjGBVXGzeW/HC/wa+g05lnRxv6/qhpH8hYAQEAJCQAgIASEgBITAvxAQUf8vgOTjcyOgs+dzNH8/C/f/xtID80gujVMO3X+7np9bKhf7lBpBqNjVXH6bDYvJTGF+IfGx8ezetZsF8xYwedJkXh71MkMGD6FXz14E+gXQxtubLt6e3ON5C2N8WvN9p3asvvcODjz0ABF9uhB9c1NOuNan1LU+ma71CXWuw14fD2Iee4CDzz/CjpeeZsc7b5C8cR3WksKLrcgVf1/Nqc8zp7MrdQMzg6ewJmoxBZacKp0+ccUhSIZCQAgIASEgBISAEBACQqAGEhBRXwMbrToWOcd+gq0ZK5i0/h2+/msix4qDtTn1Kqq8Q2pf/nLbsVrMFBcVkp52gohjx9iyeQu//vIrH0/8mKeefIo7+t9Bh/Yd8Pfz1/YA/0ACAgLp2eM2Hhx4L+OeeYIf3nqd7d9OI3XFMszbNmOYNJGEbm2JcruRAvebSHS/iaCWTTk0oC9sWgnHDmGLDsOYEI0lLwe7VS3gV7M2G1bK7MUk6+MILd5PfGkkeruuimPy1yyGUlohIASEgBAQAkJACAgBIVAVBETUVwX1qzDPQnsOR4v3seLYPNYcW8IJSwJGSi5/THe7DZPRQFFhASdSUzgSGsKa1av49ptpjBk9mvvuvY9OHTvh7eWNZytPvDy98PP1o2P7jvTt3ZdBDw7i6ZeeYvzn7zNn6S+Ehu1Cl5kIJUVgNEBhAcz9k6j+vTng4URScxfCb3ZjY6tm7B3xIMSEQ1kRmA2gxHyVTTe4uE5lxUQpBSSaIwk27iLOcowyisVSf3FY5W0hIASEgBAQAkJACAgBIXDZCYiov+yIr4EM7PYKSZhFDunkkImeEqwYL6Gl12HvL7fGl5WWUJCfR0pyEgcP7GfxooV8PPEjHh45QrO6+/v54uXpiVfrciHv6+1L+3bt6dunH8OGDmPcq+P48Ycf2bR9A2FJoSQWxxCvO0aGKYEyS175nHibFQqLKZo3j4N39me9hysHPVzZ2syNBbe2YOPIhyAhrnw5vEqLzFc6rSGNb9emSuSaUtmWupoZRz5jRcxc8qyZ2LCgrPiyCQEhIASEgBAQAkJACAgBIVA9CYior57tUsNKpaLf6zhhiudoziEi8o6SZ8/GoubUX4wgVCHqlenbbtPc6vVlZZpFPi42ho0bNlRY419h4ID76NypIwH+figxr3Z1HuDvT9fOXeh/e3+GDxvOhx+M14LjhR0NIzcnF4vZQpm1hPSyJILit/HTxm9ZfnA+uaZ0lMzFboXSMtKWL2ftg4P4yfNW5nvews+tbuYrHy8WP/M0JCWCpdxCr0rr2GtWA9qxoifHmMKqiHm8t+Zlft37HTkmFSjPjFq2UDYhIASEgBAQAkJACAgBISAEqicBEfXVs12qbakc9vJTC2gnz5bJ9hPrmLxqPF8u/5iIwhDKUAHjyq28F+SVbrdhNhnJy80hPOwo8+fO5f333mXY0CH0uK07Hdq30wS8r483jr1NYADdu3Vl0P0DeenFF5k18yf27N7DidQTGNRa9KfpUxXML9d6gvVHlzFh7lv8uHEq2aZU7NpyfFYwW9AfjyBt8QLifv6RxJkziJj+DWEzfyR140bIz/8bheUS+iX8negVObFryw8WWrMIzQliRewcdqdsosicW+F+f0Gtd0VKLpkIASEgBISAEBACQkAICIFrnYCI+mu9B5xn/c8s6iGfbIKyNzFl7UdMWzuJyOIj5YHysJ5boLyKhM1GMyXFJSTEx7Np40a++/ZbXnl5FAPuu4+uXbpo1nc/Xx/Urqzxvj4+KCHfu1dPHnl4JBM/msCihQsJDQkhIz2dEl0J1gpL+pmqqqK+F5FNWN4Blh6dw5aEteRZ0rBYSysGJOzlc+tVRPuiPCjIgYJcKMwHfRnYykcJ1P9ruqhXc+ozSCCGUE4Qp3lfiJX+TL1G7gkBISAEhIAQEAJCQAgIgepDQER99WmLGl0Svb2UTEsKEbmhROQcJc+WVb6k3emm8Uq1tNvBZrVh1BvJzMjk0MFDLF64mEmfT+KF51/g/oED6XlbD9q2aasFt1PB7ry9vPDx9tYi2A+6fxCvjn2VGdOn89f6vzgWHk5GWjq6Yh1mkwmrWcnss29qzngpRWTakonWHyHZHEWJPR+7vdK7ahqAurap3VxxVC73J83+jsGOmmrTVh4LBWQRUXqIzdnLOJy/m2J7IVaHp0VNrdjZm18+FQJCQAgIASEgBISAEBACNZ6AiPoa34RVV4HKOs+MmTJ0ZBsyyDNnVwTKM58S/V49b7Hb0ZtMFBQWER+fwLat25n540zeeP1NnnjsCQbcN4CePXpq0ekDAwJRAe48W3sS4B9Avz79eOLxJxj/4QRm/zmHnTt2Eh0VQ3ZWtmaRN5vUPPjz46GCwOkoIkEXzd6kLUTkBFNiKTzvdM4v1+r3tAk9maYUNsat4KvtH7Dw8G/kmlVcBNtZhmWqXz2kREJACAgBISAEhIAQEAJC4FojIKL+Wmvxy1Rfnb2YSF0Ya44uZWP4StKMCZRSTImhFINBj0lZ4zMzORh8iCVLl/LFF5MZO2Ysjzz8CP369qNzp86acFfLzaldifiuXboy8L6BmtV+8ueTWbp4Kfv3HSAxIZHCgkKMBiN223mq+NPqb8FEriWD3bGbmbH6S5bvn0eBMffkUxeX/Ml0qvmZGRM5pgy2xq3j2+2fsTRkLnnmXKwi6qt5y0nxhIAQEAJCQAgIASEgBK51AiLqr/UecCH1P4PQzbFnsT1zI1PWT2Tamk84VnCA+LxYQo+HsXHjRub8+juffvwxL770IoOHDNaWnWvXtq0m3lu3aq0J+Q7tOmgC/9FHHuW9d97jhxk/sGrlKoIPBZOclIyuSKe5619Ikf/pHQsGsiwpbI9ex9fLP2FR0B/km3JOPn5KXdXFmfaTj9fUM+VmX2IvJrrkGNsy1xGSt58SdFpEBNv5uj/UVAhSbiEgBISAEBACQkAICAEhUAMJiKivgY1W5UWuJHQdErfQks+B1D38sHoaH818lx8XfcdXP0zhrffe5pFHH+H2vv1o36EDvoGB+Pj54+vrS9vANnTv1l1zuR/9yhg+/2wSs/+czbat24iKjNKWnVPz7S/nZsOMzp5HXMExdkSvIzR9L6W24suZZbVM24KFEopJIZZQ6x7irMcopUREfbVsLSmUEBACQkAICAEhIASEgBA4SUBE/UkWcnYGAg7RfspHKj6cDfRGI9k5uUTHxLJz305+XTiLNz9+jWFPDqX/gP50ua0LfgF+eHl74unlqQn6Dt170O/Ou3nooeG8OuZVvvziS5YsXsLRI0dJT0vHaDBd4fnsStaXUWjJJFl3nExjAkbKrinbtGpjE0Zy7dkcytvN0oTf2ZW+kUJbvrjfn9Lx5UIICAEhIASEgBAQAkJACFQ/AiLqq1+bVLsSKdFntdmxWm3oS8rISc8i6ngUO3bs4s8/5/Dh+Ak8+vij9OnfC782PrTyupXWXq3w9femTVt/ut/WnXvvG8CTTz/Lex+O54cfZ7Lhr43ERMVQmF+IxWwpnxuvMrrCmxUzxeQTnRfGpmMrOZC0A52tgAtzOa+CClwCXuWi3kCGPpX1EUv5csO7LDjwCznGLBH1l4CvJCEEhIAQEAJCQAgIASEgBC4nARH1l5NuNU37XKWnes5oMqMrKSU9I5Pw8HA2b9rATz/O4PVx4xgyeBjdu/fE188fLy9vfDy9CfDxo2Ob9vTo2pWBA+/miadGMuGjCcxfsITgQ4dJT0ujtKQEu7ViOTh1ONcCXQaeRvSkmZPZGLmaz5d8yB/bfyTHlI5a6s5+XgVTlajiylwEHzMGco1p7Elcz2/7v2TdsYXkm3NE1F8EU3lVCAgBISAEhIAQEAJCQAhcCQIi6q8E5WqWxz9paBVIXlnkHUI+Myubg4eCWbpsOZMmf8Ezzz7L7bf3o0MHtW68L95evvj4+OHr70+gmh/fpTuD73+QsaPG8M1XU9mwYS2xcZEUFhVhMtuwWdXC9KflftrllUal3M6zbensTtzK9PVTWHpoHnmWDJRTvl1bo/1cC6iec+xXuhYXn58ZI6UUkEYU4ZYdxJuOUEKRtqSdtWK44uJzkRSEgBAQAkJACAgBISAEhIAQuNQERNRfaqLVJL2zSdHTdbUqssFkIi+/gITEJHbvCWLWz78wZuyrDBh4Px07dcbPP4DWnl54e3vj6+dHQEAg7Tt0pGfv3gx5aBhvvfMOf/45m5DDoWSkZ6LTlWC3n60U1QOUVQsQpyPdksKxosPE649r4taOCfvf1vrqX4+LpWnWpiEUkGqPJpK9JNuP/y3qLWr6xcVmIO8LASEgBISAEBACQkAICAEhcFkIiKi/LFirPtEzyVCHJd4h6s0WKwWFRURGRbNq9Ro+nzSZJ558iv533Emnzl00Ie/p5c2trVrj5e1Day8vAgLbcMedd/Hsc8/zxZQprF2/nui4WPIKCzAYTVisFzYbvaqIOUR9pu0EUWVHSTQdp4wCTop6VZ8z0ayqEl+efE2YyDSdYHv8OmYFfcGa8IXkWXK0YQ2Hz8LlyVlSFQJCQAgIASEgBISAEBACQuBiCIiovxh6NeBdJUfVrtzqlYgvKS0jLT1Dc6v/9bffGffa6wwd9hC9+/SlXfsO2vx4bx9fTcT7KBd7H1/NIv/Ag4N54823+PmXX9kTtJek5BTyCwrRG4xa2g7Z6zjWADRaEU1qnXpbGrsSNzFj0xesPDqPAku6Fg++3FJ/rYh6A+nGBFaHz+XjVWP4ffd3ZJszMaGGPcqjBdSUNpVyCgEhIASEgBAQAkJACAiBa4mAiPqruLWVwDaZLZpb/bGI46xctZqvvp7KqJdf4f5BD2hCXrnW+wcEaiJeWeWVkFfi/vb+d/DkU09rz69Zu47DIaEkp6SSm5ePwWjEWgNc68+ladXydammOFaFLWT8gtf4Y/cMck2pgFlzOi+30te0oYpzqfmpz1jRU2hLJSR7CytjZrI7dS0FtlxN1FeENDz1BbkSAkJACAgBISAEhIAQEAJCoFoQEFFfLZrhwgrhkJrKnV7t6lpZ5IuKdcTFJ7Bt+w6UNX78hI94+plntfnxyiKv5sKriPU+vn7a3qZtO7rf1kOz2L/z7nv88utvbNq8hbDwY6SeSKNYV6INDjjycORbudTq3pnuV36mOp6rAHH5ZHEk5wArw+azK3EDxbYszVJ/zdintYYzgS0fnTGW9LKD5BljMKOroa1aHXualEkICAEhIASEgBAQAkJACFweAiLqLw/XK5aqEvGlZXoyMrMIPXpUmxs/4/sfNLf6ESMf5q6776FL127a/HjlSq92Jei7dO3K3ffcy4svjeKLL6cwZ+48tm7bzvHIKLKyc7T58ZUHC65Yha5wRsq5vJRi0sxJRJccIckY+fec+mtC1KsIeKVGyMnGkhJHbtQBEo78RfLxPZTkpKlRomsCwxXudpKdEBACQkAICAEhIASEgBC4ZARE1F8ylJc/IWVQVUJbudSr+ewxsXFs37GTefMXaMJ89JixDH2ofH68sr6XW+J9tSXn2nfoQJ++/Rj20HDGvjqOqdO+YdHiJew/cFBzq1fWeDXnvrK1XZ1Xvr78NbzyOagAcbnkElF0lO0pGwjJ24uOPC3y/dVfe8BoxhYeQcJvv3Js/PsEvfES618eyep3RhE893coKJDQ91e+W0qOQkAICAEhIASEgBAQAkLgnAmIqD9nVFX3oIoorwLSKWu8colXrvG//f4HE6OYK9AAACAASURBVCZO1Oa9K2t8h46dtLnxauk5Fam+bbv2mku9ssY//sSTvPve+ygL/uq1azlyNExLq0xvuGrmxl9o6+gxkGI5waaEjUzb+AWLQ+aQa8msWKP+QlOtQe+V6dGvX8eeh0ey2duLNa1bsPgWJ35u583S55+GlORya30NqpIUVQgIASEgBISAEBACQkAIXEsERNRfodZ2WL3PxfKtnnEsN5eSeoLgwyGsXbeeH2fO5O133kW51Tui1SsRr1nk/fy09eT73d6fBwcP0dzqP5r4Mb//8Sc7du7UrPrKuq+s/LKdJGDESLo5jS0xG5i6djLz9/1Ortkh6s+ltU6mVSPOVJVU5DtrRSCGslIsq1dyYNAA9rq7ENSsKdvdG7DA04NlI4ZAQiyYjSerpt6/CrGcrKCcCQEhIASEgBAQAkJACAiBmkVARP0Vai+HFqqshxzn6qjc6tU67yq6fGJSMoeCD7N4yVK+nPIVz7/wgjb/Xa0dr+bDqyj1yhrvHxBA5y5dtUj1yq1+zNhX+fa76dq8emWNT8/IRFnjHflcoarWqGwsmCgkl8iCo2yNX8f+tJ0U2/MrLPVXYdx3NYfeaAa9AQx6KCqAlcs4PvBuYt2bkNCyKTHNGrCxtStrhwyAmONQVgQmgxppQta3q1HdWworBISAEBACQkAICAEhcA0QEFFfRY2shLbRZNbWjc/OySU2Pl5b/11Z1j8cP16LRN+jZy/NjV4J+FatPTUxr0S9EvdqybnhI0ZqlvsfZ/6kBbmLT0jU0lNWfkek+iqqXo3JVon6EgrIsqcQb4kg1RZHGcU1XtSfcSBHjVEYbJCQCuHH4EgIHNoP06cR17sric71SPFoQLxrLfa0uJE9d/aEdcsheC+Eh2KKOA7Z+WBSIwOyCQEhIASEgBAQAkJACAgBIVAdCIiov4ytoIRVZXHlCESnxLyyyEdGRbNh4ybNuv7SqJc1a7yaG6+Euxap3tdXs8gHBAZq4l6J/EcefYzPJk3S1pxXa8/n5OZpy9ipajii1V/GKl11SStRX0Qu0YVhbI1dx6GMPehquKVe9bkz+hiYgYx8Qr76js0jH+HI0KFEPziIYz27En6LCynON3DCow4Jrtdz2KUWu291JvKe3oQPHcjOhwaz8umnSV21DnILEFl/1f1TkAoJASEgBISAEBACQkAI1FACIuovY8NVFvVqLnthUbEWpG7xkiW88eZb3DtgAB06ddLmxHt5e2uWeIdrvY+fH+3ad9As8i+8+BIzf5rFrt17OJGWjtGs1Nnl2RxldhwvTy7VJ1Wrin5vyuCvwyuZ+Pu7zNn2M3nGrBptqVdtd0bRbbBCVCJbnh3F/FtbsdnViV3OjdnfpD6RTWqR43oDec3qkulWizjn6wlzrsUBl3rsad6U5S1c+MarNZEzfoD0zDMPGlSfZpWSCAEhIASEgBAQAkJACAiBa4aAiPrzaGpNLClz+GmbQwAr66jDWq6s8kXFOqJjYrUgd599Polnnn2OvrffTvsOHfHz99fEvLLIq0B36qiC3vXq3YdHH3tcs95v3LSZ8GMRmjVezY1XUfDFrf40+Bd5qUR9viWL3TFbmLXhO5bun0e+KbtGi3qF5IyWeuU2H5vIwaefZfPNLYh0a0q8W2NOuN5Inls9Sl2vp9StFiWutSl0q02uex3SPOoT49GAHe6N+M2zJQnfTYMTqRdJXV4XAkJACAgBISAEhIAQEAJC4FIREFF/ASRPl/UOoV1SWoaKVr8naK+25JxaRu7hRx6l/x13avPgAwLbaO70rT29tDnySsR3v60Hg4cM1Sz3P836WVuuLio6RhPypWX6/1k7/gKKK6+chYAS9SXkk2KMJbzoEHH6Y5RSVONF/RmrXGaA6BgOPfEYu272ILlZU9LdbyLf4yZK3OphdLkOo8sNGFxqU+pSmyLX2mS51SHRvT4HmjfmT88WpMz4RkT9GeHKTSEgBISAEBACQkAICAEhUDUERNSfJ3cl6JWIV5Z4tXa8mht/NCxcm+P+zbffMe6117Ul55SQV5Hp27Rtp1nhlTXePyBQu76tR0+eePIpPvn0M+bNX6ANAsTGxaEC5ulKSrVl56wqk0u8OTwKTj9e4mxqVHJWzJRSSJolQRP18YbjlFBYIeovfRtUKRy9HqKPs+uZx1l+qzt73G8k2LUhkW4NOOFSm2Ln69C51abIpTZpTrWJcqpNqGsDgtxvYnVLN6b7eBH1fbn7fZXWQzIXAkJACAgBISAEhIAQEAJC4G8CIuorUJyLfDNby13q1ZJzan67EuSTv/hSWxNerQ2v1ohXge4ca8ergHdt27WnR69eDBk6jFfGjOGD8R8y/Yfv2b5zJ3HxCdqggBocUCL+covt09OvfP13j7jGTlSgvAJrFsGpQczd/QubI9dSaMmpEPVXGQyTEZLjOPrJ+2wb2J/Q/t2I7NORyHatiG3ekBzn68l3r0u2a12OO9dlX7MmRPToxOHbe7P93ntY8OAQEhYug5zCqwyMVEcICAEhIASEgBAQAkJACNRcAiLqKyLUn0nUqznsSnArC7qKNK/muP/y629MmDiRZ597nvsGDERZ3ZVbvRLwSswra7xacu7ue+7l8See5J133+OnWbNYu24tQQf2EBJ1mLjMWHQGnWbxr7ld5+oouQk9GYZUtkb8xdSlk1i8Zw75hsx/CjVXsyttsUJhPrp9eyhYsRiWzIO5v1DyxkvEdPQm1bk2mR4NSXNtwAGPxuzs1gHLd1MxL5xH3vJlpKxZR1lkLJSZajYHKb0QEAJCQAgIASEgBISAELiKCFzzot5hrVbe7g63+uKSEpJTUzkUfJhVq9cwfcb3vPnW24x85BEtGr0S7Y758Q4hr+bGD3rgQc1q/+lnnzN7zly2bN2mDQZk52RTWqajoCyXlJIE0ozJlFF6FXWjmlsVI2VkWdMJyTzI8uBF7I7bis6cA1hqbqX+qeR2sJut2PUGKC2BMh3kpsP834i4syexzvVIcr+RBJdGbLnZnfUP3g9Hj0BRARgNYDSVr1F/phGwf8pT7gsBISAEhIAQEAJCQAgIASFwWQlc86Jeub075sYnJCZpbvWLlizR3OrHjH2VwUOHotaHD2zTVgty5+Xt87c1Xrnbj3j4YdRzX3w5hcVLlrJv/wGSU1Ip1pVo8+7VQIEFK6W2YmILIlgZtpB10cs5UZaChXKX+8vawpJ4JQKV1Kg6VZZrfREUnYD8eMzpRyEnGoozwWQAe6XnK6VSo08dSzSoqtltUFKEZeVSDt5/F/vcG3OomRMH3Z1Y3voWVjw0FOJiQLntO7arEImjanIUAkJACAgBISAEhIAQEAI1kcBVKer/TXcoIa8iy2dlZ3M8MortO3Yye+5cPp80WYtWr8S6CnCnXOoduxL13brfxr33DdCC3L319jvM+P4H1m/YgIpWn5df8HeAu8r5q3MTZvLJYm/6ViaueZMp2z8ivOAIRixnXnqsJvakal9m1RKVFnqz2UBXAseOUbpiOYalizAuX0jxikXkrFsFCfFgMGhxDs5WNZVq5fY+27PV7jM1aKHXU7bxL3aOGMqGVs3Z1Kolm2+9mXltAljy+GOQmAAWy9U5wFHtGkQKJASEgBC4RgnYlUOYEV1xCRaz+ptzjXKQal8UAZvVRmlJKWaTWfrQRZGUl2sigWtC1Ku/DUaTWbOeZ2RmaWu/r/9rgybKlZX9/kEPaPPgW3t5cWur1ppFXkWrV0HulFv9Pffex1NPP8PHn3yqWeOPHA0jPSNTs/CfS6ObsaCjgMiiI/xxcCYLw/4gQReHxW6Vv1vnAvCSPOOQ3xVHqwVOnCD551ks7dubRe3bsKRDG+Z26ciMfr1JXrQQcnP/NWdHqv/6YHV9wGKjNPgwBz6awPbhQ9kxfBjbhz/EmqeeZNukzyEjHczqj6Oqqdocx4pLOQgBISAEhIAQuEgCSswHHwpm9arVRIRHYDKaLzJFef1aI6CcD9NPpLPxr40cOniIgryCU2w51xoPqe+1R6DGifrKIupM8kLd01zerTbK9AaKinWaAFfz45cuW85HEz9m+MiRWoA7Xz8/TcS3au2Jp5c3Ssgri7wKfqeE/ugxY/lu+gw2b9mKcs1Xy82p4HmVt8rlqXy/8rlysjdhpIgCUq1JnLAlo7MVlxe08oNyfpkJaL2jPAie2QhJCWRPm8KmAC+2eDixza0pK92d+cGrFRm//QxZGVePiHV0VHWsvKnrolJIOQGxMRAbC7FxkJQEeTnlc++t1oo3HPxE2ldGKOdCQAgIgQsicPr38QUlUgNfOq3eumId69euZ+SIkbQJbMMbr7+hCTJldZXt6iNgt9mxmK2YjWZMRpNmVbdZLr6trRYrs/+cTfdu3Rl430AWLVxEXm7ehf1gUXG2rDbNa8RoMGHQG9CX6rWjykfsG1dfv7waalTjRL0D+ml/E7R/X0rMm8wWTcgnJiVpgeqmTvtGi1Tf/847NZd6FdjOz7/crV6dK/d6FbG+d5++DHtoOOMnfMSadeuIjo3V0lHr0Z+elyqDunem+47yVT7asVFm15FuTCW8IJTosuPkm/KwWc81hcqpyfl5E9CszNo3NFjM5fPlVZC4uCgMX3zCIZ8WhHvcRJT7Tex1a8zC1i0o/el7OJEEZj1Yr2I3LtUF1d9SsxUMRjCqXQXEM5WzqhD05T1VDU/ZtMfVK9J7z7snygtCQAicD4F/+pL5p/vnk3ZVPFtTy305WFWwUKJu88bNDHlwCA3qN8CpqROPP/YEJ1JPyB+Zy8G9qtO0K3tJFqEhoQTt2cveoL2aVT0pMal82sVFlE9fZuDjiR/TulVr6tWpR68evZg/bwElxSXnl6qKhWW2UlxUTHxsvGb5X75sOYsXLmbtmnWEh4VTkF+gif7zS1ieFgKXl0CNFPWV/y6qc4PRRGZWNsGHQ7S149//4ENGjHy4IsBdG80K7x8QgLePr+Zar0S8mh8/8P5BjHr5Fc0ar+bVqwB3yrKv5tyrAYJLtVkxk2PLYH/GTqZs+ITvd00lpjAas80mwuhSQf6ndJSgV7sSp2VlUFAAOdmQngqH98FHb3P0FicSmzUks0Ujjrk3YO3NzlinTYbjoZCXpi0DR4kBzBc/kvxPxazy+6q/O5T6Gfp++Uflkl6tC6AcI69iGlXeHFIAIXBNEVDfOeqr2qbGXE0UFRaRlZlFUkISmRmZFBYUahayC/6D6fhOq8inKtkqK+UF1+NiCu5gYIPqYmlUltoD+w7w3LPP4+7mTpPGTRk2ZBh7dgdhVQPNsl11BIoKipgwfgK+Pr44Oznj5uKmifBRL43SxPLFVjguNp7Rr4ymZYuWNGrQiDv738mSxUvKvz/OMXEl2Ldu2cY7b79Dv76307J5S1ycXWjaxAmnJk50aN+B9959j0MHgzVPg3NMVh6rRgTUd6D6W6N5Azm+G6tR+S60KJdJ1Bfw6MQFDB+/kNenLuVQbB76S6QAlPu7sp6r6PLxCYls3LiJb7+bzsuvjGbQoAfo2as37dq1x8/P/++58cq1PjCwDb169+GRRx9j4sSPWbhoMQcOHiIpKZmCwiLNwu9I+0Jh/tN7RrUWuimZPWlbeH/pOKZs/pjj+RGY7RL9/p+YXbr7Fb8UzWaMISEcmzGdkPfeIfrNccS++BQx/btx3L0e6W61KWpej3jn69nUtDZH7+1L/NjnODb+DYImjufwrD8oCI9Q/lhnKNpV8o1whmqoW2p36H1lpxdRf4YuILeEgBA4fwKaA5VdE5lpJ9JYt2Ydn3z8Cc89+xxDBg+hT+8+DH5wMOoH/4cffMi8ufM4HhFJia4U+zl6uqnga7t37WbmjzOZ9vU0fv3lV46EHr3oUUklzpWAUNY7le63075l7eq1FBfp/pGDCt4VHRVNfFz8Ref/j5n80wcV3+8Z6ZmEHQ0jLyfvn568IvcVv8iISMaNHcfNLW/WrPR333U3q1au0tr3ihRCMrmiBMpKy5g7Zx6dOnaiXt16NGzQkIb1G1Kndl18vH00K3tGupr2eOGb+jcWcjiEZ55+Bnc3Dxo1vFHzAtm5fSfagNq/JK2s+kuXLKVf334092iOZytP+t/eX0tDfR81c2+mpdm8WQuefeY59u3dVzWDdP9SD/n4zARUH8jOyuGXn3/RBpfmzJ5DYkJi+UDnmV+pUXfPSdSfS400Y6ianmuBXVG5PDpxHsMnLOC1qYs4EJtD2UWIepW2+jLIyMgk5HAoy5Yu58svp/DSi6MY/OAQevfuo42c+fsH4O3to305KBHfuXMXBg68n9Gjx/DNtG9Zs2Yth4NDUG4++fkFGI2mk/G/zqWSF/iMHTN6iknVx7MzaaNmsc8xZ6Ec+8+goy4wF3ntzASUqFeu5WUUrV3J+mEPsMynFRu8b2HHrR6EuDcixbkW/7+9qwCP4uqiLVLcLbi0OC1SrDgVqlRwL22R6t+WtrQFElwKBUqRAqWU4hLc3d09uAYJkhAS4nv+79zdCZtlN9nIxrjzfUOW3ZE3572ZeefKuXcLpEdAwQy4mTctDuRMg+2Fc2LTCwWxonxx/FulEha17wTvlavskHprymu/BanxWx23qbFX9ZoUgcRH4KH/QyHz9K7VeaWuELy8efKaJ/zZsoOf6SUrWqQoqlSugrZt2sqE7KzXWbOYWgwPIxoARgwfgWpVqqFY0WJoWL8hOJFLiBzejRs2olXLVtLm0i+UFuOD93VvhyCSMDAcmBPK69cs21m33/qzw6PE/Qeqgs+ZNQeTJ04G8UvKhTj1+qUXypYpi6xZsqJWjVqYMH4Cbt+67RT5Ssq267ljjwDJNkPt6TnPkyuPhMc3fbcpXn/tdfF+Z86YGXVfqSuknx7U+Czcf+2adfjwgw+RM0dOIefffP0Nzjgx5pmDP/bPcahVsxY6f9wZM/6bgT2794iI4/Zt2zF61Gj5LVuWbBJhMKD/QIkmik97dd9EQsBEmagAjPx9JKpUrirvg6pVqkqfXrt6PZEa4drTJAip53uIxJsePCH1XrfRvt8MtPKYhe9GzcHuc7fsknruY3fhsULCxOJ94fwFbFi/QR72vX7thc8+/QzvvfseGtRvINY+vuQrlK8goTxVq1QTi1rH9h3Fqj/t32lYt3adWINp/WN+DI+b+Ew6HBEIhm/obVwPuQDv8EsIhL9QekcQ2MVFv4wbAhFhwKMHCFowE1vfaICtBXLggFtOnCqQE5fzZcbd/M8hoMBzCCuUAf750uJq3vTwypcJJ/JnwUG37FhU1A2r33kHdz0XADxWlIXWKnrvtSejwKL/UQQUAUUgBgTo1Z45YxY+fP9DlCxeUsJlM2bIBK703mXNkk08uJzwp0+XHhkzZET+vPlRs3pN/PRjT3CS/SjwUbRnoao6w30LuhVE2jRpUa5sefHaSwh6tHvG/OOqlavwWuPX8Fz658Tz2LpVa1y9ctXhjg98H2DY0GFo0bwlZkyfgeBHweZtZRLlcLf4/yA5wmHYuX2nhLdTiI4K80m1MLR+2r//yRxOvLRlymFAvwE4d+achMMyDUOX1IMADWgXzl3A1199I/dvxucy4sVKL+HvSX/j36n/oskbTZApQyYJx2/bui327tkb77Doe3fvYeo/U1G/Xn15jlQoVwFDhwyFfzSRNEScYngk8XwuHTl8NDJ3PjQkTEL4r165hkEDB6FM6TLImjkrWrVohT2796aezkrNV2ICfG754MMPPgLfKWnTpEP6dM+hY4eOOHTwcKq48oQj9aA/GrgXDmz28kG7fjPR0uKp33v2tl1Sb4sgS5jQenv08FEJwWI4W8+feqJD+w5C1mvXrI3KL1UWEl+uTDm8WPFFUbn84P0P8OXnX8rLcs7sOdi6ZauEuNHixhd+ZMhNEvEuEvpA+OJ8wAmsOu+JTd6rcCv0OiJMmlNvOwYS/v/01IcCj/zwaMFM7HizEXYXyoMThfPiYuG8uFEwO+4VyIBHbhkQUSgjAvKnx023zLhQKCfOFM6N40XyY0mJIlj5zjvwWUhSz1GeRAMp4cHRIyoCioAikCQIsBb5wgUL8c7b70iu6nPpnkPuXLnxctWXxRvPd3+/vv3EQP/tN9+iccPG4rEngc6UMRPoGf/+u+9x5PCRx+94O1dil9SP/ytBcrZjS+oZNUDPHvOJGXGwe9fuyBa7ksgyVeGm9030+L6HRDx0/awrjh87HnnuxPxAgnf86HG8/977yJkjl/R91y5dsXPHLqlTL69XJfWJ2SWuOxfljMLCxZM9fux4PF/qebl36T1n2sXJ4ydx+dJlDBwwEM+XfF6MeaVKlpJcdqbjxGfhvJ9pLu693VGqRCkh9nQGrlqxKnqRanpz/QNEx8OecBCPywidN15/QwwRDRs0wtIly+LTVN03ERGgPkv3bt2ROVMWPPPMM8jwXAZJ96L4YWpYEojUk5yGggEzdyKADWfuoG3/2WjpMQffj5yHfWd97ObUR0RQt8wfZ89dxNatO8QyNmjAIPAFTkt2g3oNzGH1FSqBJL5ihUqoVvVlvNroVSl9whcUwygWL1yM/Xv34/KlK0nojXc8HMLwCHdxHTturUO/1T9i1K6B8HpwHOER9pX1HR9Jf4k9Alak3nMmtr/RALsK5MSxAjlxPl92XMubEXfzpUdggfQId3sOAXnT4nrejDibLztO5c+Fw275sKhYESx/9x3cIqk3cZTrjCP2/aB7KAKKgCJgQcAEnPE6I8TWrYCbeLopmkUF9MmTJgvZpUie9/UbuHr5qoTNrlyxSsSpOAegSnqG5zJK+TOG1t+5fcchtMmJ1JMsUDOAub4lipfETz/+hEjy4qLXCkkInRvEtVKFShLt8EnnT3DsaBKQekv4K0kc0ykYkfFq41el9Ng91hQ3IhbUbu5wPKe0H/x8H2DZ0mVilEuXJh3opa9RvQaWLlkKpt7QuLdp42ZJY+F9TQ9q5ZeqYNLESbESt7OHCysrbNm8Be3atkOO7DnAZ83n3T+PNprG3nFsDU3UpKDWB42LdV6pgwXzPe3upl8mMwQsUeBr16yVd83L1V5Gi+YtQGewz22fZNbYuDUnQUi9+dSsxW721G/xuotO/Waivcds9Bw5HwfO3kVQhFnZNtA/EDev3xBL7apVazHln2no494PnTp9gtdfbwKCXKliJVRkqbnyFcUzz5vm3XfeBa3L7n08MGH8X1IC5cTxE6KQG9/8m7hBF5u9QuBvuoPjPvsxedMYzNj9Ny76nlVSHxsI47WtSXLq765ciuWtm8GzUhmsqvACNpYujgNFcuOKW2bcK5ARjwpmwe28GXE4TxbsKFYIG8qUwpKKZTGlWmV4duyAa6tWmL3+Surj1Ru6syKgCDzdCHAi/9+06eJtp+edk3mG4C9etMTsITPgIbkzyK4JuHLpCkaNHCXh92753SS3dcjgofA28tON/az+sgb6E+H3SeSpZ1sYfWAYMliTnWSbpNtVNdkDGU68a09kGHK6tOlgJvWJ75limbD9+/ZL/zHsnikR/Rl2f/Ycwo065Qaxt+pD/ZhCELBjjKGSPMUkO3fqLOKXrVu2lntY0lQs9/bdO/cwb+48GZc07DE6d8RvI0Cl/Pgu9Mz+M+Uf4RIM8WeEL1NfmOMfZYlh3FlXjGB4PjkJy+a99eZb2Lh+Y5RDufQ/DCG/7YNg6g4Yz0aXnjCOBzfGgvHXmcPE0AfOHMKZbYICg7B50xbRF2FZxTs+d6IXXo3NNbABsd3emUY7uU0CknpzTr1vOLDt9D184jEdnfvMRM/hc7Fxz3mcOOON/fsOYtmS5Rg/Zix6fNcD7733IerWbYiKlSqjbNkKKFeugljea9aoKWIaLVu0xFdffiV5MLNnzsa+PftAMQPmxiclaE5ia7VZOMIYgB98C163j+LsnRPwDb6npN4KIZd+5A0WEorAo0dwfNIEHO77K7x698Tpb7+A11sN4VU0F24Vyo4HhXPhcoEc2FQgD040fRfnvv0ah/v8gl39PXBsymT4Hz+q+fMu7Sg9uCKgCDwNCJDcUrgqT+48ePaZZyUsd+yYsWAebJTFdpJngigVc8JPYT0q2h87cgycpEXOCWwmVMmN1Pf16CtpBGmeTSvGDAqFbd+6/XF+fRQA4vcfGk+otk+s6Kl8Ln0G0FtKZXCGwCfqYoL0L6sY5MqRS/QNGMK8fu16sy6CbV8nauP0ZAmCgM29x2OybCFD7E+dPCXrieMnJa85SvUKE0C9ibNnzko6DcPyvU55mYlrPBvGtBam9Hbv2l2iAFjmjnnwNBBGhJsep+4Y48/ONbAJ3JYkmvfU/LnzUad2HeTOlUdCt9nWxFpojJg2dRrobaZhhPgmu8XAkvzW2frgUqiK/ZE4V+N0u4xrcDAuIt871s12tK31Ni76nCCkXgTvzOMd94KAjQcuoMP3o9D6m5H4+LthcB82ET17D0Lnjz/FW03eQs1q1VGhXEWUKVMeFSq+hMpVXkat2nXEU9+ubXsJSWP+zepVa3D6lBd87/ma898SqbMTHusQBMEPN4Iv4lzQcVwM9YJfhJL6hMfZwRF5gzHX41Eg4HcXuH8T8PEGjh2EaWAfHCnlhqtF88KnSD6cKZgPK4sVhWnkKODkCeDebcD3LuD/AAihqFES3q0OLk+/VgQUAUUgxSBgAm7euCUeLgrhpXk2jeSnUhA38vHKx6z1ark4TsQ4qWYNe4rfsiqOsV3kJM3mEe1qUs/wcWeF8tgWa1Kf9tm0YthgSDAJTYIuEcCtG7dEZJjltxj2TEJPvIXUJ2ZOvQlC0OjhpLgxw+7z5s4rgmMkfNJ3Rn9bgUDiF4X8Wf2mH1MYAozWDTeXr4ziYZYoXgu5NsaAzT0c3yulI3C6JTKI9wBLKC6Yt0DC/yVCxPq8MZybaSIU7S5erARKv1AGw4b+Bup3JcoSYVZvpw4JBTqZfszyfX6+fuZIl2TCkUjMjecx/xqfBSNLDS0NJgAAIABJREFUGxn5QMFMChAyTcKIhBDjiW0fGP3DA1jIP7fnfhQb5XEi3x1OdIRRmz6ybbbnsxwj8jqk9Kp9cBl9xHYwYpxC7Hw/uSrqyolLQ7xJPbEIC4tAYEAQbvncx6ETXvjrvwVo8N7HqPF6O5Sv2QRlq9ZDhZdqoGKFF1GxfCW8WL4iXqr0EmrUfAWvv/4W2rbtiF69PTBz5mwJzbp546ZY3mUgRFpvHKDuzFUm8TbMqffFTRzx3Y3pRyZhwZkZuBRwHqHhYYhwWAIgiRudqk4vd6TZyx4eBIQ/BIIfAhfPIWDEEOwuXRRniubHlcIFcLhgQXiWKo2H4ycBV68C4STy9m5mjkd736cq4PRiFAFFQBFIUAT4Xr9y+YqEzpPc0VNPxesD+w7EfB4+dqObCtj5zZWkfuWKlWjc6FVR5mcobkzq99aknoSeofBU9C9WtDiGDB5iTj2wcw0xA/PkFtQSWLFsheT8UgyKZJ7CUGmeSYPPPvks0YXyfG7fkdKCrE+ePl161K1TF+vXrZea9MZcL7JvTZDJPoUFuXLiH6fFgiXJJCfejOgIehSUpJPuOF2Hi3ciMaHqO1M1goOCo7/HYmgLyRYxZkoJ8Za+41SJc3mLZzyyv41jyTw/hnvb2NbZv9b3kQk4dPCQ3J+85zgGWWP+2pVr9qdx3Nd2FW99BLZt3SZq/YwyYsm8Des3RiWtzrYvDtuRvPK+ZnRP9mzZUbxYcbRv1x5zZ8/FxQuXpA+FFMfh2PHexQpvjiHe79QL4cr0Ck6XOTb4G1MyWFqcIqe7du6SagMnT5wSQy11FnivymJlHKDAJsvR3b55W6K1KPS5Y9sObN64WSIx+E6563M3xmcFj8NoB6YwMPKb7eM5bSME2FaG5fN3RkQwFUTGLRsmGb1BUu+eYoyHDx3Gju07pGQj28W69zT0yHVY4RJvjJ04QLxIPdv6KCgYZ89dwOLFSzFw8DB0/KQLqtZ5FcVfrIfCFeuhaPmaKFmhGspVrIqXXqyCWjVq450330a3rt0xatQYrFq1Dl5nziMgIAh8sKS6xRSBcAThXvgN7Lq6Ce5ze2LYigE4fecEwiPCIt9hqe66k+UF8c3CyUEIEBoEXL6MKyNHYGG5UlhbvCC2FCuMZcWKYVyZ8rj291TAh8IZju5Ifu/ot2R58dooRUARUASSHoEIyOStUcNGoOI9iebbb70tVWucalx0j107vyVbUp8mLdKnTS8riQbV/BlSSzIU34UeI4oHMzeZhJ7HJ85C6p9Niy6fdknUknacIHOy+2aTt6SEFA0ZFAlkmTN7JCToUbCkB9AosXzZCnH2SFRGHIAhkeTEnFWRli9djk0bNknodRwOlSp3IckiMVm9cjVWLF8h5IQkJ67TG0bQkKixMsTGDZui9DH7wqmFmzm5qVPHAyS6hzXmc2bPKVErlV+sjC2btpi9vNYHMc5te36JMLqJ7779DoULFQb3Z0Tx7Vs+j9uaCH4eeuUZaVO0cFExTvBeYnnA3r16g/nhJJNJ6SkmlLyvx40dJ4YTpv78PflvidQJfBgoRP7PMX+KfgINotWrVZcqZk3fbYpv//etVD4TTDkEGLpvMQaQhFO7gKUvKXzIqG/2QdnSZSXSq33b9hg1crQYb2gItDd+iAtJ/Vmvs9KP1Gnjc2jnjp1mY5bVOGA02W/DhksZ9U86fypiekwPo0GAEVCsgEDBTxpyGTVBfZQXK70o1VzatWknBkz2x/17vk8YDKxOk+Af40Xq2Zqr165j7PgJeO2NJqj4YhWUrVAZJcpXQ4HyNZGvQi0UKlcNL9Wsj6YftsSPPXpiyqQp2LltB65f9Ya/fyBCQhPhLkhw2GJzQHNlgMAIP5y/dxpzd83CsqNLcDPQGxERoVrWLjZQJtS2jI6gKM+1Wzjx10RMfKU6/qpYFhPKlcHoSpUwuG59nJg5y0LqLSbmhDq3HkcRUAQUgacZgQhmM/nLZClH9pxCNEs/XxpT/p5iDqdPYGySK6lnTj3JNvPcWSuZ5LvZR83E6yThpPHAgSHtVNkn+aBXPG2atLIyKoIRAolN6knISRhLFCshtaEL5CsgIlVURre3kLgwXJppA0UKF8V777wnRgqGtsZ2YcUB1it/pdYrKFyoCN54vYkQTnuT/tgeOzVsz7rtFLKrWrmqVCR4pfYr4jl9QkguhoslAWMI8ozpM/Fq49dk7NGIs3jRYnNodUxTKVsSHcP5YvszvaYb1m0QoTzedyyrN3zYcAldd+ZY3J/klOUoC+QvgB96/Ijjx05IuLUz+yfUNjTYUZ+g508/o1zZcsiQPoPc23nz5MXbb76NqVOm4sb1G4+9ygl14lgch9EM7737njzfcuXMhY4dOskzf83qNdLG/HnzyzOPUUNc+VziSiHDsmXKShlTpliRgJPU83n227DfUOPlGlJxwDBQch9GIBlRSNQ4aPLGm6J58IQ+i6X91CCgjkeeXHnk3KzCQcxEq83qGqmT0KhhY3le0vhKDRimSB3cfzCyCgvHkGGYtf1L7YZqVath7J9jJTItsQwtcSL11vfePSpLTpuG+o0boXT5Sij/Yg2UqdYARau/jnKNm+HN1p/hr3/n4uCRU7h100fqP4ZR2MH6IFZApr6PRrm/ANwLv40rEZdwDVfgD1+YTHxBPTVAJJ+uJeR8wQSGAefOI3jjOoSuXYmQNavxaMMG+O7YQWsV4/+ST5u1JYqAIqAIpAYEJL86GEMHDwUnopygZc2SVcJIWX5Kwn8T8DpdRupNEKLKiR9JQuZMmWMVfk9Sz4klPVUkryTe+fMVEHV8TmLjOjVgaOvsWbNRr049mfATWxJas+J+BjOp/6wLWD0osRafWz4YNnSYYEQjA71aVMGnB18Wm2kQxwDFAytVfFG8qkUKF8HEvyaaw3i5rc320V0HvYbff/e9aBfkzJELLZq1EFIUm2NEd/yU/htJIj2KTV5vIp5fCir+PuJ3KRMp/RMLrJk6y1LT7C8eh0YqptXE10iVIBibIGOe/c97jYTw086f4tLFGO41poIEh2Lt6rXiUc6XNz+6dumGvXv2SZqB09EHCXIR5oPQ4MJnxNw5c9G8WXMxoLDEJ+91lv7+8osvsXrVarORNAn8pgapJ87Zs+VAy+YtRW2exh5qaTD9gc8jahIwhYBjhc8FEnzqk3D8/PpLLwm1v371Ovp69JOKaFkyZxVSz/KnrI5WoXwF8DOv2zBe8jlcq2YtUFydqQq2C/ty3dr1yJ0rt4wBRjz8Y4fUnz51GvXrNYg0Gnzx+RdSupBVHLhPtizZpN2s4FGhfEWJtOJ1ZM+aXdqSLm16eXbRSDFo4CAxCERW+LBtVAL+P96kPjgkFGs3rMcn3bvg3Wat8MV3ffDz4Ml4t2t/NPvfCHw3cCL2nrgKf4rTGpY6q0EWy+dzAl56Yh0qAhEIRgDu40roOezx247Dwftxx3QLESb11CdWL0SehwPOehyyrIm/H+B7D/DzBfz9AYov8XuZcMTijRZ5Ev2gCCgCioAi4BABE4S0sdINJ3icyNGrzHDxlctXitfENsfR4bFi+MH1pL5RnEl9qZLP44ceP+CnH34CRQOJAyeq9AjSU/VE7nEM18pcZub5f/D+BzLh5DGZ5jDjvxniYaSGASfan32aiDn1JuCM1xl07dJVJrv0aPH8ks9sXI/ta9YEyWNlmC29d4xi6Niho5CySExs9zGOZfN3+bLlEp7LMOWSJUpKyCxzc3WxIMCKEucv4scffpRqDByDLNNGBfpIo4sTYLFfmN/MfYl1oYKF0OvX3mYPqNWc34lDuWyTWzdvi8eXY4rjsEH9BhKu7Yhs8RnESAYSegpi5subz0JQNydImkycLpTjnsGmoWHi/aZWwNAhQ0Wjgnn2mTJmkkgCalb8PmIkzp45Z1bId/J+iVObbHYiqWfJPxpOMmfKIm0jsScBrl+vPvq698VCz4USObF08VIxIr3f9H3Qq//MM89KWla5MuXgucATI4b/LuKajOqi55tGozmz5kgaDcPxGdHz0489ZRvqmkgURvac6NCuA3Zu3/lE6HtsSb05ZSmNPFNpQOEzhBFHzZu1kLKLixYuwtYt2+Ra/p06DR59PGRc5cqZW6KSGIlV+aXKGPfnuEQRVIwTqbfuP6Y8eN++ie37dmLT7n04dPomlu24iA69pqKj+wz89Psc7D9zBw/p9DRubIofUKyQ6RIUyLA+YCr8HIEg+OIW9t3ahlEbhmDirjE4/+C0hN+bUv3Vp7AOtTwwtVtSWL9pcxUBRSBFIcASVpyMMieSXg1OshmW2bBBQ/FsHNh/QCat8b2o5Ezqy7xQRiatjFBg6CwnwJyUkxitW7sudukIEcCRQ0ekDDC9VyTC9IhP/GuSEBeGDdObx0nvJx9/gmNHE6dOPckHRaQaNmgkk3waFUaNHAVf1iA3UTwrwmy8sOloEu+ZM2ZZvJAZUL5cBSECscmtZxj/kEFDpGQiPXiNGzYW3QKbUz31/6VHk2HyZUqXEc8kvaj8P+8dZxdqQYz5Y4x4LZniUbtWbXjO93R290TZjmPHc8FC8RLzXmDo9bKlyx3eZxyDNJJRbZ5RRTSWrVqxyhyyn1TExTivZa5Kr/3Vy1fl3qAA5vOlnhdDKcc7jYadOnYSLQnmgUs4eyIgLaT+bZL6NBItxOd64YKF0aZVG8GPInkMd+eYCXgYKB55Cg52+awLsmXNLmMwW9Zs8hysWqWqGCmYcz/9vxk4d/ac4E8DJiN6eByWJ1wwf4FEJ5mJfXrBYdiQYVJpxfqSY0fq68szi8Se3nneF7Vr1pZnCit5MO/+4YOH0o5HgUFSqY3ie9TtYBRIsSLF5DnMSAJGrTD9Iy4pRNbtj+lzvEk9TxBqCkVAqD/8w8LhFwZsPeWHDh6z0KHfXPzw+1zs8bqNBxTUtCL1FEcRDYSngNQDwXgYcRuHvXdi5NJB+GvDaFy85wVTuIbfxzRA9XdFQBFQBBSBVIiACRKSOGTwUAmXZGglJ4GcAJUpXRYfvv+hiCKR3DJHNDZeQ2u0kjOppzgecy6prMxJabWqLwvxZohq927dcejgYae9HlevXMPgQYPF00+P/AulXoB7Hw9RmT518rSErxqieRTaOpZIdepJpJYsWoKyZcqZJ+tZsoHeLSqjcxHPuzE3tOo4EpAzp8/gtVdfAyfq9EL+3PNnmdRbbRbtx8OHjqBtm3ayL72EzIv1vuYd7T5P44/EmuHGLClN7yoNPz98/0PMoekGWCbgwvkL6PzxJxJezVxjRmYw9zs5LSR0O3fsAokiIxJI1Km3wLLZtgufGwxhpweZHnqKeS5bugzM1ZaQe8MBZLujQbptv3fF/41zRTDQ1A+HDhwCRejYVhJpCpFSpb9e3XpSSpNEVEQQXdEWq2OS1NMQYowl3r8vV6suUVh81j1BbE2QKhcsa0oBPObIs38YIs/7nu2f/t90If/yvLA6l/GR4niMcKpUoZIQaUaLtG3TFvv27jM2kb+xIvV160cKjPLZyXKcf4z+Q55B0Qm709BCZf5mHzaTa6Ahk896piCJMTNKixL2PwlC6oFwmBCMUAB+EcDm0w/Q1mMu2vbzxPcj52G3162nnNSHIiziLm4FnMHO82uw98om+D66YQ7vNm7KhO1XPVo8EDB3iXZMPCDUXRUBRUARiBEBemnpeZk2dRpatWwl9aPpqabXnp6aEsVLyiSPCsWzZs6C1+kzUtYoxgNbbZC8SX0ZjB83Xog7vT5UUy5ZvKR4t154/gUJS6Vye0yRY4ZXu1GDRmIUKehWCB93+hj79uwTLxIJ24uW/HQStsQMvxfRu/8oeldURAGLFy2OXTt2mUOCjX7i69bOK5deuD69+qBAfjeZ5LOUFysEOKO7QOLFcFhqFpAgVHmpCiZPmvy4XJZxbv0rCFCLgWruVIcnGatZo5Z4FumBjGkh1ksWL5Gcc5KfCuUqiLFKxMfs9GtMx3PV7ySTrMJA1XVzvnd20JvLVBfrhd5XjrM2rdsIOaZ3lkY3ljizN06t903KzzTOeF+/Aaac/NzzF1SnsBzTV9JnQKmSpUQ1/p8p/8DrtJeIGrqqrY899WYhu7x58qF/v/64feu2GGef0Gqw3P/UZGB/MG1IorfSpReDSu9efaRCQ0zYX750BS1btJQwfmqW0CDIKgyRUeJ0Qscip57pGfTS09jM9xFTVDh+njBK2AGSEQjUAWG0FJ+5DMen1gGjKly5JBCpZxOZOw48CAe2nH6AdhZS32Pk/Cc99fTOh5tD71N1+L2orIcCfrcRenIPgg5vwsNDG/Dg8Gb4H90PsEamEw9MVw4APbYioAgoAoqAIpBUCFBEi96vzZs2o1/f/nizyZsiHJc1c1ZwYkZC5lagIGrVqIWvv/oGs2fNkZJJztYAtiX15cuWx18T/nJqYhYtJpFCeXHPqWf4/YTxE+Q0FCxj3WbmjnMSnDmjOVycgk9GqLq99nCCyVxmTmbpUaRYExXe58+bb6nxHioe06Qi9SRC48dNABXvzeW3XsQZr7NRIy8ckHqODUZqkJjT2FOsaDH8+cefQg5imuCTpLL8GD30nJAzH5al1mLazx7GT8N3HEc0AlFUkSSE3vaRI0ZGH9lgibCg4aZPb3fpn4zPZZQoG47JSP2DZAIg20MjIpXZDW/wl59/iUsXLkW2kGXXGD5NoxirJdBAwTQhRo2QdPJZRc8+x5ex0gggoe3JwYBhAmiIoY7FiOEjRHSOz1AaMZiXXr9ufYwbO95MLu1EyEQCEY8PRk69gTFLvVGMkdUR2AdUgo/UWON5LPe/ke7AFIK0adLJOGRUxdIlSxEYEHOpT5bCHDxwsBgw0qVJJzn40/79T8rQGZfjPKmn+n0j8DgU8KtYoSKWLF7qdLUEXiNTnFo0byGGVqZD0HAt0VdGY1zwNwFJvbl1D8OBbafMpL5dP0/8OHIB9nn54GGwVU79U0PqI4DABwg7tBuHBvyMg99/gaPff4dDP/yEzT1/xZUFiwDvmy7oVj2kUwgkhwewUw3VjRQBRUARSN0IkFRQPI0TOHrm6ZWld4lCevT+pU+XPjIUs69HX6xft14IR0xh+U+Q+nJmUh/bkl1PoJ8QpL50GTEwGMdmjukiz0USbkpvFUNPKRZHJXh77eXEmJ58qrtTMZqE6qUXK+O3ob+Jx46TZe5HpXtDST6xPfXXrl7DoAGDhCSSmFd/ubr0W5QwWnuk3vJ+prhZ5487SxhxpoyZJe/28KGY0xKoyUCxLnNucSkM7D8QrHWti2MEWOOc9x5TYEgC27drb6lS4Jj9sR+PHz2ODz/4UMarW343eLh7iNChnCmZzbOuXDZ7c3kfMPe/+UfNcfLEyUhQmJ/NWugU7qQx6OVqL4vBgqJzI38fJXoQ1IQwVoZjU/TthnfSlpGLvAAh9Y8knWL0qNESIcNnJ6OfjFD8P0b9IeKIriqzRlLPMpQcQ1SJ533ofd1byDy9v3Lvc0jZjA2+A3hvs6wiDQLso48+/AhMo4nyvIi82KgfGDHCvqhWpZrsy0gvli201uFwltRLSbsGjaQdjFzh+D565KjTxmC21/e+L77933dibCX+fKdRed+VS4KSevaRfziw9fQDtPeYg/ZC6j1FKC+AsfnGg5sbsvxgahfKiwgDfH3gv2wB5tSthrmli2JRqWKY90IpjClfHrs8+iLC69wT/WvA9MQP+oUioAgoAoqAIpCKEaAAEoWUWNe8n0c/8apR5I1hwZzk0dvLUG5O9ljb/jJLUkWz2Cf1E+2S5GgO8+RPCUDqKRLIEE1j4UTwrs9dIaDUFWBOLMPxe/fqLZgY2xl/OVmdMX0GalQ3128mEfn6q68fK3oLqTeHHFeqaM41FVL/SeKp358/d17ysykCSN0EeoKfqKNtO+mhgF6oudwdPaCTJk6S+tXse5armjt7rpQTM3Cw/cuJO3Flfi29lK81fk2MRfYMI7b7Ps3/Z1oDheFoTEuf7jlJ2WDaC/OgHS2MMKECuZHLzFB11r2nx5sky5a4OTpOYn1Pw2Hb1m1lXNAb3PS9pkLWjHYyNP3bb76NzOdmXneRQkWE5FPR33alEnqb1m2xd89eh9fKMcyxZ17DEBoS80qCK6TbhvhGhxM94TTyMTf9l59/FX0NEnpG/bB0HL3GzDtnGpOksMTi2NGd1/Y3g9STmDNyiNFHMh6M0Gzjfrc5P8cLIwxYacAg9UwVooK/s8vGDRvlGcHnHIXtaABmJIWxsA9oEGZNe5L16EraNajfUMLv6anv1rWb6EY4Y1wwzkWMWZqP0UI0INWtUw9U+3flkiCk3ugfyr4x/N5M6mejQ39P/DTKEwfO3UMgn8/Ghvybiki9zbg09xe/DAsF7twAPGdhQ9UK2F0sPw4XyoldBXNgRvGCOP5LT+D0mcfbW4yhhMqAy5Wdr8dWBBQBRUARUASSIwKc0DJ0m0JHY0aPQdP33hexIaoj0+tBDz49OgzHjk78jBM6eg5lYpUmrZR2I+GLN8FLAFJP4m5N6ikgzHnS0cNHxSNNxWiK3lFJfOo//0YRuSI+Bw8cxNtvvYNcOXJJHqqoc69cFYXwkhyTqJgJbgbxnlEoj97VxFh4btZ4Zp8xpYKiV9QPiDI5NuaGDhrEsl0MmSbBorhZn959xPNHrAQzm/2uX/OW8Gl6JhlG/tWXX0kKgoRI22ybWP+lser+3ftS/52GG4Zx37sT/XrH566UwRJPYwwYxfs6LBNZelSJNQ0wjBbp+VNPszih5Xfb8/AeJfEiSWJUBMXy9u/d/zgc3cF+tsdJrP/zWdGhfcfIuua2pJ6RJWP++FO0POhZJcGUtdGreNXO+maTt/DLz79E8fZbXwvJ+dkzZ6UCxNYtW7F923aJvGH0TXQrhdaYv33v7n0zubc+qM1nKb33wB+HDx6WCgTvvv0u8ucrILn0rBNf55U6+PWXX+XcNNC4OlXAltRTgZ/P2ygh9zbXwP9ak3pDZI+CizQMOrswjatWzdrynKMWh4d73yj16tkfVKF3itTXayDEnxEH33z1jajsG8YfZ9pDUt/7195iCCKpZz9QNNSVS4KRevJROuMfRJDU+6G9h5nU/zjKE/tJ6g2hd+PBlIpIfZQO4qgNDgZYB5V1z69eAmb/h/2Vy+N4wZy45JYFpwpkxqri+XHlh/8B+/cDD4Ig+QmBoUBohIwZC7+Pcmj9jyKgCCgCioAi8FQgwLmCJaqPSunMTxwyeIjkOZrzszMJsa9RvSYm/TVJShvZI3h2Sf2EiQh+xJzAeCzWpD5NOiE0rVu1fhx2bOfQjBqg56hA/gKiF2CdU2+9uUw812/AB00/EFLK+s3vv/c+tm7eGmmMIPn46ouvJFedXlWGCU+dMlXyfCOPZQm/J7GuKF7rxCf1p095oXvX7pKXyrBulrZjea3YkHoKbJGUMMWAE2xWRiA5cjTBpqeShhCmI5QrWw4Txk1wOD4isXLxB+arU8uBqRHDfxuO34YNl8/8v6OV29Gzyn2fEBdzUXupIs77jN5pCqxR/Z14ioaF7TkjgAP7D0pdbqZWMIKGhJj9JX2TzAg9m++Q1FuujYSXufKXL12WXPuLFy6CK9X97a38jeNZjIR2rpcpDTRC1Xi5hhgUGXVUtkxZp1aqt9OrHF2YPJ95FPpjZBMJMD3yTFeiQB6jCuidX7rEotpPT3kiLOacerNuAT31iUrqNyYcqa9fz1zSLgqpjwV+qZrUB5DUW17Qxl/qyCXOEItFL8RqU7be6gp4w5DIe50G9uwEtm0DVq0GBg7EoTKlcKloPtwomAVXCmXB5kI5cLFdc2DGf8DufcDegwg6fAymW3ekBVZHjVWLdGNFQBFQBBQBRSDFIyDaO1HfhCTFDK9kri+9MAyxZFj366+9gS2bt9q9ZJL6vu59UcitkBBCCl+RKMV7MUh9g0ZyXHopY0vqzeH3k+w2hfn1FJijyBTFmija9e3/vpUwfKqKUzWf4aX0AOXIlkNyoRm6KmTZAhs/U3yK6vdJRerPn7sg4fckiMSIitIkQdZTJ4cE0Kr7qa7O0HuG07M81Lix42CvrBTJL6sIUFSPxg6maZBkyLzT6nh2QXfhl78N+w2lSpSS/qKitrMrqyBwX/ZjYi0sjcbyXcSPpRFZdpHk1HZhuPfvI363GKnSiEebBgB7/WK7b1L93x6pp8HQ3hIdmY7c3npMWX+2bMDzsX48o2lIDhmxQlxjWnnP815hGT0aGqIYwRjNGxYhueIU/hs29DfRqqDRLH269BJhwf7juKEivJHKEtlmF38wk3pznfrEJvUUOeRzgljH11OvpD4aT32qJ/W8mcPC8PDgAWz++QfMa1gbC2pVx+IqVbHxhVI4mCcbrrtlwx23jLiWNy325smATSUKYVWVlzCvTl1MbPQqJrduh93TZkR92bn45tPDKwKKgCKgCCgCyRoBY7LMQLigYKk13bF9RyGzDNMsUrgo3Hu72xUxsvbUc6JMFWPWpo73kgCkvlyZcpg8cXJUJXirhlF8i8JlOXPkksk6vXwsDUUxwcovVZZcWV4/VZX37NpjLhNnYMXjWDz1SUnqGVEwcMAgya2lN5cedKqIO0XqrbCgdgI9fgybpYDg590/Fw+q1SYS3suSURTmYtg9jR70OjMcX0J/rTdO5M8kWBTuYn4uV5KOmFZWfyhV8nkMHjTE9aSe48YydijwxTzoPLnzimgePcBHj9gQXxMkPYaefBrWmBrh3scDNOIYx0lkiJ06HXPOO7TvIAZB4s/we7uk3o5R0akT2GxEYwijTBhJ88LzpWUMlCxREjGtVICnkZCe+khCb3Vvs+IAtSWYlsTIJRoLeD18FjL/m2Ho/swlt9rHpmku+6+SejO0jG6hHgojJlJd+H3qJPVW9wRvnLAQhO7YjD2ftsPGMoWw5/lCOFaiMC4UzYfbbllwP286PMiXBve5TbPkAAAgAElEQVTypcWlfFlw3C0PDpcoil0vPI85pUvj33oNcHDMOHNCvdWh9aMioAgoAoqAIqAImIlHgH+AiOSx3BEnsgxPb9+2vd1yQwwnZk49PfX07JezlLSjF85euL7TGJuAlctXSjg5Be1INDkJp2fM0fJE+H3pslLSzmF+vwlgbi1JO4kTPd0Mi6ZhguG19FqTLHjO95TwcpnA20zi6dFLSlLvc8sH4/4cJwSbYcFU4WdIfiT2bK8T+YYkKH+O+VOunXi/2vg1CTnm9UUSFxNEiIoREOzrqlWqYaHnIodGE/YT60kzPYEGFOa9Rx7LUSfG8XvWPWcYNlMmaJBgSsIX3b+IdmW5NY7d1atWS5myOJ469ruZgH+mTEXpF8oIGXmldh3MnRNVnJCEZduWbeZw7/QZwIgClpv0833w+Hw2Y5HjnNEkV69cNQu1sd+5jc12jw+Q8J9oHPrg/Q/FSMbxSH0J5rzbWyLJtL0fnfyOoo3nzpwTIb09u/dg9649YoDbvXO3/KUxzt7n3bt2S049NQsi8bEYGhhJ8dMPP4lhj8YralUUKlgYTd9tCtahv3jhksN0ACebHa/NHJH6yOtwcPSEyKnfuN4slMf3QpJ66k2QEn4pmtSLUJ6DnPqngtQHPwI2r8OJ9h/hcNEcuFAoB24XzIkHblkR5JYRQfnTIjDfM/DPlwY+eTPjWp6cuFYwLy4Vzo8NRQtjcc1a8Bo1xixOkIgPOQf3l36tCCgCioAioAgkPwRMkNrszK1muCnF5Khwfv7sk4JKzMdnaSeK0nGix7xfjz4e0RI9py44wkx8qlauKmJKuXPmxufdvzCHljs4wBOk/oUyEmIf3WT3ge8DzJ41GwwF5bVSFZq54vTiMjef4c/0PkYuNnMHhu6eOnkqycLv6fWd9u80FCtaXIwQTCMguWHEhVy3k6SOE37Wmf/og49ES0H60d3DTCIt18yojB7f9ZB63IzKoMeS5fyiw5cGEe4zbMgwESiknoErFqZMMGKAJdWYr21e+dnxyvJqFK574OfvlOEjIdtNQwd1HGhIoieYYnAk48bCNjEKgoJ6NLK0btVGyt9Fwc/oWxNEw2LN6jX46suv0euXXlKv+xFrjzth0DHOGe+/ERAC/9qrr8u9RENc/779HQtt2txLcT0/U0Jo0AgJ5hoS7UojALflyv1sDQs0aH72aRe5n9g3LBlHwVCWjaRxgOKLNHQ5lToQ1wuKYb9EJ/VW/SSkvkYyCL9P6aSemPJR6BcObDnlh3Yes9G+vycMobyng9SHIHzzJhxs3wq7iuXD0cJ5cL5gbtxwywFftyx4WCAD/POnhW/+dPDOlxkX8ufEuYK5cLpQLqwu5oZFtWvizB8k9SlebCCGW15/VgQUAUVAEXjqELDUKCbRvuF9UzzrcZ18sp4xvWwk9AxtrPJSFSEVtphycjx75mzUrmWufczwbZI9yVG2mgza7hfT/zk5HzRwkORJS2mkIkXh3sddahM72tchqXe0A783QQggRdMYsktSz5U1tD/p/ImQ1ieIlNXxhNSfSDpST+V25sNTHIxGCXoVFy9abPY8E39n+8AEqTNPgwzFwHicFs1bSl1rHoMEiCr5NH4wzJ+h9xSmY216GWMOzjPy95EivEcF980bN8dfQNEKe6c/GjjY/rU9gINrsN0sIf4fGPBIUj045ognKysQH2JNPEn6m7zRRAh93tx5MWI4jUvej/vTuBaLlhbvtymTp0hqRPNmLbBp4ybXpxTYAEFxTCrQVyhfUdpNLzfLYlIYLyUsjG6hcYgaIqxMULxocXkGzJs7T0T8xFBGEfJwq+iVJLiwRCX1xjjjdZogoo61lNQnTK8LqQ8DNp/yFVLfboAnfhxtVr9/Kkh9aASCt+3Ero87YV2pYthRvBAOFi2AM4Vyw7tAVtwvkBm++dPjTv70uJgvM0665cSRQjmxr0gOLCrhhnn1auP02D8BhpPpoggoAoqAIqAIpBYETJDw5pPHT0pOO2tB/zftP/GSxTbfmduTwHX5tIt4bem1Zh32A/sPPIEWJ7gMfX77rbclJJul8N55+x0JSX9i41h8Qa8lSXWunLnFU8+wfoaHy8TawXHsk/rxMXrVaJjYv+8AunfrLvn1GZ7LKN65dWvWiVhWpAicHdJn9tQnnVAe284UAnpHmS7AsPiRv4+S8m7S73ba7AA+EfxatHARGtZvKArf1apUk3BjCrYRW5L4woUKSyRD/XoNhDjS8xmd4YCh7RRSZGnEkydOJrqomKNrtft9LLCyu39svmR6yYpVaNigIbJkyiI16/8Y/YcYrVgWzXPBQrDkYqaMmVGzRk25x6KI+RlkyzKdpZea4frUvqCHnxEUHBuJuTDqZcb0mciXJ5+MQ9YoX7ZkGShKKUti4huHC+ezjNjTwEKDCnHcu2evGEejePST+DqSktSvX7cBNZMLqU+pOfXG2GRtdT+S+pNPIaknCOFAmNc5nBw/EXu++gbHu3XD+c4dceXNxvAqnAu33LLivlsmeOfPgP0Fs+FgzRfh1boZjn7eDVu//Arb3Pvi+pr1mlNvDCj9qwgoAoqAIpA6EKCn9ZaPhMJTnThf3nxCrteuXmsmprG4Snqm161dJ5NbElyGo9etU09yV+0dhgaAjzt9LKGqGTNkRMXyZrG8mAifvWPxO3qFKVZX55W64vGjB7pxo8ZYvmzF41xxOzs/QepLM/x+vFNq4cxV5vEpAkcDBj3MkYrkDO5j9R2DSFmdm21NyvB7hs2fOnFKym1RAZ9RDRRhu3blWtQ2O0lEmJPNXHTqKBR0K4ivv/oGFOO7dPESOnfqLOHiVAH/occPOMd0jBiOy5rxhw4elrBs6i/EtL0VtKn7owm4cO6C5P4z/D5P7jwS9k1ROdYNJ7687xjCzhreVGGnASlyMXC3jEmOA997voI1jSdRDACRO7n2AwUa+/XtJwYhGpfq1aknpDix1eHjc5U0Gk4YPwE0bnHMJ7ZhxJm2K6k3Rw3QkJUic+qNTjZI/aaT958+Tz1B4MPLPwhBF67B/9ApKVOHDRsQPnQAjpcthmuFssO3cA5cKZAFa4vkwLHOrRDkuQABh7zge+g0fI+dQ/it+4mbY2R0nv5VBBQBRUARUARchYAJUk+Z6u0Me6Vac/68+dHj+x44cexErHLcDa8sFeAZep8ze06wpvO9u/fstp6TeYbKFy9WQkLAqepN8TkSlLAQJ3OoDZISAVBs639f/0/EqRgKT299l8+64tTJ09GSQnuknjXUhVQYx7d3BZbwcoq5Mb+exITEiikAshiknpzK5jg8Nkl1UpW0Y3uYF86yW9mzZpdSblUqV5WweUkbYHuN1d6123zHcH6SmgrlK0iUxuuvvS6CeSx1SOFERgM8X+oFEXZjPr8tHjaHk99JRmMbLfLEcVLZFzQSMQSfWDO1JXNGcznCmdNnYtPGzWaNh7TpQW/3nNkUyPN7jIB1f0q4vsXgJKHh/OLxpon2yQQxblHMktoaNO5169LNXEHB5p5JtDbF8URMXaIeQaTYZByP46rdlNSnIlLvGwpsOnEfbfvOxlMVfs+7gw8GPqxo3WBU0aMQ4MYNYNZ0HK1eCV5F8+J60bySQ7+kWD6c++kb4NhRsxgB5xV8P9t5KbvqxtPjKgKKgCKgCCgCiYUAc+lZoqn6y9UlpFfU6MuUw/DfRsDr9BkzSTUIqu1E2/J/ErB9e/dJ7WeG0XKCzprkJO2OCDq/X7liJd5s8qZ4F0lQihYpJmrkVIZn+LYstufkl5b2kOTQK3b96nWQiLMONPP5qaBN0jPmjzHiiYwOyydJPdXv/7IIYkWzp0WLgCSY3vkzXmdBz2ekZ1TaaH/+wH2SlNTT1/HAX/LoSbafeeZZ5M+XX4ggw6FlIe72sLcHiQnYsmkLWEqN2JcqWQrffP0NBvQfILXAmf/d/KPmZqOBEwYb4nnt6nUxCImRwd45n8bvLP3B1InmzZpLSUIaxVjejuX53PK7SQWG1159TVTao9x7Rn9a3TvsX+auM6qCiu6J7R2nh3vD+g1SLYKRNdQBYFUGUZc3+tfZMWhsr3/tIpBgpD5NOhlvNGA6XIxnHzcwAebw+5ryXohe/T63lJak4CYrPVCrwHrheyGyTv2zaSUahcKVTi8UyrPy1DNFrM4rdeQ56PQx4rDhM3HYx/4uFuMbSf3GE/eE1Lcd4IkfnpacenuohIUDd+4A8+ZgR40q2F/MDcfc8mJ3/lyYU6IwTvzSAzh5wt6e+p0ioAgoAoqAIpDqECCJGjpkqBBxhmPTs0pSzLzmnTt2ijefOa4krcZC8hoaEib5vMwtZ+32MqXLCKmjYBzztempjY4YUiF+xPARKP1CaTknJ/YUAWN45JbNW0S4j+cVkSnjxBYPOQkBBdcOHzoiRODlatWlfjeNEkUKF8FXX35lN5/fOIzx15bUs/Qa88DFU8zrfXzJxi7Rf2e9PT8b6+O9xdCR1KSeZJl1zt979z2ZSLPPv/3ft7h4/uJjR4b1tVi1P8pHi4eXxLBPrz7ImyeveOvLlimH2rVqS540w/JZEYD95cyyeuVq8UaT8Ek6gzPtcObAKX0by1hilAXz4EsULyFjvlzZcpZKDOYyjizTxwgZpnk8MX6N8WiCGMRI9saPHY/lS5cnujgdU3/G/jlWKkYwZYdRPszxj8ynT+n9lYzab5D6NM+kkaisTh07mdMEYri3+Mxneg3LVTJNhwbbrp91lagkh5fHx6bxrjBIffWaEsFFwxPfKyyHaSx8Fm1Yt0Giqxhl5Qyp53ZM84k9qWed+j5Sp57HYJWCxQsXG01xyV+Xkfo2fWfjqSf1zHG7ew++SxbD8/XGWFy5IlZWLIeFZUtjUrUq2D+wP3D27GPvvnrpXTLI9aCKgCKgCCgCyQcBEuwO7TvIBJsTt2eeeUbKZjX7qJl4walQzbxbTvDoMWGYPPPip/37H9q0biuqz/TIktAz5JrK8FHCf+1dqgk4ffI0fvzhJ8nFZtg+z50jew40bvSqeB9ZDompAPQMXTh/EWe9zko7WEt64oSJorbO/GKZcD5r3pdh/OvWrjfXOLd3XqvvzKS+X+R1R5L6cJagimHGa3Uc649Cpixk1/p74zM9qOac+opizOA1s2rA8WPHjU0S5S9z11laMFOGTJICQYVqRm08CgyK9flZsmuh50LUqF4D6dM9J8YdhlOnTZMOlSpUEiMNlc6dWQYOGCil2/4YPUbqe0cRHHPmAKl4GyM6hdULmrzeRPQKWL6O9x4Ncox2odBgkBNYkzz/8/c/eOftd8VIwNJ+TxgBXIQlr4Mimi1btMRz6TMgR7Yc6PJZFykvqP2d8KBv3bJN+vnZOJB6PnMZ/cF9DVJPbQeHizWph1n9vqZB6gu4oa9HX7DUpbEIqV9vS+r/se+pr1tfnvVxIvUR5jr1ND4WKlhYKpYoqTd6ISX/DQpG0KmTODJxPI6PHI6TQwbj1LBhOD52PPy2bAfu3gf4Mg+jSyAWIWgpGRNtuyKgCCgCisBTjQCJJj04VCs3VNH5l3nXJYqXBCdmnARxpSAdw93phSVxo5edYmj0tpGUsea3swSBhL3njz3NkQLPZbR47Z8TAwFLpVWvVh1UTmfoJcMlSRxZ4z57thwyMaMBgudnW5ifS2X9h/4PnTo/ST3z4QsWKCiaAvQw01hAYhElQiABRwZJPw0jzEEndpygss718WOJGyXI1IUD+w5IO4gfdQ3oUb9x/YZT2NlCcuzocXTt0k0IJo9H0TamQ1As76b3TdvNHf6faRsfNP1A0idiM44cHjAV/nD2zFn82ONHMYals4whGsMYln/H565T/UcthL8n/y3imPT8u5zUGzYyEySSYOJfEyVlgEYgRtfMnTPXKUNcKuxOl18SI5+Y6sRnJfVGOn/8SWRqVXQnp8edY+3Vxq/Kc4qknlolEtETzY6Rz04TQMMsqzEw3J1lLUnqAyiAaVlI6hnVlTtnbjEacCz8M8UOqT95WoQUeQ18ZlIM0mlPvaQEmOSaGQlGQU8agoXUL1JPvdEXKfMvvfVBQUCAv3nly58DLCAYCAgBQiOU1KfMntVWKwKKgCKgCMQVARNAATsKcZFEkyRTPI8hm5zMMbTdIBAsm0UPIb3rnGSR0JN0M4/d6YmW0U4TwEgBnve1xq+Jp94guzwv20CSKH/Tppd28Jz0HKWT357DS5VewuCBg3HsyLFYEYMHfmZSz1JgzAcvX7Y8/pow8bGCtUFEjLYm0F/WFC9frnykp56l+Bj9kJgLDRcM02bqBEukEeOm7zXFju07JLXCWaOM0ebbt26DJdZYq5vjhHjmy5sf8+bMi5WyupJ6A1HHf5mWwCoNlV+sLB56Gk9ojCNRdrbfkoTU018WEoZ9e/ZJ+UmOERojWrVoJc8AZ9vuGBn9xR4CDL9/792m8uykiCmjsiTNIYbnG9OQKDZqkHq+A/isOnP6TPTjzDgu9TY2bwGjgPi8pvGUwqxS1cLSUBoXhdTnyiNkvZBbIUz5e8oTnnoanevWqStknM9/6naIIcreBdt8J+kAEeaUE3rqaTjgu4NG4iWLlthsnbD/1fD7hMXT7tFM4STu4QD/suQHvfIh7HErYT0K5Wn4vV389EtFQBFQBBSB1IcAPSwUKGIuPUu00fNXtkxZ5GcJrVx5pAY2iTwn4hRXe77k8xLWOXjQEDDEk8ROytLFEhqelwJZBw8cFLLCSefLVV8GPfUF8heQ0ncknZkzZZbSewyfpKeb9aGpB8D0AJ/bd0QISbxETr67qSY+dsxYiTyoWKEi3n7rbcyfN9/87uc1GJPTWF5PdJuTTF84fwHvvPUOKpSrIFoEP/f8RVIbotvPFb9xYr9t63YxijCvmR4sGkfEQx5NCoG9ttDjtmb1WtSrW09IfdbMWdG4YWOnythZH09JvTUa9j+TbJEIGZoIJFsUuzx86PDjfGb7u0Z+m+ik3nJmltGj4YzRNryfed/R8JPYQn2RQDwFH6jOz5Kfo0aOwrix40DdCim9F9PzLcIcVcFqCsOHDcfokaOxfu16RApqxoAdBU8Zqv/ftOkY8dsI0SvZvXN3lHcEn9ck53+N/0uMgoweOXH8RJRteJr7d++LmOfvw38XIVemCsWY4mXTPpJ7Gjho/OK1sHIJSz+6ckk0Uh9I0soOtVpNDnRhXHnBrj62vTHL7x5RKMQijM8o+wjrUHu+zORL17zUXX3NenxFQBFQBBQBRSDWCFhemJyMkaDTe7xuzTrMnT1XyDa9HL/8/It45GfOmIU1q9bgyOEjuHXzNiheF598WE7ugoNCRHyP4Z3bt22H54KFmDZ1mhgYGCbPMmyTJ03GrJmzJayTeegk81EmqFZzmhivn+XdrnlLfu+e3XvlWnjdrl6I1eGDh6UmN/UBLl64GKsIg4RqH/uL9cl7/vSzeHqZm92oYSMsWrgYJH2R80NnTmiCTJhZ0o6RFoz0YKhrbCfeSuqdADsCIDlq07qNlIJjWDPFIf39/M2lAO1NfG0OmxSkniUfN2/aIuUrGe1Dg123rt1w7co1lxjQbC75qf0vn62BDwPlXmR0klNihJbnKPdlDjyJPEtS8tkVZYlurDEyIzRMxiUrLfAYsr/NPjwHnxM8Po3K8jyPchLIuOaz6u6de7Idr0H0S2y2s/tfq/Ox4gvPwfMxTStKlQi7O8fvy8Qj9QaJtXQcH96pkdQ76o5oDfnEJNoNHB1Vv1cEFAFFQBFQBFIBAjIhC5cJICeCzNVl+TgqnZNI+/k+kN/CQjmZSOCFWXKPgmQSyMkgibb39Ru4eeOWKKL73feznDss3mSAxJbXwMmneAtj6aGO65VzQmqsMt+I64Hiu58JOLj/IN59511RxmbIPAnioYOH7SuoOzgfhfAWzFuAFyu9KOJnTGVYt3ad3Qm6g0PI11FI/cXLj6MmotvpKfuNxGiR5yI0qN9Q0mAoRkhvqpAcJ+euLif1VkTK6B4a6zzcPVCyRClkzpRF0nxWLF/xuISlsaH+TR4I2OnD5NGwlNMKJfXJoa8MQ0dyaIu2QRFQBBQBRUARUAQUARchQA/Yv1P/RY2Xa4g+AkOihw4eiksXLjkdfXH54mW49/EQwSumZ7Rp1UbC+E2xNJJYk/pLF3l+F110Cj4sxQyHDB6C50s9L4aY95u+L+KLgpWTRMzlpN4GXxoB/5v2HxrUbyBjjMYfhoNr2UIboPS/qQoB15F6j9lo039BZJ36wKfcU5+qRo1ejCKgCCgCioAioAgoAnFBgGkI173Rz6Of5PizNCGFD1nyjBEakXWnHRybIaz0yr/91juies9qCdRkeCJU18H+1l+T1JOkUnSRhoIkjWKwblhy+WwCdmzbIaH3NJ6ULFESv/7SS8KrJV3CyXYmJqnnOFi1YhVaNm8pWhwUKvv6y69jFlxz8lp0M0UguSLgMlLf2mNWJKk/cO4elNQn1yGg7VIEFAFFQBFQBBQBRSBxEThy6Ai++PwLUbDPmzsvmr7bFIsWLgIFBR0tTF8g+R7Qf4AIG7IEYuNGjSW/3tE+0X0fhdTHojRidMdMTb/dunkLI4aPEIE5Cs3R+MK69bFdEovUk9Bv27INH3f6GEWLFEWhgoXQrm07bFi/QdJeYttu3V4RSEkIuI7Uu5PUzxdP/YHz95XUp6RRoW1VBBQBRUARUAQUAUXAFQhYQrYpULV502Z89mkXIeiscNCieUts3rhZRAx5agpu+dzyEbEqCluxjjXLq1H1niSTnuNev/bCvTv34tTSqKT+Srw1E+LUiOSwkwkS6UA9CYp6UWSMOelTJk+RqgLZs2UXkvztN9+ay8HFss2JQeqpUcESiZ99+hmKFC4qdcpZvm75suXOibXF8pp0c0UguSHgElK/4cQ9tOozE637zcePoxfioJL65Nbv2h5FQBFQBBQBRUARUAQSHwEjD9siUGgm9iRiRVC4YGF889U3IlbInG2q9k8YNwHT/p0m9aSpnF+9WnWwVjoV7z94/0Ns37o9ztcgpP49c/i91KE22hbnI6bMHSncyHJbNJjM+G+G5KP/+suvUuoxc8bMIKlnugO99FQPj+3iclJvAvwf+MOjjweYjkED0UcffITFixbL97Ftr26vCKREBFxM6ufhx9GeSupT4sjQNisCioAioAgoAoqAIuBKBOghfhSMrVu2omuXrnil9itSmu6uz10hjyxlWPqF0ihWpJjUtc+SOQvSp0uPbFmyoW6depj6z1TZP65NJKlv+l5TjBk9RupXxyZPPK7nTI77sfzbmtVr8EKpF1CsaHEULFAQmTJkQto0aUVojqKGo0eNlkoUbH9sBQVdTuoZ1REQKPXA67xSB61btRZCz3EUn9KXybGvtE2KgCMEXEbqW/aegdb9lNQ7Al6/VwQUAUVAEVAEFAFFQBEAHgU8woH9B4SInT93QSCJCDdh3tx5KFu6LCimx7r2JPX58uZDg3oNhIjf8L4RL/isSf3Vy1fjdayUvDNTIdavXY+yZcoiS6YsUo8+a5asgnXdOnUlr/6CpV/icp0uJ/WWCIsb3jel1OHePXvB0phPq5EmLn2k+6R8BBKF1B+64ItHqn6f8keLXoEioAgoAoqAIqAIKAIJgQCJmGWlN5U50VzluwiAIeG7duxC967dQe9r3VfqolOHThg6ZCi2bN4intn4NkNJvRlBCsydOHYCX37+JWrXqo2Xq72M9u3aY+CAgSIyd//e/XhBLaR+0t945+134N7b3XVRESYgPIyEQxdF4OlDQEn909fnesWKgCKgCCgCioAioAgkbwRI0ELDcfuWjwjk0VNMIbeAh4FC+CWsOp458FTRZ/j96JGj8dR66k1mAwrTILyveQu5v3jhouBOrONNkk0QobpJf01CkzeaSHqF6Bck79GnrVMEUhwCSupTXJdpgxUBRUARUAQUAUVAEXgKEDAxf9skxJLkMpLIG17+eEKweOFiCS1fvXI1mH/9tC8UwWMoflhIGJj+kFDh66HBoeLxHzJ4KGbPmh3nagVPe//o9SsC0SGgpD46dPQ3RUARUAQUAUVAEVAEFIFUiQDLt7EWO/Ov46LqnqpAiWfUg0MsLAYYfz9/3Lh+Qwi9GGcc7qA/KAKKQFwQUFIfF9R0H0VAEVAEFAFFQBFQBBQBRUARcB4Ba8OB9Wfnj6BbKgKKgAMElNQ7AEa/VgQUAUVAEVAEFAFFQBFQBBQBRUARUASSOwJK6pN7D2n7FAFFQBFQBBQBRUARUAQUAUVAEVAEFAEHCCipdwCMfq0IKAKKgCKgCCgCioAioAgoAoqAIqAIJHcElNQn9x7S9ikCioAioAgoAoqAIqAIKAKKgCKgCCgCDhBQUu8AGP1aEVAEFAFFQBFQBBQBRUARUAQUAUVAEUjuCCipT+49pO1TBBQBRUARUAQUAUVAEVAEFAFFQBFQBBwgoKTeATD6tSKgCCgCioAioAgoAoqAIqAIKAKKgCKQ3BFQUp/ce0jbpwgoAoqAIqAIKAKKgCKgCCgCioAioAg4QEBJvQNg9GtFQBFQBBQBRUARUAQUAUVAEVAEFAFFILkjoKQ+ufeQtk8RUAQUAUVAEVAEFAFFQBFQBBQBRUARcICAa0l933n4cbQnDl3wxaNwAKaoq8lk/spB2/RrRUARUAQUAUVAEVAEFAFFQBFQBBQBRUARiAaBhCP1AMjbfUOBjcfvoVXvGWhtIfUHz99HoJL6aLpBf1IEFAFFQBFQBBQBRUARUAQUAUVAEVAEYo+Ay0h96z4z0EZJfex7RPdQBBQBRUARUAQUAUVAEVAEFAFFQBFQBJxEwGlSbxM5HyWS3jhXmJWnvnWfmWjbb76E36un3kBI/yoCioAioAgoAoqAIqAIKAKKgCKgCCgCCYeAU6Q+OkJv/ZtdUj/KEwfO3dPw+4TrMz2SIqAIKAKKQEpFQF6aFkGZCIvOTEq9Fm23InyuWA0AAAlUSURBVKAIKAKKgCKgCCQLBBKU1Idaeerb9JmJdvTUj/LEfiX1yaKztRGKgCKgCCgCSYQAeXwEQIFYWQyLeBI1R0+rCCgCioAioAgoAqkHAadIfUyXy7kJHQ4k9fctQnltldTHBJv+rggoAoqAIvAUIMD3Y1Ao8CDQhIBgE0IizO/Mp+DS9RIVAUVAEVAEFAFFIBEQcAmp33T8Htq5z0L7fgvUU58InainUAQUAUVAEUieCJDQB4QCpy75YdPeSzh05i6u+wH+oUCoScl98uw1bZUioAgoAoqAIpCyEEgQUs9LtvbUK6lPWYNAW6sIKAKKgCLgGgSoNXPOOxBjZ2zGN/1n46ffFmLSwsPYe9oPdwKAoHAl9q5BXo+qCCgCioAioAg8PQgoqX96+lqvVBFQBBQBRSAREWBqGtPSvK4HYviU9fi833x81mcuuvVfiN5jVmH6iiM4ejFAvPbhFuN4IjZPT6UIKAKKgCKgCCgCqQSBFEfqDW0h/YsoZQUVD8VDx4COAR0DiTsGYpoHsD8YxeYTACzZeh7u49agS7/5aNdnPjq4z0fXwUvgMXEj5m06i1PeYfAPNxsBYjqu/q4IKAKKgCKgCCgCioA1AglC6jlpYYhhMIB7IpTnh3buc9C+nyd+HLUI+8754aElxJCTHC4RJiDMBBjeCR4jppXbcuW5dFUMdAzoGNAxoGMgqcaA8T6K7r3Fbeip9zcBF3yBjScD8edSL3w1ZjPa9FuG5n2Wo13fJfh6xEqMmLkTq/ZcwXVfc64935OGUcD81tR/FQFFQBFQBBQBRUARsI9AFFLPCcSjCOB+CHA/GPALBXxDzYr2VLUnYZc1BLjLNdi83gkCfIKA28HAZX9g9eFAtP51Ptp5LEWPUaux5VQgrj0EfB6Z1zuWv7cfAVyN72P6e5vncGL1CQaiW+8EA5FrCHBHV8VAx4COAR0DOgZiOQbkPWi8D+385bvFJxS4EQJcDgFOPQQ2XgL+3n4Xvf47ho+HbkZrjxVo5b4YnwxcjJ/HrsbfSw7iwDk/+DwEQizGbsMYbv81rt8qAoqAIqAIKAKKwNOOQCSp56SBXgWv6w+wZMcFzF53HLPXn8Cs9acxc/1ZzFh/DjPk71lMX29Z153F9HVnMH3tecxYewkz1l7G1JUXMXzWCbTtvRzt3Fej++DVGD3/JKatuYAZa70SYT2DmevO2l1nrD0DWddZ/hr/179mXBQHxUHHgI4BHQMJNwbWeWH6ulOYtv4U/lnvhckbzmLcuvMYuuQ0fphyAB8P3YIWHmvxofsaNOuzHG09FqHb4EX4bfp2LNpyBicv+8MvEAhXVv+0z9X0+hUBRUARUAQUgWgRiCT1DCFkmOCmw9fhPnE9vhy6EJ8PXYxuQ5ag29Dl6GpZuw1dga6yLgc/m/+/Cl2HrEa3oWvRZfAafDxwHdr0XY/WHhvQzmM1ugxeh+5D1+DzoSsSYV2JL4bZX63P333IcuiqGOgY0DGgY0DHgKvGQLchy9B1yBJ0GboEnw5djk+GrkbnYWvRadh6tBu8ES36bcSHHuvxgft6fOi+Gs37LEWr3vPRud9c/PTHUvw1fwe2HbwEH1/67HVRBBQBRUARUAQUAUXAPgJRSD1z4lfuv4lvRm9Ea/claO6+As3cV6I5JxvG6rEGzd25rkZzfvZYg2bua/CR+1o081iP5h4b0Mx9I5r33SJrC49NaNV3E1p6rENL9zWJsrbyWAt7a0uPNWhp+U0+G+2R7/mbroqBjgEdAzoGdAwk1BhYjRYeK9HCYxWay/txE5p7cN2ID9w34j3L+r77ZnzgsUE89h+5L0OLPp7o1H8Bfhm7AnPXHsPFmwH23+D6rSKgCCgCioAioAgoAgCikHoKDu057YM/5+9D/ymb4TF5G/pN2YG+U3ai7z+OV48pO+E+ZRfc/96DPn/vx/9G70Br9zVo5b4WHQeswQ8TdsNjyl70n7LDZt2J/lMSfh3wzy44WgdO3YWBU3dHWQf9uxu6KgY6BnQM6BjQMZCQY0DeN//uwIB/d6L/1D3oN3U/+v57GL3+OYyv/tyHtoO24oM+68Rb36wvjeVL0aavJ7oOWYi+k9diztojOHLOB74BjKXTRRFQBBQBRUARUAQUAfsIPMNUPev1XqAJF3xCcPZGMM5cD8EZ7xCcuRECrxvB0awh8PIOxSlvEw5cCMf0tVfwSd9laNtrMb4avgKeu2/i8NUwnPUOtlpDcO6GK9ZQnL+pq2KgY0DHgI4BHQNJOwbkHXczGGdvBMHLOwQnr4dh/6VwrD4agPErruCbMXvRqu8aNOu7Gi37rUDHgUvQ48/VmLBoH3aduo3bDyIQRrEbXRQBRUARUAQUAUVAEYgGASH19AEYOjxGCR567Y1SPfwuutUoKcSsvwfhwOZjAfi072K077MIPUYtx46z/qKaHxIBRK4mc9meUKu/ISar3623jcVn6+Pp5ycxVkwUEx0DOgZ0DLh2DBjvROrU8L3I1Da/MOCaH7D1VAAmLD+FHmM3o+OAVWjrsRQdByzBlyNWYOj0HVhz8Aau+EHKwAZHmMu/RvMO158UAUVAEVAEFAFFQBHAMwZxtyb1nJDEZSHx9w8Bth33R0f3BejQdzF++mMZ9p1/IBMU64iAuBxf91EEFAFFQBFQBFIKAny/ktgHmoDT10MwZ60Xfh27Fp36e6KNxwK06b8UXYcuRb+/N2Hhtgu4dBfwDwUMo3qYSZXvU0pfazsVAUVAEVAEFIGkROAJUm8m+QbFB0ymx5+NhvKrCNNj777xPff1Dwa2nXiAj/t5oq2HJ37+YykOnLuPwLhaCoyD619FQBFQBBQBRSCFIcBX3y3/CPyzcCe+HzIfnfvMRHv3+fhk0EL0GLcef688icOXg+EXCgSEQMLt7bx2U9hVa3MVAUVAEVAEFAFFIDEREKE8a9pueNPj0giSer9gYOsJP3SKJPVLcODcPQTQXWG2GJj/GidK6L9xabjuowgoAoqAIqAIuACBYBNw6oovBo1fgi/7zUY3j9noMXIVJi45gh1e93HVzxzhRq+8LoqAIqAIKAKKgCKgCMQFgUj1+7jsbLuPkPoQYIs9Uk93RUITeHvHs22U/l8RUAQUAUVAEUgiBPjq8/aNwJxVRzDi3634a8FBrNrrgzM3wsUIrmQ+iTpGT6sIKAKKgCKgCKQiBP4P4jJV5GH51hwAAAAASUVORK5CYII=)\n",
        "![image.png](data:image/png;base64,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)\n",
        "R Squared = 1- (SSR/SST)\n",
        "\n",
        "where,\n",
        "SSR = Sum of Squared Residuals\n",
        "\n",
        "SST = Sum of Squared Total\n",
        "\n",
        "Adjusted R Squared= 1 — [(1 — R Squared) * ((n-1) / (n-p-1))]\n"
      ],
      "metadata": {
        "id": "74BPorSrQHks"
      }
    },
    {
      "cell_type": "markdown",
      "source": [
        "### **R2 Scored**"
      ],
      "metadata": {
        "id": "tDuw3giMQcly"
      }
    },
    {
      "cell_type": "code",
      "source": [
        "rsquared = model.score(x_test, y_test)\n",
        "print(rsquared)"
      ],
      "metadata": {
        "colab": {
          "base_uri": "https://localhost:8080/"
        },
        "id": "Dlcfc5lGQhn0",
        "outputId": "9291df6b-1b04-4d2f-9f49-457751cd925b"
      },
      "execution_count": 20,
      "outputs": [
        {
          "output_type": "stream",
          "name": "stdout",
          "text": [
            "0.08557014199167645\n"
          ]
        }
      ]
    },
    {
      "cell_type": "markdown",
      "source": [
        "### **Adjusted R2 of the Model**"
      ],
      "metadata": {
        "id": "mKSPxYuSQk-Y"
      }
    },
    {
      "cell_type": "code",
      "source": [
        "n=len(dataset) #Length of Total dataset\n",
        "p=len(dataset.columns)-1 #length of Features\n",
        "adjr= 1-(1-rsquared)*(n-1)/(n-p-1)\n",
        "print(adjr)"
      ],
      "metadata": {
        "colab": {
          "base_uri": "https://localhost:8080/"
        },
        "id": "5ZWBi9EIQpOk",
        "outputId": "1f422a03-1ace-4932-d3f4-a89715805ef4"
      },
      "execution_count": 21,
      "outputs": [
        {
          "output_type": "stream",
          "name": "stdout",
          "text": [
            "0.08494296101910559\n"
          ]
        }
      ]
    },
    {
      "cell_type": "markdown",
      "source": [
        "### **Prediction**"
      ],
      "metadata": {
        "id": "ltTCh-IRQsJb"
      }
    },
    {
      "cell_type": "code",
      "source": [
        "x=6500\n",
        "LandAreainSqFt=[[x]]\n",
        "PredictedmodelResult = model.predict(LandAreainSqFt)\n",
        "print(PredictedmodelResult)"
      ],
      "metadata": {
        "colab": {
          "base_uri": "https://localhost:8080/"
        },
        "id": "zMQnK2DTQukW",
        "outputId": "b73f8582-0bee-428a-8b84-c7999e288cf1"
      },
      "execution_count": 22,
      "outputs": [
        {
          "output_type": "stream",
          "name": "stdout",
          "text": [
            "[173227.94685863]\n"
          ]
        },
        {
          "output_type": "stream",
          "name": "stderr",
          "text": [
            "/usr/local/lib/python3.10/dist-packages/sklearn/base.py:439: UserWarning: X does not have valid feature names, but LinearRegression was fitted with feature names\n",
            "  warnings.warn(\n"
          ]
        }
      ]
    }
  ]
}